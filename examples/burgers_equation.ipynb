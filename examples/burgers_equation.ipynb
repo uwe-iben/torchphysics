{
 "metadata": {
  "language_info": {
   "codemirror_mode": {
    "name": "ipython",
    "version": 3
   },
   "file_extension": ".py",
   "mimetype": "text/x-python",
   "name": "python",
   "nbconvert_exporter": "python",
   "pygments_lexer": "ipython3",
   "version": "3.9.4"
  },
  "orig_nbformat": 4,
  "interpreter": {
   "hash": "5471d372aecbf763f050aece93ed861d8318175083d9494b12a3b32f7831ffe8"
  },
  "kernelspec": {
   "name": "python3",
   "display_name": "Python 3.9.4 64-bit ('bosch': conda)"
  }
 },
 "nbformat": 4,
 "nbformat_minor": 2,
 "cells": [
  {
   "cell_type": "code",
   "execution_count": 1,
   "source": [
    "import torch\n",
    "import numpy as np\n",
    "import pytorch_lightning as pl\n",
    "from timeit import default_timer as timer\n",
    "\n",
    "from torchphysics.problem import Variable\n",
    "from torchphysics.setting import Setting\n",
    "from torchphysics.problem.domain import (Rectangle,\n",
    "                                           Interval,\n",
    "                                           Circle)\n",
    "from torchphysics.problem.condition import (DirichletCondition,\n",
    "                                              DiffEqCondition,\n",
    "                                              DataCondition)\n",
    "from torchphysics.models.fcn import SimpleFCN\n",
    "from torchphysics import PINNModule\n",
    "from torchphysics.utils import laplacian, jac, convective\n",
    "from torchphysics.utils.fdm import FDM, create_validation_data\n",
    "from torchphysics.utils.plot import Plotter\n",
    "from torchphysics.utils.evaluation import (get_min_max_inside,\n",
    "                                             get_min_max_boundary)\n",
    "from torchphysics.setting import Setting\n",
    "\n",
    "os.environ[\"CUDA_VISIBLE_DEVICES\"] = \"2\" # select GPUs to use\n",
    "\n",
    "#pl.seed_everything(43) # set a global seed\n",
    "torch.cuda.is_available()"
   ],
   "outputs": [
    {
     "output_type": "execute_result",
     "data": {
      "text/plain": [
       "True"
      ]
     },
     "metadata": {},
     "execution_count": 1
    }
   ],
   "metadata": {}
  },
  {
   "cell_type": "code",
   "execution_count": 2,
   "source": [
    "w, h = 2, 1\n",
    "t0, tend = 0, 20\n",
    "Re = 50\n",
    "\n",
    "u = 'u'"
   ],
   "outputs": [],
   "metadata": {}
  },
  {
   "cell_type": "code",
   "execution_count": 3,
   "source": [
    "from torchphysics.problem.domain.domain_operations import Cut\n",
    "\n",
    "R = Rectangle(corner_dl=[0, 0], corner_dr=[w, 0], corner_tl=[0, h])\n",
    "C = Circle([w/3,0], h/3)\n",
    "\n",
    "x = Variable(name='x',\n",
    "             order=2,\n",
    "             domain=Cut(R,C),\n",
    "             train_conditions={},\n",
    "             val_conditions={})\n",
    "t = Variable(name='t',\n",
    "             order=1,\n",
    "             domain=Interval(low_bound=0,\n",
    "                             up_bound=tend),\n",
    "             train_conditions={},\n",
    "             val_conditions={})"
   ],
   "outputs": [],
   "metadata": {}
  },
  {
   "cell_type": "code",
   "execution_count": 4,
   "source": [
    "norm = torch.nn.MSELoss()\n",
    "# at start: erverything 0\n",
    "def t_dirichlet_fun(**input):\n",
    "    return np.zeros_like(input['x'])\n",
    "\n",
    "t.add_train_condition(DirichletCondition(dirichlet_fun=t_dirichlet_fun,\n",
    "                                         solution_name=u,\n",
    "                                         whole_batch=True,\n",
    "                                         name='dirichlet',\n",
    "                                         norm=norm,\n",
    "                                         dataset_size=500,\n",
    "                                         boundary_sampling_strategy='lower_bound_only',\n",
    "                                         data_plot_variables=('x','t')))\n",
    "# at boundary: flow dependent on time (left into the domain, right out of the domain)\n",
    "# y component always zero\n",
    "# at points where this function returns None, no boundary condition will be applied\n",
    "def x_dirichlet_fun(x, t):\n",
    "    out = np.zeros(2)\n",
    "    if np.isclose(x[0], 0):\n",
    "        out[0] = 5*x[1]*(h-x[1])*(1-np.exp(-t))\n",
    "        return out\n",
    "    if not np.isclose(x[0], w):\n",
    "        return out\n",
    "\n",
    "x.add_train_condition(DirichletCondition(dirichlet_fun=x_dirichlet_fun,\n",
    "                                         solution_name=u,\n",
    "                                         whole_batch=False, # this enables us to use point-wise defined dirichlet_fun\n",
    "                                         name='dirichlet',\n",
    "                                         sampling_strategy='grid',\n",
    "                                         boundary_sampling_strategy='grid',\n",
    "                                         norm=norm,\n",
    "                                         weight=1.0,\n",
    "                                         dataset_size={'x': 200, 't': 10},\n",
    "                                         data_plot_variables=('x','t')))"
   ],
   "outputs": [],
   "metadata": {}
  },
  {
   "cell_type": "code",
   "execution_count": 5,
   "source": [
    "def pde(u, x, t):\n",
    "    jac_t = jac(u, t).squeeze(dim=2) # time derivative of first and second output\n",
    "    conv = convective(u, x, u) # convection term\n",
    "    l_1 = laplacian(u[:, 0], x)\n",
    "    l_2 = laplacian(u[:, 1], x)\n",
    "    laplace_vec = torch.cat((l_1, l_2), dim=1) # put laplace in one vector\n",
    "    return jac_t + conv - 1/Re * laplace_vec\n",
    "\n",
    "train_cond = DiffEqCondition(pde=pde,\n",
    "                             name='pde',\n",
    "                             norm=norm,\n",
    "                             weight=1.0,\n",
    "                             dataset_size=3000,\n",
    "                             data_plot_variables=('x','t'))"
   ],
   "outputs": [],
   "metadata": {}
  },
  {
   "cell_type": "code",
   "execution_count": 6,
   "source": [
    "setup = Setting(variables=(x, t),\n",
    "                train_conditions={'pde': train_cond},\n",
    "                val_conditions={},\n",
    "                solution_dims={'u': 2},\n",
    "                n_iterations=500)"
   ],
   "outputs": [
    {
     "output_type": "stream",
     "name": "stdout",
     "text": [
      "Warning: 330 values will be removed from the data because\n",
      "                  the given data_fun evaluated to None or NaN. Please make sure this is\n",
      "                  the desired behaviour.\n"
     ]
    }
   ],
   "metadata": {
    "tags": []
   }
  },
  {
   "cell_type": "code",
   "execution_count": 7,
   "source": [
    "solver = PINNModule(model=SimpleFCN(variable_dims=setup.variable_dims,\n",
    "                                    solution_dims=setup.solution_dims,\n",
    "                                    depth=4,\n",
    "                                    width=20),\n",
    "                    optimizer=torch.optim.Adam,\n",
    "                    lr=1e-3,\n",
    "                    #log_plotter=plotter\n",
    "                    )"
   ],
   "outputs": [],
   "metadata": {}
  },
  {
   "cell_type": "code",
   "execution_count": 8,
   "source": [
    "trainer = pl.Trainer(gpus='-1' if torch.cuda.is_available() else None,\n",
    "                     logger=False,\n",
    "                     num_sanity_val_steps=0,\n",
    "                     benchmark=True,\n",
    "                     check_val_every_n_epoch=50,\n",
    "                     log_every_n_steps=10,\n",
    "                     max_epochs=6,\n",
    "                     checkpoint_callback=False\n",
    "                     )\n",
    "\n",
    "trainer.fit(solver, setup)"
   ],
   "outputs": [
    {
     "output_type": "stream",
     "name": "stderr",
     "text": [
      "GPU available: True, used: True\n",
      "TPU available: False, using: 0 TPU cores\n",
      "LOCAL_RANK: 0 - CUDA_VISIBLE_DEVICES: [2]\n",
      "\n",
      "  | Name  | Type      | Params\n",
      "------------------------------------\n",
      "0 | model | SimpleFCN | 1.8 K \n",
      "------------------------------------\n",
      "1.8 K     Trainable params\n",
      "0         Non-trainable params\n",
      "1.8 K     Total params\n",
      "0.007     Total estimated model params size (MB)\n",
      "Epoch 5: 100%|██████████| 500/500 [00:17<00:00, 29.13it/s, loss=0.00635]\n"
     ]
    }
   ],
   "metadata": {}
  },
  {
   "cell_type": "code",
   "execution_count": 9,
   "source": [
    "solver.optimizer = torch.optim.LBFGS\n",
    "solver.lr = 1\n",
    "\n",
    "trainer = pl.Trainer(gpus='-1' if torch.cuda.is_available() else None,\n",
    "                     logger=False,\n",
    "                     num_sanity_val_steps=0,\n",
    "                     benchmark=True,\n",
    "                     check_val_every_n_epoch=50,\n",
    "                     log_every_n_steps=10,\n",
    "                     max_epochs=1,\n",
    "                     checkpoint_callback=False\n",
    "                     )\n",
    "\n",
    "trainer.fit(solver, setup)"
   ],
   "outputs": [
    {
     "output_type": "stream",
     "name": "stderr",
     "text": [
      "GPU available: True, used: True\n",
      "TPU available: False, using: 0 TPU cores\n",
      "LOCAL_RANK: 0 - CUDA_VISIBLE_DEVICES: [2]\n",
      "\n",
      "  | Name  | Type      | Params\n",
      "------------------------------------\n",
      "0 | model | SimpleFCN | 1.8 K \n",
      "------------------------------------\n",
      "1.8 K     Trainable params\n",
      "0         Non-trainable params\n",
      "1.8 K     Total params\n",
      "0.007     Total estimated model params size (MB)\n",
      "Epoch 0: 100%|██████████| 500/500 [04:57<00:00,  1.68it/s, loss=2.53e-05]\n"
     ]
    }
   ],
   "metadata": {}
  },
  {
   "cell_type": "code",
   "execution_count": 12,
   "source": [
    "from torchphysics.utils.plot import _plot\n",
    "fig = _plot(model=solver.model, solution_name=u, plot_variables=x, points=500,\n",
    "            dic_for_other_variables={'t' : 10}, plot_type='contour_surface') # = 'quiver_2D' for vectors\n",
    "fig.axes[0].set_box_aspect(1/2)"
   ],
   "outputs": [
    {
     "output_type": "display_data",
     "data": {
      "text/plain": [
       "<Figure size 432x288 with 2 Axes>"
      ],
      "image/png": "[encoded data removed]"
     },
     "metadata": {
      "needs_background": "light"
     }
    }
   ],
   "metadata": {}
  },
  {
   "cell_type": "code",
   "execution_count": 9,
   "source": [
    "%load_ext autoreload\n",
    "%autoreload 2\n",
    "from torchphysics.utils.animation import animation\n",
    "fig, ani = animation(model=solver.model, solution_name=u, plot_variables=x, domain_points=400, \n",
    "                animation_variable=t, frame_number=100, ani_type='contour_surface') # = 'quiver_2D' for vectors\n",
    "fig.axes[0].set_box_aspect(1/2)\n",
    "ani.save('flow.gif')"
   ],
   "outputs": [
    {
     "output_type": "stream",
     "name": "stderr",
     "text": [
      "MovieWriter ffmpeg unavailable; using Pillow instead.\n"
     ]
    },
    {
     "output_type": "display_data",
     "data": {
      "text/plain": [
       "<Figure size 432x288 with 2 Axes>"
      ],
      "image/png": "[encoded data removed]"
     },
     "metadata": {
      "needs_background": "light"
     }
    }
   ],
   "metadata": {}
  },
  {
   "cell_type": "code",
   "execution_count": null,
   "source": [],
   "outputs": [],
   "metadata": {}
  }
 ]
}