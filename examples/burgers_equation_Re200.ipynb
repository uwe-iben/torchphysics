{
 "cells": [
  {
   "cell_type": "code",
   "execution_count": 1,
   "metadata": {},
   "outputs": [],
   "source": [
    "from IPython.display import Image"
   ]
  },
  {
   "cell_type": "code",
   "execution_count": 2,
   "metadata": {},
   "outputs": [
    {
     "data": {
      "text/plain": [
       "False"
      ]
     },
     "execution_count": 2,
     "metadata": {},
     "output_type": "execute_result"
    }
   ],
   "source": [
    "import torch\n",
    "import os\n",
    "import numpy as np\n",
    "import pytorch_lightning as pl\n",
    "from timeit import default_timer as timer\n",
    "\n",
    "from torchphysics.problem import Variable\n",
    "from torchphysics.setting import Setting\n",
    "from torchphysics.problem.domain import (Rectangle,\n",
    "                                           Interval,\n",
    "                                           Circle)\n",
    "from torchphysics.problem.condition import (DirichletCondition,\n",
    "                                              DiffEqCondition,\n",
    "                                              DataCondition)\n",
    "from torchphysics.models.fcn import SimpleFCN\n",
    "from torchphysics import PINNModule\n",
    "from torchphysics.utils import laplacian, jac, convective\n",
    "from torchphysics.utils.fdm import FDM, create_validation_data\n",
    "from torchphysics.utils.plot import Plotter\n",
    "from torchphysics.utils.evaluation import (get_min_max_inside,\n",
    "                                             get_min_max_boundary)\n",
    "from torchphysics.setting import Setting\n",
    "\n",
    "os.environ[\"CUDA_VISIBLE_DEVICES\"] = \"0\" # select GPUs to use\n",
    "\n",
    "#pl.seed_everything(43) # set a global seed\n",
    "torch.cuda.is_available()"
   ]
  },
  {
   "cell_type": "code",
   "execution_count": 3,
   "metadata": {},
   "outputs": [],
   "source": [
    "w, h = 3, 1\n",
    "t0, tend = 0, 15\n",
    "Re = 200\n",
    "\n",
    "u = 'u'"
   ]
  },
  {
   "cell_type": "code",
   "execution_count": 4,
   "metadata": {},
   "outputs": [
    {
     "data": {
      "image/png": "[encoded data removed]",
      "text/plain": [
       "<Figure size 1080x360 with 1 Axes>"
      ]
     },
     "metadata": {
      "needs_background": "light"
     },
     "output_type": "display_data"
    }
   ],
   "source": [
    "from torchphysics.problem.domain.domain_operations import Cut\n",
    "\n",
    "R = Rectangle(corner_dl=[0, 0], corner_dr=[w, 0], corner_tl=[0, h])\n",
    "#C1 = Circle([w/3,0], h/3)\n",
    "C2 = Rectangle(corner_dl=[1, 0], corner_dr=[1.2, 0], corner_tl=[1, 0.4])\n",
    "domain=Cut(R,C2)\n",
    "#domain=Cut(domain,C2)\n",
    "\n",
    "\n",
    "# Darstellung der Geometrie mit Punkten auf dem Rand (blau) und Punkte im Inneren (rot)\n",
    "import matplotlib.pyplot as plt\n",
    "from pylab import rcParams\n",
    "rcParams['figure.figsize'] = 5*w, 5*h #Skalierung mit der Grösse\n",
    "b = domain.sample_boundary(300, type='grid')\n",
    "k = domain.sample_inside(400, type='grid')\n",
    "plt.scatter(b[:, 0], b[:, 1])\n",
    "plt.scatter(k[:, 0], k[:, 1])\n",
    "plt.grid(True)\n",
    "plt.savefig('geometrie.png', dpi=300)\n",
    "\n",
    "\n",
    "x = Variable(name='x',\n",
    "             order=2,\n",
    "             domain=domain,\n",
    "             train_conditions={},\n",
    "             val_conditions={})\n",
    "t = Variable(name='t',\n",
    "             order=1,\n",
    "             domain=Interval(low_bound=0,\n",
    "                             up_bound=tend),\n",
    "             train_conditions={},\n",
    "             val_conditions={})"
   ]
  },
  {
   "cell_type": "code",
   "execution_count": 5,
   "metadata": {},
   "outputs": [],
   "source": [
    "norm = torch.nn.MSELoss()\n",
    "# at start: erverything 0\n",
    "def t_dirichlet_fun(**input):\n",
    "    return np.zeros_like(input['x'])\n",
    "N_bc = 1000\n",
    "t.add_train_condition(DirichletCondition(dirichlet_fun=t_dirichlet_fun,\n",
    "                                         solution_name=u,\n",
    "                                         whole_batch=True,\n",
    "                                         name='dirichlet',\n",
    "                                         norm=norm,\n",
    "                                         dataset_size=N_bc,\n",
    "                                         boundary_sampling_strategy='lower_bound_only',\n",
    "                                         data_plot_variables=('x','t')))\n",
    "# at boundary: flow dependent on time (left into the domain, right out of the domain)\n",
    "# y component always zero\n",
    "# at points where this function returns None, no boundary condition will be applied\n",
    "def x_dirichlet_fun(x, t):\n",
    "    out = np.zeros(2)\n",
    "    if np.isclose(x[0], 0):\n",
    "        out[0] = 5*x[1]*(h-x[1])*(1-np.exp(-t))\n",
    "        return out\n",
    "    if not np.isclose(x[0], w):\n",
    "        return out\n",
    "\n",
    "x.add_train_condition(DirichletCondition(dirichlet_fun=x_dirichlet_fun,\n",
    "                                         solution_name=u,\n",
    "                                         whole_batch=False, # this enables us to use point-wise defined dirichlet_fun\n",
    "                                         name='dirichlet',\n",
    "                                         sampling_strategy='grid',\n",
    "                                         boundary_sampling_strategy='grid',\n",
    "                                         norm=norm,\n",
    "                                         weight=1.0,\n",
    "                                         dataset_size={'x': 800, 't': 60},\n",
    "                                         data_plot_variables=('x','t')))"
   ]
  },
  {
   "cell_type": "code",
   "execution_count": 6,
   "metadata": {},
   "outputs": [
    {
     "data": {
      "text/latex": [
       "$\\displaystyle u_t + (u \\cdot \\nabla)u = \\frac{1}{Re} \\Delta u \\,, u=u(t,x,y) \\quad (x,y) \\in \\Omega$"
      ],
      "text/plain": [
       "<IPython.core.display.Math object>"
      ]
     },
     "metadata": {},
     "output_type": "display_data"
    }
   ],
   "source": [
    "from IPython.display import Image, Math, Latex\n",
    "from IPython.core.display import HTML \n",
    "display(Math(r'u_t + (u \\cdot \\nabla)u = \\frac{1}{Re} \\Delta u \\,, u=u(t,x,y) \\quad (x,y) \\in \\Omega'))"
   ]
  },
  {
   "cell_type": "code",
   "execution_count": 7,
   "metadata": {},
   "outputs": [],
   "source": [
    "def pde(u, x, t):\n",
    "    jac_t = jac(u, t).squeeze(dim=2) # time derivative of first and second output\n",
    "    conv = convective(u, x, u) # convection term\n",
    "    l_1 = laplacian(u[:, 0], x)\n",
    "    l_2 = laplacian(u[:, 1], x)\n",
    "    laplace_vec = torch.cat((l_1, l_2), dim=1) # put laplace in one vector\n",
    "    return jac_t + conv - 1/Re * laplace_vec\n",
    "\n",
    "train_cond = DiffEqCondition(pde=pde,\n",
    "                             name='pde',\n",
    "                             norm=norm,\n",
    "                             weight=1.0,\n",
    "                             dataset_size= {'x': 800, 't': 30},\n",
    "                             sampling_strategy = 'grid',\n",
    "                             data_plot_variables=('x','t'))"
   ]
  },
  {
   "cell_type": "code",
   "execution_count": 8,
   "metadata": {
    "tags": []
   },
   "outputs": [
    {
     "name": "stdout",
     "output_type": "stream",
     "text": [
      "Warning: 5520 values will be removed from the data because\n",
      "                  the given data_fun evaluated to None or NaN. Please make sure this is\n",
      "                  the desired behaviour.\n"
     ]
    }
   ],
   "source": [
    "setup = Setting(variables=(x, t),\n",
    "                train_conditions={'pde': train_cond},\n",
    "                val_conditions={},\n",
    "                solution_dims={'u': 2},\n",
    "                n_iterations=30)"
   ]
  },
  {
   "cell_type": "code",
   "execution_count": 9,
   "metadata": {},
   "outputs": [],
   "source": [
    "solver = PINNModule(model=SimpleFCN(variable_dims=setup.variable_dims,\n",
    "                                    solution_dims=setup.solution_dims,\n",
    "                                    normalization_dict=setup.normalization_dict,\n",
    "                                    depth=6,\n",
    "                                    width=50),\n",
    "                    optimizer=torch.optim.Adam,\n",
    "                    lr=1e-2,\n",
    "                    scheduler = {'class': torch.optim.lr_scheduler.ExponentialLR,'args': {'gamma': 0.1}}\n",
    "                    #log_plotter=plotter\n",
    "                    )"
   ]
  },
  {
   "cell_type": "code",
   "execution_count": 10,
   "metadata": {},
   "outputs": [
    {
     "name": "stderr",
     "output_type": "stream",
     "text": [
      "GPU available: False, used: False\n",
      "TPU available: False, using: 0 TPU cores\n",
      "IPU available: False, using: 0 IPUs\n",
      "\n",
      "  | Name  | Type      | Params\n",
      "------------------------------------\n",
      "0 | model | SimpleFCN | 15.6 K\n",
      "------------------------------------\n",
      "15.6 K    Trainable params\n",
      "0         Non-trainable params\n",
      "15.6 K    Total params\n",
      "0.062     Total estimated model params size (MB)\n",
      "C:\\Users\\inu2sh\\Desktop\\Torch-Physics\\_venv\\lib\\site-packages\\pytorch_lightning\\trainer\\data_loading.py:105: UserWarning: The dataloader, train dataloader, does not have many workers which may be a bottleneck. Consider increasing the value of the `num_workers` argument` (try 8 which is the number of cpus on this machine) in the `DataLoader` init to improve performance.\n",
      "  rank_zero_warn(\n",
      "C:\\Users\\inu2sh\\Desktop\\Torch-Physics\\_venv\\lib\\site-packages\\pytorch_lightning\\trainer\\data_loading.py:105: UserWarning: The dataloader, val dataloader 0, does not have many workers which may be a bottleneck. Consider increasing the value of the `num_workers` argument` (try 8 which is the number of cpus on this machine) in the `DataLoader` init to improve performance.\n",
      "  rank_zero_warn(\n"
     ]
    },
    {
     "data": {
      "application/vnd.jupyter.widget-view+json": {
       "model_id": "f2c08ae6ccf64c9c8ca739d603791d57",
       "version_major": 2,
       "version_minor": 0
      },
      "text/plain": [
       "Training: -1it [00:00, ?it/s]"
      ]
     },
     "metadata": {},
     "output_type": "display_data"
    }
   ],
   "source": [
    "trainer = pl.Trainer(gpus='-1' if torch.cuda.is_available() else None,\n",
    "                     logger=False,\n",
    "                     num_sanity_val_steps=0,\n",
    "                     benchmark=True,\n",
    "                     check_val_every_n_epoch=50,\n",
    "                     log_every_n_steps=10,\n",
    "                     max_epochs=5,\n",
    "                     checkpoint_callback=False\n",
    "                     )\n",
    "\n",
    "trainer.fit(solver, setup)"
   ]
  },
  {
   "cell_type": "code",
   "execution_count": null,
   "metadata": {
    "scrolled": true
   },
   "outputs": [
    {
     "name": "stderr",
     "output_type": "stream",
     "text": [
      "GPU available: False, used: False\n",
      "TPU available: False, using: 0 TPU cores\n",
      "IPU available: False, using: 0 IPUs\n",
      "C:\\Users\\inu2sh\\Desktop\\Torch-Physics\\_venv\\lib\\site-packages\\pytorch_lightning\\core\\datamodule.py:423: LightningDeprecationWarning: DataModule.setup has already been called, so it will not be called again. In v1.6 this behavior will change to always call DataModule.setup.\n",
      "  rank_zero_deprecation(\n",
      "\n",
      "  | Name  | Type      | Params\n",
      "------------------------------------\n",
      "0 | model | SimpleFCN | 15.6 K\n",
      "------------------------------------\n",
      "15.6 K    Trainable params\n",
      "0         Non-trainable params\n",
      "15.6 K    Total params\n",
      "0.062     Total estimated model params size (MB)\n"
     ]
    },
    {
     "data": {
      "application/vnd.jupyter.widget-view+json": {
       "model_id": "9189d0a7236b44728cf46d7e97ec8ed6",
       "version_major": 2,
       "version_minor": 0
      },
      "text/plain": [
       "Training: -1it [00:00, ?it/s]"
      ]
     },
     "metadata": {},
     "output_type": "display_data"
    }
   ],
   "source": [
    "solver.optimizer = torch.optim.LBFGS\n",
    "setup.n_iterations=50\n",
    "solver.lr = 0.05\n",
    "scheduler = {'class': torch.optim.lr_scheduler.ExponentialLR,'args': {'gamma': 0.6}}\n",
    "\n",
    "\n",
    "trainer = pl.Trainer(gpus='-1' if torch.cuda.is_available() else None,\n",
    "                     logger=False,\n",
    "                     num_sanity_val_steps=0,\n",
    "                     benchmark=True,\n",
    "                     check_val_every_n_epoch=50,\n",
    "                     log_every_n_steps=10,\n",
    "                     max_epochs=3,\n",
    "                     checkpoint_callback=False\n",
    "                     )\n",
    "\n",
    "trainer.fit(solver, setup)"
   ]
  },
  {
   "cell_type": "code",
   "execution_count": null,
   "metadata": {},
   "outputs": [],
   "source": [
    "from torchphysics.utils.plot import _plot\n",
    "zeit = tend\n",
    "fig = _plot(model=solver.model, solution_name=u, plot_variables=x, points=2000,\n",
    "            dic_for_other_variables={'t' : zeit}, plot_type='contour_surface') # = 'quiver_2D' for vectors\n",
    "fig.axes[0].set_box_aspect(h/w)\n",
    "plt.savefig(f'u_{Re}.png')\n"
   ]
  },
  {
   "cell_type": "code",
   "execution_count": null,
   "metadata": {},
   "outputs": [],
   "source": [
    "#%load_ext autoreload\n",
    "#%autoreload 2\n",
    "from torchphysics.utils.animation import animation\n",
    "fig, ani = animation(model=solver.model, solution_name=u, plot_variable=x, domain_points=400, \n",
    "                animation_variable=t, frame_number=100, ani_type='contour_surface') # = 'quiver_2D' for vectors\n",
    "fig.axes[0].set_box_aspect(h/w)\n",
    "ani.save(f'flow_{Re}.gif')"
   ]
  },
  {
   "cell_type": "code",
   "execution_count": null,
   "metadata": {},
   "outputs": [],
   "source": [
    "class out_abs(torch.nn.Module):\n",
    "    def forward(self,input_dic):\n",
    "        out = solver.model(input_dic)\n",
    "        return {'u': torch.norm(out['u'],dim=1,keepdim=True)}\n",
    "fig = _plot(model=out_abs(), solution_name=u, plot_variables=t, points=1000,\n",
    "            dic_for_other_variables={'x' : [1.0,0.5]}, plot_output_entries = 0) # 0 erste Komponente; 1 zweite Komponente\n",
    "plt.savefig(f'norm_u0_{Re}.png')\n",
    "\n",
    "time_value = fig.axes[0].get_children()[0].get_xdata()\n",
    "func_value = fig.axes[0].get_children()[0].get_ydata()\n",
    "append_values = np.column_stack((time_value, func_value))\n",
    "np.savetxt(\"data_for_x=[1.0,0.5]_200_x_x_1.csv\", append_values, delimiter=\",\")"
   ]
  },
  {
   "cell_type": "code",
   "execution_count": null,
   "metadata": {},
   "outputs": [],
   "source": [
    "class out_abs(torch.nn.Module):\n",
    "    def forward(self,input_dic):\n",
    "        out = solver.model(input_dic)\n",
    "        return {'u': torch.norm(out['u'],dim=1,keepdim=True)}\n",
    "fig = _plot(model=out_abs(), solution_name=u, plot_variables=t, points=1000,\n",
    "            dic_for_other_variables={'x' : [2.0,0.2]}, plot_output_entries = 0) # 0 erste Komponente; 1 zweite Komponente\n",
    "plt.savefig(f'norm_u1_{Re}.png')"
   ]
  },
  {
   "cell_type": "code",
   "execution_count": null,
   "metadata": {},
   "outputs": [],
   "source": [
    "time_value = fig.axes[0].get_children()[0].get_xdata()\n",
    "func_value = fig.axes[0].get_children()[0].get_ydata()\n",
    "append_values = np.column_stack((time_value, func_value))\n",
    "np.savetxt(\"data_for_x=[2.0,0.2]_200_x_x_2.csv\", append_values, delimiter=\",\")\n"
   ]
  },
  {
   "cell_type": "code",
   "execution_count": null,
   "metadata": {},
   "outputs": [],
   "source": []
  },
  {
   "cell_type": "markdown",
   "metadata": {},
   "source": [
    "### "
   ]
  }
 ],
 "metadata": {
  "interpreter": {
   "hash": "5471d372aecbf763f050aece93ed861d8318175083d9494b12a3b32f7831ffe8"
  },
  "kernelspec": {
   "display_name": "Python 3 (ipykernel)",
   "language": "python",
   "name": "python3"
  },
  "language_info": {
   "codemirror_mode": {
    "name": "ipython",
    "version": 3
   },
   "file_extension": ".py",
   "mimetype": "text/x-python",
   "name": "python",
   "nbconvert_exporter": "python",
   "pygments_lexer": "ipython3",
   "version": "3.9.7"
  }
 },
 "nbformat": 4,
 "nbformat_minor": 2
}
