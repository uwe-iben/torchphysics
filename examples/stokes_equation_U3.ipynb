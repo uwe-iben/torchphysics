{
 "cells": [
  {
   "cell_type": "code",
   "execution_count": 113,
   "metadata": {},
   "outputs": [
    {
     "data": {
      "text/plain": [
       "False"
      ]
     },
     "execution_count": 113,
     "metadata": {},
     "output_type": "execute_result"
    }
   ],
   "source": [
    "import torch\n",
    "import numpy as np\n",
    "import os\n",
    "import pytorch_lightning as pl\n",
    "\n",
    "from torchphysics.problem import Variable\n",
    "from torchphysics.setting import Setting\n",
    "from torchphysics.problem.domain import Interval\n",
    "from torchphysics.problem.condition import (DirichletCondition,\n",
    "                                            DiffEqBoundaryCondition,\n",
    "                                            DiffEqCondition)\n",
    "from torchphysics.models.fcn import SimpleFCN\n",
    "from torchphysics import PINNModule\n",
    "from torchphysics.utils import grad\n",
    "\n",
    "from torchphysics.setting import Setting\n",
    "\n",
    "os.environ[\"CUDA_VISIBLE_DEVICES\"] = \"\" # select GPUs to use\n",
    "\n",
    "#pl.seed_everything(43) # set a global seed\n",
    "torch.cuda.is_available()"
   ]
  },
  {
   "cell_type": "code",
   "execution_count": 114,
   "metadata": {},
   "outputs": [],
   "source": [
    "# First define all parameters:\n",
    "h_0 = 1.6e-05 #m = 16 um\n",
    "delta_h = 0.6e-05 #m = 14 um \n",
    "D = 0.1 #m = 10 mm \n",
    "L = np.pi*D # Länge von Gebiet\n",
    "u_m = 0.26 #m/s 0.26\n",
    "beta = 2.2*1e-08 # m^2/N\n",
    "c = 200 #m/s Öl 1250\n",
    "alpha = 1/c**2 \n",
    "rho_0 = 2 #kg/m^3 820\n",
    "nu_0 = 1.5e-03 # Pa·s = 1.5 mPa·s\n",
    "p_0 = 1e05 # N/m^2 = 1 bar\n",
    "t_end = 3 #s"
   ]
  },
  {
   "cell_type": "code",
   "execution_count": 115,
   "metadata": {},
   "outputs": [],
   "source": [
    "# define h:\n",
    "def h(x):\n",
    "    return h_0 + delta_h * np.cos(2*x/D) # here use x/D, instead of x? Or else\n",
    "    #return h_0                                   # the function is almost constant.\n",
    "\n",
    "# we can analytically compute h':\n",
    "def h_x(x):\n",
    "    return -2.0*delta_h/D * np.sin(2*x/D) # x in [0,pi*D]\n",
    "    #return 0\n",
    "\n",
    "# create a data function, so we only need to evaluate h and h' once at the beginning\n",
    "def data_fun(x):\n",
    "    out_h = h(x)\n",
    "    out_d_h = h_x(x)\n",
    "    out = np.column_stack((out_h, out_d_h)) # column 0 : values of h\n",
    "                                            # column 1 : values of h' \n",
    "    return out.astype(np.float32)"
   ]
  },
  {
   "cell_type": "code",
   "execution_count": 116,
   "metadata": {},
   "outputs": [],
   "source": [
    "# define the function of the viscosity.\n",
    "# Here we need torch.tensors, since the function will be evaluated in the pde.\n",
    "# At the beginng the model will have values close to 0, \n",
    "# therefore the viscosity will also be close to zero. \n",
    "# This will make the pde condition unstable, because we divide by nu.\n",
    "# For now set values smaller then 1e-06 to 1e-06 \n",
    "def nu_func(rho):\n",
    "    out = nu_0 * torch.exp(beta * ((rho-rho_0)/alpha + p_0))\n",
    "    out = nu_0 * torch.exp(beta*(rho/rho_0-1)) # auf konstant setzen, um Funktionalität zu prüfen.\n",
    "    return torch.clamp(out, min=1e-06)"
   ]
  },
  {
   "cell_type": "code",
   "execution_count": 117,
   "metadata": {},
   "outputs": [],
   "source": [
    "# Variables:\n",
    "x = Variable(name='x',\n",
    "             order=1,\n",
    "             domain=Interval(0, np.pi*D),\n",
    "             train_conditions={},\n",
    "             val_conditions={})\n",
    "t = Variable(name='t',\n",
    "             order=1,\n",
    "             domain=Interval(0, t_end),\n",
    "             train_conditions={},\n",
    "             val_conditions={})\n",
    "# Output:\n",
    "rho = 'rho'"
   ]
  },
  {
   "cell_type": "code",
   "execution_count": 118,
   "metadata": {},
   "outputs": [],
   "source": [
    "norm = torch.nn.MSELoss()\n",
    "# inital value everywhere is rho_0\n",
    "def t_dirichlet_fun(x):\n",
    "    #out =rho_0*(1.0+0.5*np.exp(-2000.0*(x-L/2)**4))\n",
    "    out = rho_0 + 0.5*np.sin(x*2*np.pi/L)\n",
    "    return out\n",
    "\n",
    "t.add_train_condition(DirichletCondition(dirichlet_fun=t_dirichlet_fun,\n",
    "                                         whole_batch=False,\n",
    "                                         name='dirichlet',\n",
    "                                         solution_name=rho,\n",
    "                                         norm=norm,\n",
    "                                         dataset_size=[5000, 1],\n",
    "                                         sampling_strategy='grid',\n",
    "                                         boundary_sampling_strategy='lower_bound_only'))\n",
    "\n",
    "# periodic boundary -> use arbritray boundary conditon class:\n",
    "time_points = 500 # number of time-points for the boundary condition.\n",
    "# The points will be in such order, that the first points will be \n",
    "# at the left x-boundary, and the last points at the right side. \n",
    "# This will be consitent over all iterations, therefore we can compute\n",
    "# the specific index once:\n",
    "index_left = range(0, time_points)\n",
    "index_right = range(time_points, 2*time_points)\n",
    "def periodic_fun(rho, x):\n",
    "    #print('left', x[index_left]) # to check correct order of x\n",
    "    return (rho[index_left]-rho[index_right])\n",
    "    #return rho[index_left]\n",
    "\n",
    "x.add_train_condition(DiffEqBoundaryCondition(bound_condition_fun=periodic_fun,\n",
    "                                              name='periodic_condition',\n",
    "                                              norm=norm,\n",
    "                                              dataset_size=[2, time_points], # 2 points for x (left/right boundary)\n",
    "                                              sampling_strategy='grid',\n",
    "                                              boundary_sampling_strategy='grid'))"
   ]
  },
  {
   "cell_type": "code",
   "execution_count": 119,
   "metadata": {},
   "outputs": [],
   "source": [
    "def pde(rho, x, t, data):\n",
    "    # evaluate the viscosity\n",
    "    nu = nu_func(rho)\n",
    "    # implemnet the PDE:\n",
    "    # 1) time derivative part\n",
    "    rho_t = grad(rho, t)\n",
    "    time_part = data[:, :1] * rho_t # h * rho_t \n",
    "    # 2) convection part:\n",
    "    rho_x = grad(rho, x) \n",
    "    conv_part = u_m * (rho * data[:, 1:] + rho_x * data[:, :1]) # u_m * d_x(h*rho)\n",
    "    #conv_part = u_m*rho*grad(rho,x)\n",
    "    # 3) diffusion part:\n",
    "    #prod = rho * rho_x / nu\n",
    "    #d_1 = 3 * data[:, :1]**2 * data[:, 1:] * prod\n",
    "    #d_2 = data[:, :1]**3 * grad(prod, x)\n",
    "    #diff_part = rho_0/(12*nu_0*alpha)*grad(rho_x,x)\n",
    "    # Gesamtproblem\n",
    "    return rho_t + u_m*rho*grad(rho,x) - nu_0*grad(rho_x,x)\n",
    "    #return time_part + conv_part -1/10000*grad(rho_x,x)\n",
    "train_cond = DiffEqCondition(pde=pde,\n",
    "                             name='pde',\n",
    "                             data_fun=data_fun,\n",
    "                             norm=norm,\n",
    "                             weight=1.0,\n",
    "                             dataset_size=5000,\n",
    "                             data_plot_variables=('x','t'))"
   ]
  },
  {
   "cell_type": "code",
   "execution_count": 120,
   "metadata": {},
   "outputs": [],
   "source": [
    "setup = Setting(variables=(x, t),\n",
    "                train_conditions={'pde': train_cond},\n",
    "                val_conditions={},\n",
    "                solution_dims={rho: 1},\n",
    "                n_iterations=500)"
   ]
  },
  {
   "cell_type": "code",
   "execution_count": 121,
   "metadata": {},
   "outputs": [],
   "source": [
    "solver = PINNModule(model=SimpleFCN(variable_dims=setup.variable_dims,\n",
    "                                    solution_dims=setup.solution_dims,\n",
    "                                    depth=4,\n",
    "                                    width=20),\n",
    "                    optimizer=torch.optim.Adam,\n",
    "                    lr=1e-2)"
   ]
  },
  {
   "cell_type": "code",
   "execution_count": 122,
   "metadata": {},
   "outputs": [
    {
     "name": "stderr",
     "output_type": "stream",
     "text": [
      "GPU available: False, used: False\n",
      "TPU available: False, using: 0 TPU cores\n",
      "\n",
      "  | Name  | Type      | Params\n",
      "------------------------------------\n",
      "0 | model | SimpleFCN | 1.8 K \n",
      "------------------------------------\n",
      "1.8 K     Trainable params\n",
      "0         Non-trainable params\n",
      "1.8 K     Total params\n",
      "0.007     Total estimated model params size (MB)\n",
      "C:\\Users\\inu2sh\\Desktop\\Torch-Physics\\_venv\\lib\\site-packages\\pytorch_lightning\\trainer\\data_loading.py:102: UserWarning: The dataloader, train dataloader, does not have many workers which may be a bottleneck. Consider increasing the value of the `num_workers` argument` (try 8 which is the number of cpus on this machine) in the `DataLoader` init to improve performance.\n",
      "  rank_zero_warn(\n",
      "C:\\Users\\inu2sh\\Desktop\\Torch-Physics\\_venv\\lib\\site-packages\\pytorch_lightning\\trainer\\data_loading.py:102: UserWarning: The dataloader, val dataloader 0, does not have many workers which may be a bottleneck. Consider increasing the value of the `num_workers` argument` (try 8 which is the number of cpus on this machine) in the `DataLoader` init to improve performance.\n",
      "  rank_zero_warn(\n"
     ]
    },
    {
     "data": {
      "application/vnd.jupyter.widget-view+json": {
       "model_id": "2d3e395ff9dd4b7c8e618dbc10a23323",
       "version_major": 2,
       "version_minor": 0
      },
      "text/plain": [
       "Training: 0it [00:00, ?it/s]"
      ]
     },
     "metadata": {},
     "output_type": "display_data"
    }
   ],
   "source": [
    "trainer = pl.Trainer(gpus='-1' if torch.cuda.is_available() else None,\n",
    "                     num_sanity_val_steps=0,\n",
    "                     benchmark=True,\n",
    "                     check_val_every_n_epoch=20,\n",
    "                     log_every_n_steps=15,\n",
    "                     max_epochs=1,\n",
    "                     logger=False,\n",
    "                     checkpoint_callback=False\n",
    "                     )\n",
    "\n",
    "trainer.fit(solver, setup)"
   ]
  },
  {
   "cell_type": "code",
   "execution_count": 123,
   "metadata": {},
   "outputs": [
    {
     "name": "stderr",
     "output_type": "stream",
     "text": [
      "GPU available: False, used: False\n",
      "TPU available: False, using: 0 TPU cores\n",
      "\n",
      "  | Name  | Type      | Params\n",
      "------------------------------------\n",
      "0 | model | SimpleFCN | 1.8 K \n",
      "------------------------------------\n",
      "1.8 K     Trainable params\n",
      "0         Non-trainable params\n",
      "1.8 K     Total params\n",
      "0.007     Total estimated model params size (MB)\n"
     ]
    },
    {
     "data": {
      "application/vnd.jupyter.widget-view+json": {
       "model_id": "5a1b45bf6eb24782957eb0a071d73f57",
       "version_major": 2,
       "version_minor": 0
      },
      "text/plain": [
       "Training: 0it [00:00, ?it/s]"
      ]
     },
     "metadata": {},
     "output_type": "display_data"
    }
   ],
   "source": [
    "# Use LBFGS at the end\n",
    "solver.lr = 0.1\n",
    "solver.optimizer = torch.optim.LBFGS\n",
    "solver.optim_params = {'max_iter': 5}\n",
    "trainer = pl.Trainer(gpus='-1' if torch.cuda.is_available() else None,\n",
    "                     num_sanity_val_steps=0,\n",
    "                     benchmark=True,\n",
    "                     check_val_every_n_epoch=20,\n",
    "                     log_every_n_steps=15,\n",
    "                     max_epochs=3,\n",
    "                     logger=True,\n",
    "                     checkpoint_callback=False\n",
    "                     )\n",
    "\n",
    "trainer.fit(solver, setup)"
   ]
  },
  {
   "cell_type": "code",
   "execution_count": 126,
   "metadata": {},
   "outputs": [
    {
     "name": "stdout",
     "output_type": "stream",
     "text": [
      "t_end=  3\n"
     ]
    },
    {
     "data": {
      "image/png": "[encoded data removed]",
      "text/plain": [
       "<Figure size 432x288 with 1 Axes>"
      ]
     },
     "metadata": {
      "needs_background": "light"
     },
     "output_type": "display_data"
    }
   ],
   "source": [
    "from torchphysics.utils.plot import _plot\n",
    "solver = solver.to('cpu')\n",
    "print('t_end= ',t_end)\n",
    "t = 3\n",
    "if t <= t_end:\n",
    "    fig = _plot(model=solver.model, solution_name='rho', plot_variables=[x], # or [x, t] and \n",
    "                points=300, angle=[30, 30], dic_for_other_variables={'t': t}) # dic_for_... = {}\n",
    "else:\n",
    "    print('t>t_end=', t_end)"
   ]
  },
  {
   "cell_type": "code",
   "execution_count": null,
   "metadata": {},
   "outputs": [],
   "source": []
  }
 ],
 "metadata": {
  "interpreter": {
   "hash": "5471d372aecbf763f050aece93ed861d8318175083d9494b12a3b32f7831ffe8"
  },
  "kernelspec": {
   "display_name": "Python 3",
   "language": "python",
   "name": "python3"
  },
  "language_info": {
   "codemirror_mode": {
    "name": "ipython",
    "version": 3
   },
   "file_extension": ".py",
   "mimetype": "text/x-python",
   "name": "python",
   "nbconvert_exporter": "python",
   "pygments_lexer": "ipython3",
   "version": "3.9.5"
  }
 },
 "nbformat": 4,
 "nbformat_minor": 2
}
