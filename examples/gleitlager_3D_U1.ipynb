{
 "cells": [
  {
   "cell_type": "code",
   "execution_count": 44,
   "metadata": {},
   "outputs": [
    {
     "data": {
      "text/plain": [
       "False"
      ]
     },
     "execution_count": 44,
     "metadata": {},
     "output_type": "execute_result"
    }
   ],
   "source": [
    "import torch\n",
    "import numpy as np\n",
    "import os\n",
    "import pytorch_lightning as pl\n",
    "\n",
    "from torchphysics.problem import Variable\n",
    "from torchphysics.setting import Setting\n",
    "from torchphysics.problem.domain import Interval\n",
    "from torchphysics.problem.condition import (DirichletCondition,\n",
    "                                            DiffEqBoundaryCondition,\n",
    "                                            DiffEqCondition)\n",
    "from torchphysics.models.fcn import SimpleFCN\n",
    "from torchphysics import PINNModule\n",
    "from torchphysics.utils import grad\n",
    "\n",
    "from torchphysics.setting import Setting\n",
    "\n",
    "os.environ[\"CUDA_VISIBLE_DEVICES\"] = \"\" # select GPUs to use\n",
    "\n",
    "#pl.seed_everything(43) # set a global seed\n",
    "torch.cuda.is_available()"
   ]
  },
  {
   "cell_type": "code",
   "execution_count": 45,
   "metadata": {},
   "outputs": [],
   "source": [
    "# First define all parameters:\n",
    "h_0 = 16.e-06 #m = 16 um\n",
    "dh = 14e-06 #m = 14 um \n",
    "D = 0.01 #m = 10 mm \n",
    "L = np.pi*D # Länge von Gebiet\n",
    "u_m = 0.26 #m/s 0.26\n",
    "beta = 2.2*1e-08 # 2.2e-08 m^2/N\n",
    "nu_0 = 1.5e-03 # Pa·s = 1.5 mPa·s\n",
    "# lower and upper bounds of parameters\n",
    "nu0 = 1.0e-03 # Viskosität\n",
    "nu1 = 2.5e-03\n",
    "um0 = 0.2     # Geschwindigkeit\n",
    "um1 = 0.4\n",
    "dh0 = 10e-6   # Spaltvariaton\n",
    "dh1 = 15e-6\n",
    "p_0 = 1e+5 # 1e+5 N/m^2 = 1 bar\n",
    "p_rel = 0 # Relativdruck \n",
    "p_skal = 100000 #Skalierungsdruck für (-1,1) Bereich"
   ]
  },
  {
   "cell_type": "code",
   "execution_count": 46,
   "metadata": {},
   "outputs": [],
   "source": [
    "# define h:\n",
    "def h(x, dh): # <- hier jetzt auch dh als input\n",
    "    return h_0 + dh * torch.cos(2*x/D) \n",
    "    #return h_0                                \n",
    "\n",
    "# we can analytically compute h':\n",
    "def h_x(x, dh): # <- hier jetzt auch dh als input\n",
    "    return -2.0*dh/D * torch.sin(2*x/D) # x in [0,pi*D]\n",
    "    #return 0"
   ]
  },
  {
   "cell_type": "code",
   "execution_count": 47,
   "metadata": {},
   "outputs": [],
   "source": [
    "# define the function of the viscosity.\n",
    "# Here we need torch.tensors, since the function will be evaluated in the pde.\n",
    "# At the beginng the model will have values close to 0, \n",
    "# therefore the viscosity will also be close to zero. \n",
    "# This will make the pde condition unstable, because we divide by nu.\n",
    "# For now set values smaller then 1e-06 to 1e-06 \n",
    "def nu_func(nu, p):\n",
    "    out = nu * torch.exp(beta * p*p_skal)\n",
    "    return torch.clamp(out, min=1e-06)"
   ]
  },
  {
   "cell_type": "code",
   "execution_count": 48,
   "metadata": {},
   "outputs": [],
   "source": [
    "# Variables:\n",
    "x = Variable(name='x', #Ort\n",
    "             order=1,\n",
    "             domain=Interval(0, np.pi*D),\n",
    "             train_conditions={},\n",
    "             val_conditions={})\n",
    "nu = Variable(name='nu', # Viskosität\n",
    "             order=1,\n",
    "             domain=Interval(low_bound=nu0,\n",
    "                             up_bound=nu1),\n",
    "             train_conditions={},\n",
    "             val_conditions={})\n",
    "um = Variable(name='um', # Geschwindigkeit\n",
    "              order=1,\n",
    "              domain=Interval(low_bound=um0,\n",
    "                              up_bound=um1),\n",
    "              train_conditions={},\n",
    "              val_conditions={})\n",
    "dh = Variable(name='dh', # Spaltvariation\n",
    "              order=1,\n",
    "              domain=Interval(low_bound = dh0,\n",
    "                              up_bound = dh1),\n",
    "              train_conditions={},\n",
    "              val_conditions={})\n",
    "# Output:\n",
    "p = 'p'"
   ]
  },
  {
   "cell_type": "code",
   "execution_count": 49,
   "metadata": {},
   "outputs": [],
   "source": [
    "norm = torch.nn.MSELoss()\n",
    "\n",
    "# Hier brauchen wir immer nur den output des modells, da die Bedingung nicht\n",
    "# von nu, um oder dh abhängt.\n",
    "\n",
    "# Und habe den Rest hier mal weggemacht, da wir den nicht brauchen.\n",
    "def bcl_fun(p):\n",
    "    return p-p_rel\n",
    "\n",
    "def bcr_fun(p):\n",
    "    return p-p_rel \n",
    "\n",
    "# Hier müssen wir jetzt noch die Anzahl der Datenpunkte angegeben\n",
    "# Vorher war hier: [1,nu_points] = 1 Punkt für x (linker/rechter Rand)\n",
    "# und verschiedene nu-Punkte.\n",
    "# Jetzt haben wir vier Variablen, also brauchen wir auch mehr Werte:\n",
    "nu_points = 20\n",
    "u_points = 20\n",
    "dh_points = 20\n",
    "data_points = [1, nu_points, u_points, dh_points]\n",
    "# Benutzten werden dann insgesamt immer alle möglichen Kombinationen der erstellten \n",
    "# Punkte, womit insgesamt nu_points*u_points*dh_points Punkte verwendet werden.\n",
    "# Hier also gerade 8000.\n",
    "\n",
    "# Vielleicht reicht es auch aus sampling_strategy='random' zu setzen, dann werden für nu\n",
    "# u und dh zufällige Werte verwendet, da diese aber keinen direkten Einfluss auf RB sollte das nicht stören?\n",
    "# In dem Fall dann z.b. einfach dataset_size = 500, womit dann 500 zufällige Wertekombinationen\n",
    "# von nu, u und dh gewählt werden. Die x-Werte sind immer fest an dem jeweiligen Rand.\n",
    "x.add_train_condition(DiffEqBoundaryCondition(bound_condition_fun=bcl_fun,\n",
    "                                              name='bcl',\n",
    "                                              norm=norm,\n",
    "                                              dataset_size = data_points, \n",
    "                                              sampling_strategy='grid',\n",
    "                                              boundary_sampling_strategy='lower_bound_only'))\n",
    "\n",
    "x.add_train_condition(DiffEqBoundaryCondition(bound_condition_fun=bcr_fun,\n",
    "                                              name='bcr',\n",
    "                                              norm=norm,\n",
    "                                              dataset_size = data_points, \n",
    "                                              sampling_strategy='grid',\n",
    "                                              boundary_sampling_strategy='upper_bound_only'))"
   ]
  },
  {
   "cell_type": "code",
   "execution_count": 50,
   "metadata": {},
   "outputs": [],
   "source": [
    "def pde(nu, p, x, um, dh): # <- brauchen jetzt dh und um auch als input\n",
    "    # evaluate the viscosity\n",
    "    nu = nu_func(nu,p)\n",
    "    # implement the PDE:\n",
    "    \n",
    "    # right hand site\n",
    "    rs = 6*um*nu #<- hier jetzt um statt u_m, da deine Variable so heißt\n",
    "    \n",
    "    # loss function #100 Skalierungsfunktion\n",
    "    # Hier brauchen h und h_x jetzt noch den Input dh:\n",
    "    # Alte Vesion:\n",
    "    #out = h(x)*grad(grad(p,x),x) +3*h_x(x)*grad(p,x) - rs*h_x(x)/h(x)/h(x)/p_skal\n",
    "    h_out = h(x, dh) # nur einmal auswerten\n",
    "    h_x_out = h_x(x, dh) # nur einmal auswerten\n",
    "    out = h_out*grad(grad(p,x),x) +3*h_x_out*grad(p,x) - rs*h_x_out/h_out/h_out/p_skal\n",
    "    return out\n",
    "\n",
    "# Hier ebenfalls vier Variablen, also unsere Werte für das Sampling anpassen. x braucht nun \n",
    "# auch eine Anzahl:\n",
    "x_points = 2000\n",
    "nu_points = 5\n",
    "u_points = 5\n",
    "dh_points = 5\n",
    "data_points_pde = [x_points, nu_points, u_points, dh_points]\n",
    "# Hier müsste man überlegen wie man das am besten macht, werden sonst sehr viele Punkte.\n",
    "# Vielleicht auch hier lieber zufällige Werte, dann:\n",
    "# sampling_strategy = 'random' und z.b. dataset_size=50000 \n",
    "train_cond = DiffEqCondition(pde=pde,\n",
    "                             name='pde',\n",
    "                             norm=norm,\n",
    "                             weight=1.0,\n",
    "                             dataset_size=data_points_pde,\n",
    "                             sampling_strategy = 'grid')\n"
   ]
  },
  {
   "cell_type": "markdown",
   "metadata": {},
   "source": [
    "print('pde defined'"
   ]
  },
  {
   "cell_type": "code",
   "execution_count": 51,
   "metadata": {},
   "outputs": [],
   "source": [
    "setup = Setting(variables=(x, nu, um, dh), # <- hier noch die neuen inputs ergänzen\n",
    "                train_conditions={'pde': train_cond},\n",
    "                val_conditions={},\n",
    "                solution_dims={p: 1},\n",
    "                n_iterations=200)"
   ]
  },
  {
   "cell_type": "code",
   "execution_count": 52,
   "metadata": {},
   "outputs": [],
   "source": [
    "solver = PINNModule(model=SimpleFCN(variable_dims=setup.variable_dims,\n",
    "                                    solution_dims=setup.solution_dims,\n",
    "                                    normalization_dict=setup.normalization_dict,\n",
    "                                    depth=3,\n",
    "                                    width=20),\n",
    "                    optimizer=torch.optim.Adam,\n",
    "                    lr=1.e-2)"
   ]
  },
  {
   "cell_type": "code",
   "execution_count": 53,
   "metadata": {},
   "outputs": [
    {
     "name": "stderr",
     "output_type": "stream",
     "text": [
      "GPU available: False, used: False\n",
      "TPU available: False, using: 0 TPU cores\n",
      "\n",
      "  | Name  | Type      | Params\n",
      "------------------------------------\n",
      "0 | model | SimpleFCN | 1.4 K \n",
      "------------------------------------\n",
      "1.4 K     Trainable params\n",
      "0         Non-trainable params\n",
      "1.4 K     Total params\n",
      "0.006     Total estimated model params size (MB)\n"
     ]
    },
    {
     "data": {
      "application/vnd.jupyter.widget-view+json": {
       "model_id": "ebc91e3d19444bcf9ea3c7f546d81a8e",
       "version_major": 2,
       "version_minor": 0
      },
      "text/plain": [
       "Training: 0it [00:00, ?it/s]"
      ]
     },
     "metadata": {},
     "output_type": "display_data"
    }
   ],
   "source": [
    "trainer = pl.Trainer(gpus='-1' if torch.cuda.is_available() else None,\n",
    "                     num_sanity_val_steps=0,\n",
    "                     benchmark=True,\n",
    "                     check_val_every_n_epoch=20,\n",
    "                     log_every_n_steps=1,\n",
    "                     max_epochs=2,\n",
    "                     logger=False,\n",
    "                     checkpoint_callback=False\n",
    "                     )\n",
    "\n",
    "trainer.fit(solver, setup)"
   ]
  },
  {
   "cell_type": "code",
   "execution_count": 54,
   "metadata": {},
   "outputs": [
    {
     "name": "stderr",
     "output_type": "stream",
     "text": [
      "GPU available: False, used: False\n",
      "TPU available: False, using: 0 TPU cores\n",
      "\n",
      "  | Name  | Type      | Params\n",
      "------------------------------------\n",
      "0 | model | SimpleFCN | 1.4 K \n",
      "------------------------------------\n",
      "1.4 K     Trainable params\n",
      "0         Non-trainable params\n",
      "1.4 K     Total params\n",
      "0.006     Total estimated model params size (MB)\n"
     ]
    },
    {
     "data": {
      "application/vnd.jupyter.widget-view+json": {
       "model_id": "39cc4ad9761949aeb925a4226204da54",
       "version_major": 2,
       "version_minor": 0
      },
      "text/plain": [
       "Training: 0it [00:00, ?it/s]"
      ]
     },
     "metadata": {},
     "output_type": "display_data"
    }
   ],
   "source": [
    "# Use LBFGS at the end\n",
    "solver.lr = 1.e-2\n",
    "solver.optimizer = torch.optim.LBFGS\n",
    "solver.optim_params = {'max_iter': 5}\n",
    "trainer = pl.Trainer(gpus='-1' if torch.cuda.is_available() else None,\n",
    "                     num_sanity_val_steps=0,\n",
    "                     benchmark=True,\n",
    "                     check_val_every_n_epoch=20,\n",
    "                     log_every_n_steps=15,\n",
    "                     max_epochs=1,\n",
    "                     logger=False,\n",
    "                     checkpoint_callback=False\n",
    "                     )\n",
    "\n",
    "trainer.fit(solver, setup)"
   ]
  },
  {
   "cell_type": "code",
   "execution_count": 69,
   "metadata": {},
   "outputs": [
    {
     "name": "stdout",
     "output_type": "stream",
     "text": [
      "nu0=  0.001  nu1=  0.0025\n",
      "dh0=  1e-05 dh1=  1.5e-05 m\n",
      "um0=  0.2 um1=  0.4 m/s\n",
      "Skalierungsfaktor =  100000\n"
     ]
    },
    {
     "data": {
      "image/png": "[encoded data removed]",
      "text/plain": [
       "<Figure size 432x288 with 1 Axes>"
      ]
     },
     "metadata": {
      "needs_background": "light"
     },
     "output_type": "display_data"
    }
   ],
   "source": [
    "from torchphysics.utils.plot import _plot\n",
    "solver = solver.to('cpu')\n",
    "print('nu0= ',nu0,' nu1= ',nu1)\n",
    "print('dh0= ',dh0, 'dh1= ', dh1, 'm')\n",
    "print('um0= ', um0, 'um1= ',um1, 'm/s')\n",
    "nu = 2.5e-3 # hier jetzt noch Werte für die anderen Variablen\n",
    "um = 0.26\n",
    "dh = 12.7e-06\n",
    "if nu0<=nu and nu<=nu1 and dh0<=dh and dh<=dh1 :\n",
    "    fig = _plot(model=solver.model, solution_name='p', plot_variables=[x],\n",
    "                points=300, angle=[30, 30], dic_for_other_variables={'nu': nu, 'um': um, 'dh': dh}) \n",
    "else:\n",
    "    print('Ausserhalb des Trainingsbereiches')\n",
    "print('Skalierungsfaktor = ', p_skal)"
   ]
  },
  {
   "cell_type": "code",
   "execution_count": null,
   "metadata": {},
   "outputs": [],
   "source": []
  }
 ],
 "metadata": {
  "interpreter": {
   "hash": "5471d372aecbf763f050aece93ed861d8318175083d9494b12a3b32f7831ffe8"
  },
  "kernelspec": {
   "display_name": "Python 3",
   "language": "python",
   "name": "python3"
  },
  "language_info": {
   "codemirror_mode": {
    "name": "ipython",
    "version": 3
   },
   "file_extension": ".py",
   "mimetype": "text/x-python",
   "name": "python",
   "nbconvert_exporter": "python",
   "pygments_lexer": "ipython3",
   "version": "3.9.5"
  }
 },
 "nbformat": 4,
 "nbformat_minor": 2
}
