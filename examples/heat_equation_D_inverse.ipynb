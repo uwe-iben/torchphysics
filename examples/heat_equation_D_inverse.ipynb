{
 "metadata": {
  "language_info": {
   "codemirror_mode": {
    "name": "ipython",
    "version": 3
   },
   "file_extension": ".py",
   "mimetype": "text/x-python",
   "name": "python",
   "nbconvert_exporter": "python",
   "pygments_lexer": "ipython3",
   "version": "3.9.4"
  },
  "orig_nbformat": 2,
  "kernelspec": {
   "name": "python3",
   "display_name": "Python 3.9.4 64-bit ('bosch': conda)"
  },
  "interpreter": {
   "hash": "5471d372aecbf763f050aece93ed861d8318175083d9494b12a3b32f7831ffe8"
  }
 },
 "nbformat": 4,
 "nbformat_minor": 2,
 "cells": [
  {
   "source": [
    "## Sample script to learn a PDE parameter in training"
   ],
   "cell_type": "markdown",
   "metadata": {}
  },
  {
   "cell_type": "code",
   "execution_count": 1,
   "metadata": {},
   "outputs": [
    {
     "output_type": "execute_result",
     "data": {
      "text/plain": [
       "True"
      ]
     },
     "metadata": {},
     "execution_count": 1
    }
   ],
   "source": [
    "import torch\n",
    "import numpy as np\n",
    "import pytorch_lightning as pl\n",
    "from timeit import default_timer as timer\n",
    "\n",
    "from neural_diff_eq.problem import Variable, Parameter\n",
    "from neural_diff_eq.setting import Setting\n",
    "from neural_diff_eq.problem.domain import (Rectangle,\n",
    "                                           Interval)\n",
    "from neural_diff_eq.problem.condition import (DirichletCondition,\n",
    "                                              DiffEqCondition,\n",
    "                                              DataCondition)\n",
    "from neural_diff_eq.models.fcn import SimpleFCN\n",
    "from neural_diff_eq import PINNModule\n",
    "from neural_diff_eq.utils import laplacian, gradient\n",
    "from neural_diff_eq.utils.fdm import FDM, create_validation_data\n",
    "from neural_diff_eq.utils.plot import Plotter\n",
    "from neural_diff_eq.utils.evaluation import (get_min_max_inside,\n",
    "                                             get_min_max_boundary)\n",
    "from neural_diff_eq.setting import Setting\n",
    "\n",
    "os.environ[\"CUDA_VISIBLE_DEVICES\"] = \"1\" # select GPUs to use\n",
    "\n",
    "#pl.seed_everything(43) # set a global seed\n",
    "torch.cuda.is_available()\n"
   ]
  },
  {
   "source": [
    "We define some parameters that describe the setting:"
   ],
   "cell_type": "markdown",
   "metadata": {}
  },
  {
   "cell_type": "code",
   "execution_count": 2,
   "metadata": {},
   "outputs": [],
   "source": [
    "w, h = 10, 10\n",
    "t0, tend = 0, 3\n",
    "temp_hot = 100"
   ]
  },
  {
   "source": [
    "We define the independent variables of the PDE, which will later determine the inputs to the NN. Every variable has a domain and can have one or more boundary conditions.\n",
    "\n",
    "Now we also define a Parameter which will be optimized during training, based on given training data."
   ],
   "cell_type": "markdown",
   "metadata": {}
  },
  {
   "cell_type": "code",
   "execution_count": 3,
   "metadata": {},
   "outputs": [],
   "source": [
    "x = Variable(name='x',\n",
    "             order=2,\n",
    "             domain=Rectangle(corner_dl=[0, 0],\n",
    "                              corner_dr=[w, 0],\n",
    "                              corner_tl=[0, h]),\n",
    "             train_conditions={},\n",
    "             val_conditions={})\n",
    "t = Variable(name='t',\n",
    "             order=1,\n",
    "             domain=Interval(low_bound=0,\n",
    "                             up_bound=tend),\n",
    "             train_conditions={},\n",
    "             val_conditions={})\n",
    "\n",
    "# Achtung: bisher muss hier das device für die Parameter von Hand gesetzt werden\n",
    "device = 'cuda' if torch.cuda.is_available() else 'cpu'\n",
    "m = torch.Tensor((0.0,)).to('cuda')\n",
    "D = Parameter(init=m, name='D')"
   ]
  },
  {
   "source": [
    "Using the same notation, as in the forward problem, we can define a PDE-condition to the inner of the domain.\n",
    "\n",
    "Here we also include the parameter 'D' in the (dummy) equation, that should be computed. Therefore the pde-condition gets now an additional input: params. This input contains all learnable paramters of the model."
   ],
   "cell_type": "markdown",
   "metadata": {}
  },
  {
   "cell_type": "code",
   "execution_count": 4,
   "metadata": {},
   "outputs": [],
   "source": [
    "norm = torch.nn.MSELoss()\n",
    "\n",
    "def pde(u, input, params):\n",
    "    return gradient(u, input['t']) - params['D']*laplacian(u, input['x'])\n",
    "\n",
    "train_cond = DiffEqCondition(pde=pde,\n",
    "                             name='pde',\n",
    "                             norm=norm,\n",
    "                             sampling_strategy='random',\n",
    "                             weight=1.0,\n",
    "                             dataset_size=500,\n",
    "                             data_plot_variables=('x','t'))"
   ]
  },
  {
   "source": [
    "Instead of adding addtional conditions for the inital and boundary values we now create a DataCondition, by using a FDM to solve the forward problem."
   ],
   "cell_type": "markdown",
   "metadata": {}
  },
  {
   "cell_type": "code",
   "execution_count": 5,
   "metadata": {},
   "outputs": [
    {
     "output_type": "stream",
     "name": "stdout",
     "text": [
      "Time for FDM-Solution: 0.010123017244040966\n"
     ]
    }
   ],
   "source": [
    "D_list = [2] # This D is the value we will later try to find!\n",
    "domain_dic = {'x': [[0,w], [0,h]]}\n",
    "dx, dy = 0.5, 0.5\n",
    "step_width_dict = {'x': [dx, dy]}\n",
    "time_interval = [t0, tend]\n",
    "def inital_condition(input):\n",
    "    return temp_hot * np.sin(np.pi/w*input['x'][:,:1]) * np.sin(np.pi/h*input['x'][:,1:]) \n",
    "fdm_start = timer()\n",
    "domain, time, u = FDM(domain_dic, step_width_dict, time_interval, \n",
    "                      D_list, inital_condition)\n",
    "fdm_end = timer()\n",
    "print('Time for FDM-Solution:', fdm_end-fdm_start)\n",
    "\n",
    "data_x, data_u = create_validation_data(domain, time, u, D_list, D_is_input = False)"
   ]
  },
  {
   "source": [
    "We dont want to use all points of the FDM-solution, therefore for now pick only 5000 random values "
   ],
   "cell_type": "markdown",
   "metadata": {}
  },
  {
   "cell_type": "code",
   "execution_count": 6,
   "metadata": {},
   "outputs": [],
   "source": [
    "index = np.random.choice(len(data_u), 5000, replace=False)\n",
    "data_u = data_u[index]\n",
    "for name in data_x:\n",
    "    data_x[name] = data_x[name][index]"
   ]
  },
  {
   "source": [
    "With these points we now create a DataCondition"
   ],
   "cell_type": "markdown",
   "metadata": {}
  },
  {
   "cell_type": "code",
   "execution_count": 7,
   "metadata": {},
   "outputs": [],
   "source": [
    "data_cond = DataCondition(data_x=data_x,\n",
    "                         data_u=data_u,\n",
    "                         name='data_cond',\n",
    "                         norm=norm)"
   ]
  },
  {
   "source": [
    "As always the variables as well as the conditions for the inner part of the domain are collected in a Setting. Now we also add the parameters that should be trained in a dictonary:"
   ],
   "cell_type": "markdown",
   "metadata": {}
  },
  {
   "cell_type": "code",
   "execution_count": 8,
   "metadata": {},
   "outputs": [],
   "source": [
    "setup = Setting(variables=(x, t),\n",
    "                train_conditions={'pde': train_cond, 'data': data_cond},\n",
    "                val_conditions={},\n",
    "                n_iterations=500,\n",
    "                parameters={'D': D})"
   ]
  },
  {
   "source": [
    "To solve the problem we use (like always) the PINNModule "
   ],
   "cell_type": "markdown",
   "metadata": {}
  },
  {
   "cell_type": "code",
   "execution_count": 9,
   "metadata": {},
   "outputs": [],
   "source": [
    "solver = PINNModule(model=SimpleFCN(input_dim=3, depth=3, width=20),\n",
    "                    optimizer=torch.optim.Adam, # Start with adam\n",
    "                    lr=1e-2\n",
    "                    )"
   ]
  },
  {
   "source": [
    "Finally, we define a lightning trainer and train the model. "
   ],
   "cell_type": "markdown",
   "metadata": {}
  },
  {
   "cell_type": "code",
   "execution_count": 10,
   "metadata": {
    "tags": []
   },
   "outputs": [
    {
     "output_type": "stream",
     "name": "stderr",
     "text": [
      "GPU available: True, used: True\n",
      "TPU available: False, using: 0 TPU cores\n",
      "LOCAL_RANK: 0 - CUDA_VISIBLE_DEVICES: [1]\n",
      "\n",
      "  | Name  | Type      | Params\n",
      "------------------------------------\n",
      "0 | model | SimpleFCN | 1.4 K \n",
      "------------------------------------\n",
      "1.4 K     Trainable params\n",
      "0         Non-trainable params\n",
      "1.4 K     Total params\n",
      "0.005     Total estimated model params size (MB)\n",
      "setup:  cpu\n",
      "/home/tomfre/miniconda3/envs/bosch/lib/python3.9/site-packages/pytorch_lightning/utilities/distributed.py:69: UserWarning: The dataloader, train dataloader, does not have many workers which may be a bottleneck. Consider increasing the value of the `num_workers` argument` (try 32 which is the number of cpus on this machine) in the `DataLoader` init to improve performance.\n",
      "  warnings.warn(*args, **kwargs)\n",
      "/home/tomfre/miniconda3/envs/bosch/lib/python3.9/site-packages/pytorch_lightning/utilities/distributed.py:69: UserWarning: The dataloader, val dataloader 0, does not have many workers which may be a bottleneck. Consider increasing the value of the `num_workers` argument` (try 32 which is the number of cpus on this machine) in the `DataLoader` init to improve performance.\n",
      "  warnings.warn(*args, **kwargs)\n"
     ]
    },
    {
     "output_type": "display_data",
     "data": {
      "text/plain": "Training: 0it [00:00, ?it/s]",
      "application/vnd.jupyter.widget-view+json": {
       "version_major": 2,
       "version_minor": 0,
       "model_id": "b58a5500e23642e39024a3f7bf5582db"
      }
     },
     "metadata": {}
    }
   ],
   "source": [
    "trainer = pl.Trainer(gpus='-1' if torch.cuda.is_available() else None,\n",
    "                     num_sanity_val_steps=0,\n",
    "                     benchmark=True,\n",
    "                     check_val_every_n_epoch=100,\n",
    "                     log_every_n_steps=1,\n",
    "                     max_epochs=4,\n",
    "                     checkpoint_callback=False\n",
    "                     )\n",
    "\n",
    "trainer.fit(solver, setup)"
   ]
  },
  {
   "cell_type": "code",
   "execution_count": 11,
   "metadata": {},
   "outputs": [
    {
     "output_type": "execute_result",
     "data": {
      "text/plain": [
       "Parameter containing:\n",
       "tensor([1.9015], device='cuda:0', requires_grad=True)"
      ]
     },
     "metadata": {},
     "execution_count": 11
    }
   ],
   "source": [
    "setup.parameters['D']"
   ]
  },
  {
   "cell_type": "code",
   "execution_count": 12,
   "metadata": {},
   "outputs": [
    {
     "output_type": "stream",
     "name": "stderr",
     "text": [
      "GPU available: True, used: True\n",
      "TPU available: False, using: 0 TPU cores\n",
      "LOCAL_RANK: 0 - CUDA_VISIBLE_DEVICES: [1]\n",
      "\n",
      "  | Name  | Type      | Params\n",
      "------------------------------------\n",
      "0 | model | SimpleFCN | 1.4 K \n",
      "------------------------------------\n",
      "1.4 K     Trainable params\n",
      "0         Non-trainable params\n",
      "1.4 K     Total params\n",
      "0.005     Total estimated model params size (MB)\n"
     ]
    },
    {
     "output_type": "display_data",
     "data": {
      "text/plain": "Training: 0it [00:00, ?it/s]",
      "application/vnd.jupyter.widget-view+json": {
       "version_major": 2,
       "version_minor": 0,
       "model_id": "c0645bd619cc44488d20885ed47b5b57"
      }
     },
     "metadata": {}
    }
   ],
   "source": [
    "# switch to lbfgs\n",
    "solver.lr = 0.05\n",
    "solver.optim_params = {'max_iter': 1, 'history_size': 100}\n",
    "solver.optimizer = torch.optim.LBFGS\n",
    "trainer = pl.Trainer(gpus=1,\n",
    "                     num_sanity_val_steps=0,\n",
    "                     benchmark=True,\n",
    "                     check_val_every_n_epoch=100,\n",
    "                     log_every_n_steps=100,\n",
    "                     max_epochs=3,\n",
    "                     checkpoint_callback=False\n",
    "                     )\n",
    "\n",
    "trainer.fit(solver, setup)"
   ]
  },
  {
   "source": [
    "And again check the value of D. It is pretty close to D = 2, what we used in the FDM "
   ],
   "cell_type": "markdown",
   "metadata": {}
  },
  {
   "cell_type": "code",
   "execution_count": 13,
   "metadata": {},
   "outputs": [
    {
     "output_type": "execute_result",
     "data": {
      "text/plain": [
       "Parameter containing:\n",
       "tensor([2.0007], device='cuda:0', requires_grad=True)"
      ]
     },
     "metadata": {},
     "execution_count": 13
    }
   ],
   "source": [
    "setup.parameters['D']"
   ]
  },
  {
   "source": [
    "Not only did we find D, the neural network also learned the solution of our problem:"
   ],
   "cell_type": "markdown",
   "metadata": {}
  },
  {
   "cell_type": "code",
   "execution_count": 14,
   "metadata": {},
   "outputs": [
    {
     "output_type": "display_data",
     "data": {
      "text/plain": "<Figure size 432x288 with 2 Axes>",
      "image/svg+xml": "<?xml version=\"1.0\" encoding=\"utf-8\" standalone=\"no\"?>\n<!DOCTYPE svg PUBLIC \"-//W3C//DTD SVG 1.1//EN\"\n  \"http://www.w3.org/Graphics/SVG/1.1/DTD/svg11.dtd\">\n<svg height=\"241.762917pt\" version=\"1.1\" viewBox=\"0 0 316.549352 241.762917\" width=\"316.549352pt\" xmlns=\"http://www.w3.org/2000/svg\" xmlns:xlink=\"http://www.w3.org/1999/xlink\">\n <metadata>\n  <rdf:RDF xmlns:cc=\"http://creativecommons.org/ns#\" xmlns:dc=\"http://purl.org/dc/elements/1.1/\" xmlns:rdf=\"http://www.w3.org/1999/02/22-rdf-syntax-ns#\">\n   <cc:Work>\n    <dc:type rdf:resource=\"http://purl.org/dc/dcmitype/StillImage\"/>\n    <dc:date>2021-07-12T10:14:38.240887</dc:date>\n    <dc:format>image/svg+xml</dc:format>\n    <dc:creator>\n     <cc:Agent>\n      <dc:title>Matplotlib v3.4.2, https://matplotlib.org/</dc:title>\n     </cc:Agent>\n    </dc:creator>\n   </cc:Work>\n  </rdf:RDF>\n </metadata>\n <defs>\n  <style type=\"text/css\">*{stroke-linecap:butt;stroke-linejoin:round;}</style>\n </defs>\n <g id=\"figure_1\">\n  <g id=\"patch_1\">\n   <path d=\"M 0 241.762917 \nL 316.549352 241.762917 \nL 316.549352 0 \nL 0 0 \nz\n\" style=\"fill:none;\"/>\n  </g>\n  <g id=\"patch_2\">\n   <path d=\"M 21.309152 224.64 \nL 238.749152 224.64 \nL 238.749152 7.2 \nL 21.309152 7.2 \nz\n\" style=\"fill:#ffffff;\"/>\n  </g>\n  <g id=\"pane3d_1\">\n   <g id=\"patch_3\">\n    <path d=\"M 109.533161 110.837228 \nL 224.755832 144.32791 \nL 228.867723 54.534718 \nL 108.534992 24.033878 \n\" style=\"fill:#f2f2f2;opacity:0.5;stroke:#f2f2f2;stroke-linejoin:miter;\"/>\n   </g>\n  </g>\n  <g id=\"pane3d_2\">\n   <g id=\"patch_4\">\n    <path d=\"M 109.533161 110.837228 \nL 37.727372 171.026264 \nL 33.292925 78.942111 \nL 108.534992 24.033878 \n\" style=\"fill:#e6e6e6;opacity:0.5;stroke:#e6e6e6;stroke-linejoin:miter;\"/>\n   </g>\n  </g>\n  <g id=\"pane3d_3\">\n   <g id=\"patch_5\">\n    <path d=\"M 109.533161 110.837228 \nL 37.727372 171.026264 \nL 159.869031 210.91773 \nL 224.755832 144.32791 \n\" style=\"fill:#ececec;opacity:0.5;stroke:#ececec;stroke-linejoin:miter;\"/>\n   </g>\n  </g>\n  <g id=\"axis3d_1\">\n   <g id=\"line2d_1\">\n    <path d=\"M 224.755832 144.32791 \nL 159.869031 210.91773 \n\" style=\"fill:none;stroke:#000000;stroke-linecap:square;stroke-width:0.8;\"/>\n   </g>\n   <g id=\"text_1\">\n    <!-- x_1 -->\n    <g transform=\"translate(212.101984 206.632663)scale(0.1 -0.1)\">\n     <defs>\n      <path d=\"M 3513 3500 \nL 2247 1797 \nL 3578 0 \nL 2900 0 \nL 1881 1375 \nL 863 0 \nL 184 0 \nL 1544 1831 \nL 300 3500 \nL 978 3500 \nL 1906 2253 \nL 2834 3500 \nL 3513 3500 \nz\n\" id=\"DejaVuSans-78\" transform=\"scale(0.015625)\"/>\n      <path d=\"M 3263 -1063 \nL 3263 -1509 \nL -63 -1509 \nL -63 -1063 \nL 3263 -1063 \nz\n\" id=\"DejaVuSans-5f\" transform=\"scale(0.015625)\"/>\n      <path d=\"M 794 531 \nL 1825 531 \nL 1825 4091 \nL 703 3866 \nL 703 4441 \nL 1819 4666 \nL 2450 4666 \nL 2450 531 \nL 3481 531 \nL 3481 0 \nL 794 0 \nL 794 531 \nz\n\" id=\"DejaVuSans-31\" transform=\"scale(0.015625)\"/>\n     </defs>\n     <use xlink:href=\"#DejaVuSans-78\"/>\n     <use x=\"59.179688\" xlink:href=\"#DejaVuSans-5f\"/>\n     <use x=\"109.179688\" xlink:href=\"#DejaVuSans-31\"/>\n    </g>\n   </g>\n   <g id=\"Line3DCollection_1\">\n    <path d=\"M 220.960049 148.223317 \nL 105.315132 114.372864 \nL 104.130879 27.247799 \n\" style=\"fill:none;stroke:#b0b0b0;stroke-width:0.8;\"/>\n    <path d=\"M 210.331672 159.130646 \nL 93.516054 124.263085 \nL 91.800846 36.245695 \n\" style=\"fill:none;stroke:#b0b0b0;stroke-width:0.8;\"/>\n    <path d=\"M 199.373453 170.376475 \nL 81.368678 134.445256 \nL 79.090774 45.520927 \n\" style=\"fill:none;stroke:#b0b0b0;stroke-width:0.8;\"/>\n    <path d=\"M 188.069795 181.976809 \nL 68.857351 144.932498 \nL 65.982817 55.086517 \n\" style=\"fill:none;stroke:#b0b0b0;stroke-width:0.8;\"/>\n    <path d=\"M 176.404101 193.948681 \nL 55.965468 155.73873 \nL 52.457995 64.956316 \n\" style=\"fill:none;stroke:#b0b0b0;stroke-width:0.8;\"/>\n    <path d=\"M 164.358696 206.31023 \nL 42.675398 166.878731 \nL 38.496101 75.145071 \n\" style=\"fill:none;stroke:#b0b0b0;stroke-width:0.8;\"/>\n   </g>\n   <g id=\"xtick_1\">\n    <g id=\"line2d_2\">\n     <path d=\"M 219.98922 147.939146 \nL 222.904027 148.79234 \n\" style=\"fill:none;stroke:#000000;stroke-linecap:square;stroke-width:0.8;\"/>\n    </g>\n    <g id=\"text_2\">\n     <!-- 0 -->\n     <g transform=\"translate(229.729463 168.196556)scale(0.1 -0.1)\">\n      <defs>\n       <path d=\"M 2034 4250 \nQ 1547 4250 1301 3770 \nQ 1056 3291 1056 2328 \nQ 1056 1369 1301 889 \nQ 1547 409 2034 409 \nQ 2525 409 2770 889 \nQ 3016 1369 3016 2328 \nQ 3016 3291 2770 3770 \nQ 2525 4250 2034 4250 \nz\nM 2034 4750 \nQ 2819 4750 3233 4129 \nQ 3647 3509 3647 2328 \nQ 3647 1150 3233 529 \nQ 2819 -91 2034 -91 \nQ 1250 -91 836 529 \nQ 422 1150 422 2328 \nQ 422 3509 836 4129 \nQ 1250 4750 2034 4750 \nz\n\" id=\"DejaVuSans-30\" transform=\"scale(0.015625)\"/>\n      </defs>\n      <use xlink:href=\"#DejaVuSans-30\"/>\n     </g>\n    </g>\n   </g>\n   <g id=\"xtick_2\">\n    <g id=\"line2d_3\">\n     <path d=\"M 209.350311 158.837726 \nL 212.296777 159.717198 \n\" style=\"fill:none;stroke:#000000;stroke-linecap:square;stroke-width:0.8;\"/>\n    </g>\n    <g id=\"text_3\">\n     <!-- 2 -->\n     <g transform=\"translate(219.276505 179.300607)scale(0.1 -0.1)\">\n      <defs>\n       <path d=\"M 1228 531 \nL 3431 531 \nL 3431 0 \nL 469 0 \nL 469 531 \nQ 828 903 1448 1529 \nQ 2069 2156 2228 2338 \nQ 2531 2678 2651 2914 \nQ 2772 3150 2772 3378 \nQ 2772 3750 2511 3984 \nQ 2250 4219 1831 4219 \nQ 1534 4219 1204 4116 \nQ 875 4013 500 3803 \nL 500 4441 \nQ 881 4594 1212 4672 \nQ 1544 4750 1819 4750 \nQ 2544 4750 2975 4387 \nQ 3406 4025 3406 3419 \nQ 3406 3131 3298 2873 \nQ 3191 2616 2906 2266 \nQ 2828 2175 2409 1742 \nQ 1991 1309 1228 531 \nz\n\" id=\"DejaVuSans-32\" transform=\"scale(0.015625)\"/>\n      </defs>\n      <use xlink:href=\"#DejaVuSans-32\"/>\n     </g>\n    </g>\n   </g>\n   <g id=\"xtick_3\">\n    <g id=\"line2d_4\">\n     <path d=\"M 198.381368 170.074395 \nL 201.360069 170.981379 \n\" style=\"fill:none;stroke:#000000;stroke-linecap:square;stroke-width:0.8;\"/>\n    </g>\n    <g id=\"text_4\">\n     <!-- 4 -->\n     <g transform=\"translate(208.498922 190.749504)scale(0.1 -0.1)\">\n      <defs>\n       <path d=\"M 2419 4116 \nL 825 1625 \nL 2419 1625 \nL 2419 4116 \nz\nM 2253 4666 \nL 3047 4666 \nL 3047 1625 \nL 3713 1625 \nL 3713 1100 \nL 3047 1100 \nL 3047 0 \nL 2419 0 \nL 2419 1100 \nL 313 1100 \nL 313 1709 \nL 2253 4666 \nz\n\" id=\"DejaVuSans-34\" transform=\"scale(0.015625)\"/>\n      </defs>\n      <use xlink:href=\"#DejaVuSans-34\"/>\n     </g>\n    </g>\n   </g>\n   <g id=\"xtick_4\">\n    <g id=\"line2d_5\">\n     <path d=\"M 187.066792 181.665134 \nL 190.078312 182.60094 \n\" style=\"fill:none;stroke:#000000;stroke-linecap:square;stroke-width:0.8;\"/>\n    </g>\n    <g id=\"text_5\">\n     <!-- 6 -->\n     <g transform=\"translate(197.381352 202.559564)scale(0.1 -0.1)\">\n      <defs>\n       <path d=\"M 2113 2584 \nQ 1688 2584 1439 2293 \nQ 1191 2003 1191 1497 \nQ 1191 994 1439 701 \nQ 1688 409 2113 409 \nQ 2538 409 2786 701 \nQ 3034 994 3034 1497 \nQ 3034 2003 2786 2293 \nQ 2538 2584 2113 2584 \nz\nM 3366 4563 \nL 3366 3988 \nQ 3128 4100 2886 4159 \nQ 2644 4219 2406 4219 \nQ 1781 4219 1451 3797 \nQ 1122 3375 1075 2522 \nQ 1259 2794 1537 2939 \nQ 1816 3084 2150 3084 \nQ 2853 3084 3261 2657 \nQ 3669 2231 3669 1497 \nQ 3669 778 3244 343 \nQ 2819 -91 2113 -91 \nQ 1303 -91 875 529 \nQ 447 1150 447 2328 \nQ 447 3434 972 4092 \nQ 1497 4750 2381 4750 \nQ 2619 4750 2861 4703 \nQ 3103 4656 3366 4563 \nz\n\" id=\"DejaVuSans-36\" transform=\"scale(0.015625)\"/>\n      </defs>\n      <use xlink:href=\"#DejaVuSans-36\"/>\n     </g>\n    </g>\n   </g>\n   <g id=\"xtick_5\">\n    <g id=\"line2d_6\">\n     <path d=\"M 175.389984 193.626946 \nL 178.434915 194.59297 \n\" style=\"fill:none;stroke:#000000;stroke-linecap:square;stroke-width:0.8;\"/>\n    </g>\n    <g id=\"text_6\">\n     <!-- 8 -->\n     <g transform=\"translate(185.90745 214.74815)scale(0.1 -0.1)\">\n      <defs>\n       <path d=\"M 2034 2216 \nQ 1584 2216 1326 1975 \nQ 1069 1734 1069 1313 \nQ 1069 891 1326 650 \nQ 1584 409 2034 409 \nQ 2484 409 2743 651 \nQ 3003 894 3003 1313 \nQ 3003 1734 2745 1975 \nQ 2488 2216 2034 2216 \nz\nM 1403 2484 \nQ 997 2584 770 2862 \nQ 544 3141 544 3541 \nQ 544 4100 942 4425 \nQ 1341 4750 2034 4750 \nQ 2731 4750 3128 4425 \nQ 3525 4100 3525 3541 \nQ 3525 3141 3298 2862 \nQ 3072 2584 2669 2484 \nQ 3125 2378 3379 2068 \nQ 3634 1759 3634 1313 \nQ 3634 634 3220 271 \nQ 2806 -91 2034 -91 \nQ 1263 -91 848 271 \nQ 434 634 434 1313 \nQ 434 1759 690 2068 \nQ 947 2378 1403 2484 \nz\nM 1172 3481 \nQ 1172 3119 1398 2916 \nQ 1625 2713 2034 2713 \nQ 2441 2713 2670 2916 \nQ 2900 3119 2900 3481 \nQ 2900 3844 2670 4047 \nQ 2441 4250 2034 4250 \nQ 1625 4250 1398 4047 \nQ 1172 3844 1172 3481 \nz\n\" id=\"DejaVuSans-38\" transform=\"scale(0.015625)\"/>\n      </defs>\n      <use xlink:href=\"#DejaVuSans-38\"/>\n     </g>\n    </g>\n   </g>\n   <g id=\"xtick_6\">\n    <g id=\"line2d_7\">\n     <path d=\"M 163.333267 205.977939 \nL 166.412205 206.97567 \n\" style=\"fill:none;stroke:#000000;stroke-linecap:square;stroke-width:0.8;\"/>\n    </g>\n    <g id=\"text_7\">\n     <!-- 10 -->\n     <g transform=\"translate(170.878556 227.333759)scale(0.1 -0.1)\">\n      <use xlink:href=\"#DejaVuSans-31\"/>\n      <use x=\"63.623047\" xlink:href=\"#DejaVuSans-30\"/>\n     </g>\n    </g>\n   </g>\n  </g>\n  <g id=\"axis3d_2\">\n   <g id=\"line2d_8\">\n    <path d=\"M 37.727372 171.026264 \nL 159.869031 210.91773 \n\" style=\"fill:none;stroke:#000000;stroke-linecap:square;stroke-width:0.8;\"/>\n   </g>\n   <g id=\"text_8\">\n    <!-- x_2 -->\n    <g transform=\"translate(72.22577 228.31592)scale(0.1 -0.1)\">\n     <use xlink:href=\"#DejaVuSans-78\"/>\n     <use x=\"59.179688\" xlink:href=\"#DejaVuSans-5f\"/>\n     <use x=\"109.179688\" xlink:href=\"#DejaVuSans-32\"/>\n    </g>\n   </g>\n   <g id=\"Line3DCollection_2\">\n    <path d=\"M 115.838764 25.885171 \nL 116.540651 112.874029 \nL 45.124912 173.442301 \n\" style=\"fill:none;stroke:#b0b0b0;stroke-width:0.8;\"/>\n    <path d=\"M 136.109431 31.023194 \nL 135.979613 118.524167 \nL 65.666652 180.151233 \n\" style=\"fill:none;stroke:#b0b0b0;stroke-width:0.8;\"/>\n    <path d=\"M 156.735347 36.251263 \nL 155.745053 124.269201 \nL 86.584755 186.983086 \n\" style=\"fill:none;stroke:#b0b0b0;stroke-width:0.8;\"/>\n    <path d=\"M 177.725934 41.571765 \nL 175.845268 130.111539 \nL 107.88966 193.941268 \n\" style=\"fill:none;stroke:#b0b0b0;stroke-width:0.8;\"/>\n    <path d=\"M 199.09095 46.987173 \nL 196.288835 136.053677 \nL 129.592197 201.029316 \n\" style=\"fill:none;stroke:#b0b0b0;stroke-width:0.8;\"/>\n    <path d=\"M 220.840503 52.500051 \nL 217.084626 142.098193 \nL 151.703602 208.250901 \n\" style=\"fill:none;stroke:#b0b0b0;stroke-width:0.8;\"/>\n   </g>\n   <g id=\"xtick_7\">\n    <g id=\"line2d_9\">\n     <path d=\"M 45.746796 172.914876 \nL 43.878475 174.499414 \n\" style=\"fill:none;stroke:#000000;stroke-linecap:square;stroke-width:0.8;\"/>\n    </g>\n    <g id=\"text_9\">\n     <!-- 0 -->\n     <g transform=\"translate(34.408342 196.764533)scale(0.1 -0.1)\">\n      <use xlink:href=\"#DejaVuSans-30\"/>\n     </g>\n    </g>\n   </g>\n   <g id=\"xtick_8\">\n    <g id=\"line2d_10\">\n     <path d=\"M 66.279384 179.614192 \nL 64.438533 181.22764 \n\" style=\"fill:none;stroke:#000000;stroke-linecap:square;stroke-width:0.8;\"/>\n    </g>\n    <g id=\"text_10\">\n     <!-- 2 -->\n     <g transform=\"translate(54.975746 203.647684)scale(0.1 -0.1)\">\n      <use xlink:href=\"#DejaVuSans-32\"/>\n     </g>\n    </g>\n   </g>\n   <g id=\"xtick_9\">\n    <g id=\"line2d_11\">\n     <path d=\"M 87.187895 186.436164 \nL 85.375838 188.079319 \n\" style=\"fill:none;stroke:#000000;stroke-linecap:square;stroke-width:0.8;\"/>\n    </g>\n    <g id=\"text_11\">\n     <!-- 4 -->\n     <g transform=\"translate(75.92173 210.657531)scale(0.1 -0.1)\">\n      <use xlink:href=\"#DejaVuSans-34\"/>\n     </g>\n    </g>\n   </g>\n   <g id=\"xtick_10\">\n    <g id=\"line2d_12\">\n     <path d=\"M 108.482747 193.384189 \nL 106.70087 195.057881 \n\" style=\"fill:none;stroke:#000000;stroke-linecap:square;stroke-width:0.8;\"/>\n    </g>\n    <g id=\"text_12\">\n     <!-- 6 -->\n     <g transform=\"translate(97.256845 217.797606)scale(0.1 -0.1)\">\n      <use xlink:href=\"#DejaVuSans-36\"/>\n     </g>\n    </g>\n   </g>\n   <g id=\"xtick_11\">\n    <g id=\"line2d_13\">\n     <path d=\"M 130.174749 200.461796 \nL 128.4245 202.166882 \n\" style=\"fill:none;stroke:#000000;stroke-linecap:square;stroke-width:0.8;\"/>\n    </g>\n    <g id=\"text_13\">\n     <!-- 8 -->\n     <g transform=\"translate(118.992037 225.071572)scale(0.1 -0.1)\">\n      <use xlink:href=\"#DejaVuSans-38\"/>\n     </g>\n    </g>\n   </g>\n   <g id=\"xtick_12\">\n    <g id=\"line2d_14\">\n     <path d=\"M 152.275114 207.672643 \nL 150.558008 209.410015 \n\" style=\"fill:none;stroke:#000000;stroke-linecap:square;stroke-width:0.8;\"/>\n    </g>\n    <g id=\"text_14\">\n     <!-- 10 -->\n     <g transform=\"translate(137.957414 232.48323)scale(0.1 -0.1)\">\n      <use xlink:href=\"#DejaVuSans-31\"/>\n      <use x=\"63.623047\" xlink:href=\"#DejaVuSans-30\"/>\n     </g>\n    </g>\n   </g>\n  </g>\n  <g id=\"axis3d_3\">\n   <g id=\"line2d_15\">\n    <path d=\"M 37.727372 171.026264 \nL 33.292925 78.942111 \n\" style=\"fill:none;stroke:#000000;stroke-linecap:square;stroke-width:0.8;\"/>\n   </g>\n   <g id=\"Line3DCollection_3\">\n    <path d=\"M 37.584611 168.061737 \nL 109.500908 108.032421 \nL 224.888426 141.432416 \n\" style=\"fill:none;stroke:#b0b0b0;stroke-width:0.8;\"/>\n    <path d=\"M 36.739614 150.514828 \nL 109.310165 91.444948 \nL 225.672943 124.300553 \n\" style=\"fill:none;stroke:#b0b0b0;stroke-width:0.8;\"/>\n    <path d=\"M 35.879511 132.654244 \nL 109.116297 74.58561 \nL 226.470968 106.873742 \n\" style=\"fill:none;stroke:#b0b0b0;stroke-width:0.8;\"/>\n    <path d=\"M 35.003895 114.471499 \nL 108.919224 57.447669 \nL 227.28285 89.1443 \n\" style=\"fill:none;stroke:#b0b0b0;stroke-width:0.8;\"/>\n    <path d=\"M 34.112341 95.957796 \nL 108.718867 40.024162 \nL 228.108955 71.104274 \n\" style=\"fill:none;stroke:#b0b0b0;stroke-width:0.8;\"/>\n   </g>\n   <g id=\"xtick_13\">\n    <g id=\"line2d_16\">\n     <path d=\"M 38.210763 167.53908 \nL 36.329623 169.109289 \n\" style=\"fill:none;stroke:#000000;stroke-linecap:square;stroke-width:0.8;\"/>\n    </g>\n    <g id=\"text_15\">\n     <!-- 0 -->\n     <g transform=\"translate(14.591431 178.476872)scale(0.1 -0.1)\">\n      <use xlink:href=\"#DejaVuSans-30\"/>\n     </g>\n    </g>\n   </g>\n   <g id=\"xtick_14\">\n    <g id=\"line2d_17\">\n     <path d=\"M 37.371917 150.000155 \nL 35.472275 151.546397 \n\" style=\"fill:none;stroke:#000000;stroke-linecap:square;stroke-width:0.8;\"/>\n    </g>\n    <g id=\"text_16\">\n     <!-- 20 -->\n     <g transform=\"translate(10.385718 160.887048)scale(0.1 -0.1)\">\n      <use xlink:href=\"#DejaVuSans-32\"/>\n      <use x=\"63.623047\" xlink:href=\"#DejaVuSans-30\"/>\n     </g>\n    </g>\n   </g>\n   <g id=\"xtick_15\">\n    <g id=\"line2d_18\">\n     <path d=\"M 36.518086 132.147926 \nL 34.599578 133.669089 \n\" style=\"fill:none;stroke:#000000;stroke-linecap:square;stroke-width:0.8;\"/>\n    </g>\n    <g id=\"text_17\">\n     <!-- 40 -->\n     <g transform=\"translate(9.342869 142.981553)scale(0.1 -0.1)\">\n      <use xlink:href=\"#DejaVuSans-34\"/>\n      <use x=\"63.623047\" xlink:href=\"#DejaVuSans-30\"/>\n     </g>\n    </g>\n   </g>\n   <g id=\"xtick_16\">\n    <g id=\"line2d_19\">\n     <path d=\"M 35.648865 113.973921 \nL 33.711117 115.468844 \n\" style=\"fill:none;stroke:#000000;stroke-linecap:square;stroke-width:0.8;\"/>\n    </g>\n    <g id=\"text_18\">\n     <!-- 60 -->\n     <g transform=\"translate(8.281136 124.751812)scale(0.1 -0.1)\">\n      <use xlink:href=\"#DejaVuSans-36\"/>\n      <use x=\"63.623047\" xlink:href=\"#DejaVuSans-30\"/>\n     </g>\n    </g>\n   </g>\n   <g id=\"xtick_17\">\n    <g id=\"line2d_20\">\n     <path d=\"M 34.763834 95.469361 \nL 32.806461 96.936833 \n\" style=\"fill:none;stroke:#000000;stroke-linecap:square;stroke-width:0.8;\"/>\n    </g>\n    <g id=\"text_19\">\n     <!-- 80 -->\n     <g transform=\"translate(7.2 106.188938)scale(0.1 -0.1)\">\n      <use xlink:href=\"#DejaVuSans-38\"/>\n      <use x=\"63.623047\" xlink:href=\"#DejaVuSans-30\"/>\n     </g>\n    </g>\n   </g>\n  </g>\n  <g id=\"axes_1\">\n   <g id=\"Poly3DCollection_1\">\n    <path clip-path=\"url(#p888006bbd3)\" d=\"M 116.622944 112.502618 \nL 123.130543 116.929823 \nL 112.312748 113.095476 \nz\n\" style=\"fill:#0000b2;\"/>\n    <path clip-path=\"url(#p888006bbd3)\" d=\"M 105.811539 117.520558 \nL 116.622944 112.502618 \nL 112.312748 113.095476 \nz\n\" style=\"fill:#0000bb;\"/>\n    <path clip-path=\"url(#p888006bbd3)\" d=\"M 127.624663 107.171588 \nL 134.042231 120.059391 \nL 123.130543 116.929823 \nz\n\" style=\"fill:#0000d6;\"/>\n    <path clip-path=\"url(#p888006bbd3)\" d=\"M 99.241349 124.641752 \nL 116.622944 112.502618 \nL 105.811539 117.520558 \nz\n\" style=\"fill:#0000bb;\"/>\n    <path clip-path=\"url(#p888006bbd3)\" d=\"M 116.622944 112.502618 \nL 127.624663 107.171588 \nL 123.130543 116.929823 \nz\n\" style=\"fill:#0000ff;\"/>\n    <path clip-path=\"url(#p888006bbd3)\" d=\"M 134.042231 120.059391 \nL 127.624663 107.171588 \nL 145.05625 123.291651 \nz\n\" style=\"fill:#0000d6;\"/>\n    <path clip-path=\"url(#p888006bbd3)\" d=\"M 99.241349 124.641752 \nL 109.964164 109.817932 \nL 116.622944 112.502618 \nz\n\" style=\"fill:#0000ff;\"/>\n    <path clip-path=\"url(#p888006bbd3)\" d=\"M 145.05625 123.291651 \nL 150.169536 103.28426 \nL 156.175657 126.383041 \nz\n\" style=\"fill:#0000ff;\"/>\n    <path clip-path=\"url(#p888006bbd3)\" d=\"M 145.05625 123.291651 \nL 127.624663 107.171588 \nL 138.81917 103.732853 \nz\n\" style=\"fill:#0038ff;\"/>\n    <path clip-path=\"url(#p888006bbd3)\" d=\"M 99.241349 124.641752 \nL 92.547876 130.576466 \nL 103.166396 108.908612 \nz\n\" style=\"fill:#0000f6;\"/>\n    <path clip-path=\"url(#p888006bbd3)\" d=\"M 150.169536 103.28426 \nL 167.399176 129.661851 \nL 156.175657 126.383041 \nz\n\" style=\"fill:#0000ff;\"/>\n    <path clip-path=\"url(#p888006bbd3)\" d=\"M 120.993498 96.045453 \nL 127.624663 107.171588 \nL 116.622944 112.502618 \nz\n\" style=\"fill:#008cff;\"/>\n    <path clip-path=\"url(#p888006bbd3)\" d=\"M 109.964164 109.817932 \nL 99.241349 124.641752 \nL 103.166396 108.908612 \nz\n\" style=\"fill:#0034ff;\"/>\n    <path clip-path=\"url(#p888006bbd3)\" d=\"M 150.169536 103.28426 \nL 145.05625 123.291651 \nL 138.81917 103.732853 \nz\n\" style=\"fill:#0060ff;\"/>\n    <path clip-path=\"url(#p888006bbd3)\" d=\"M 109.964164 109.817932 \nL 120.993498 96.045453 \nL 116.622944 112.502618 \nz\n\" style=\"fill:#0088ff;\"/>\n    <path clip-path=\"url(#p888006bbd3)\" d=\"M 167.399176 129.661851 \nL 173.112279 113.215573 \nL 178.728316 133.012999 \nz\n\" style=\"fill:#0000fa;\"/>\n    <path clip-path=\"url(#p888006bbd3)\" d=\"M 127.624663 107.171588 \nL 120.993498 96.045453 \nL 138.81917 103.732853 \nz\n\" style=\"fill:#00ccff;\"/>\n    <path clip-path=\"url(#p888006bbd3)\" d=\"M 96.260398 110.78483 \nL 92.547876 130.576466 \nL 85.728359 135.87087 \nz\n\" style=\"fill:#0000ff;\"/>\n    <path clip-path=\"url(#p888006bbd3)\" d=\"M 178.728316 133.012999 \nL 173.112279 113.215573 \nL 190.180257 135.861069 \nz\n\" style=\"fill:#0000fa;\"/>\n    <path clip-path=\"url(#p888006bbd3)\" d=\"M 167.399176 129.661851 \nL 150.169536 103.28426 \nL 161.621062 106.379377 \nz\n\" style=\"fill:#0074ff;\"/>\n    <path clip-path=\"url(#p888006bbd3)\" d=\"M 120.993498 96.045453 \nL 109.964164 109.817932 \nL 103.166396 108.908612 \nz\n\" style=\"fill:#00c8ff;\"/>\n    <path clip-path=\"url(#p888006bbd3)\" d=\"M 92.547876 130.576466 \nL 96.260398 110.78483 \nL 103.166396 108.908612 \nz\n\" style=\"fill:#0060ff;\"/>\n    <path clip-path=\"url(#p888006bbd3)\" d=\"M 173.112279 113.215573 \nL 167.399176 129.661851 \nL 161.621062 106.379377 \nz\n\" style=\"fill:#0064ff;\"/>\n    <path clip-path=\"url(#p888006bbd3)\" d=\"M 184.593769 123.279272 \nL 201.732553 139.179406 \nL 190.180257 135.861069 \nz\n\" style=\"fill:#0000df;\"/>\n    <path clip-path=\"url(#p888006bbd3)\" d=\"M 78.796913 141.437293 \nL 96.260398 110.78483 \nL 85.728359 135.87087 \nz\n\" style=\"fill:#0000ff;\"/>\n    <path clip-path=\"url(#p888006bbd3)\" d=\"M 201.732553 139.179406 \nL 207.452454 149.145466 \nL 213.336679 144.028255 \nz\n\" style=\"fill:#000080;\"/>\n    <path clip-path=\"url(#p888006bbd3)\" d=\"M 120.993498 96.045453 \nL 132.318745 86.571097 \nL 138.81917 103.732853 \nz\n\" style=\"fill:#4dffaa;\"/>\n    <path clip-path=\"url(#p888006bbd3)\" d=\"M 173.112279 113.215573 \nL 184.593769 123.279272 \nL 190.180257 135.861069 \nz\n\" style=\"fill:#003cff;\"/>\n    <path clip-path=\"url(#p888006bbd3)\" d=\"M 143.867485 82.542684 \nL 150.169536 103.28426 \nL 138.81917 103.732853 \nz\n\" style=\"fill:#4dffaa;\"/>\n    <path clip-path=\"url(#p888006bbd3)\" d=\"M 201.732553 139.179406 \nL 184.593769 123.279272 \nL 196.037587 135.702603 \nz\n\" style=\"fill:#0000ff;\"/>\n    <path clip-path=\"url(#p888006bbd3)\" d=\"M 207.452454 149.145466 \nL 201.732553 139.179406 \nL 196.037587 135.702603 \nz\n\" style=\"fill:#0000b2;\"/>\n    <path clip-path=\"url(#p888006bbd3)\" d=\"M 114.175021 88.479531 \nL 120.993498 96.045453 \nL 103.166396 108.908612 \nz\n\" style=\"fill:#49ffad;\"/>\n    <path clip-path=\"url(#p888006bbd3)\" d=\"M 150.169536 103.28426 \nL 143.867485 82.542684 \nL 161.621062 106.379377 \nz\n\" style=\"fill:#5aff9d;\"/>\n    <path clip-path=\"url(#p888006bbd3)\" d=\"M 132.318745 86.571097 \nL 143.867485 82.542684 \nL 138.81917 103.732853 \nz\n\" style=\"fill:#8dff6a;\"/>\n    <path clip-path=\"url(#p888006bbd3)\" d=\"M 78.796913 141.437293 \nL 89.287786 116.280574 \nL 96.260398 110.78483 \nz\n\" style=\"fill:#0070ff;\"/>\n    <path clip-path=\"url(#p888006bbd3)\" d=\"M 78.796913 141.437293 \nL 71.766557 147.738955 \nL 82.285301 125.518484 \nz\n\" style=\"fill:#0000fa;\"/>\n    <path clip-path=\"url(#p888006bbd3)\" d=\"M 173.112279 113.215573 \nL 161.621062 106.379377 \nL 155.535166 85.509086 \nz\n\" style=\"fill:#50ffa7;\"/>\n    <path clip-path=\"url(#p888006bbd3)\" d=\"M 96.260398 110.78483 \nL 107.231727 87.199915 \nL 103.166396 108.908612 \nz\n\" style=\"fill:#49ffad;\"/>\n    <path clip-path=\"url(#p888006bbd3)\" d=\"M 207.452454 149.145466 \nL 196.037587 135.702603 \nL 190.174676 132.724056 \nz\n\" style=\"fill:#0000ff;\"/>\n    <path clip-path=\"url(#p888006bbd3)\" d=\"M 173.112279 113.215573 \nL 178.765249 112.109819 \nL 184.593769 123.279272 \nz\n\" style=\"fill:#00ccff;\"/>\n    <path clip-path=\"url(#p888006bbd3)\" d=\"M 132.318745 86.571097 \nL 120.993498 96.045453 \nL 125.578219 74.274394 \nz\n\" style=\"fill:#ceff29;\"/>\n    <path clip-path=\"url(#p888006bbd3)\" d=\"M 89.287786 116.280574 \nL 78.796913 141.437293 \nL 82.285301 125.518484 \nz\n\" style=\"fill:#0064ff;\"/>\n    <path clip-path=\"url(#p888006bbd3)\" d=\"M 107.231727 87.199915 \nL 114.175021 88.479531 \nL 103.166396 108.908612 \nz\n\" style=\"fill:#8dff6a;\"/>\n    <path clip-path=\"url(#p888006bbd3)\" d=\"M 184.593769 123.279272 \nL 178.765249 112.109819 \nL 196.037587 135.702603 \nz\n\" style=\"fill:#008cff;\"/>\n    <path clip-path=\"url(#p888006bbd3)\" d=\"M 120.993498 96.045453 \nL 114.175021 88.479531 \nL 125.578219 74.274394 \nz\n\" style=\"fill:#d1ff26;\"/>\n    <path clip-path=\"url(#p888006bbd3)\" d=\"M 201.442593 154.954813 \nL 207.452454 149.145466 \nL 190.174676 132.724056 \nz\n\" style=\"fill:#0000da;\"/>\n    <path clip-path=\"url(#p888006bbd3)\" d=\"M 161.621062 106.379377 \nL 143.867485 82.542684 \nL 155.535166 85.509086 \nz\n\" style=\"fill:#b1ff46;\"/>\n    <path clip-path=\"url(#p888006bbd3)\" d=\"M 75.274628 137.979347 \nL 71.766557 147.738955 \nL 64.587521 153.208889 \nz\n\" style=\"fill:#0000df;\"/>\n    <path clip-path=\"url(#p888006bbd3)\" d=\"M 89.287786 116.280574 \nL 107.231727 87.199915 \nL 96.260398 110.78483 \nz\n\" style=\"fill:#5aff9d;\"/>\n    <path clip-path=\"url(#p888006bbd3)\" d=\"M 196.037587 135.702603 \nL 178.765249 112.109819 \nL 190.174676 132.724056 \nz\n\" style=\"fill:#008cff;\"/>\n    <path clip-path=\"url(#p888006bbd3)\" d=\"M 173.112279 113.215573 \nL 155.535166 85.509086 \nL 167.200652 95.746297 \nz\n\" style=\"fill:#90ff66;\"/>\n    <path clip-path=\"url(#p888006bbd3)\" d=\"M 178.765249 112.109819 \nL 173.112279 113.215573 \nL 167.200652 95.746297 \nz\n\" style=\"fill:#50ffa7;\"/>\n    <path clip-path=\"url(#p888006bbd3)\" d=\"M 143.867485 82.542684 \nL 132.318745 86.571097 \nL 125.578219 74.274394 \nz\n\" style=\"fill:#ffdb00;\"/>\n    <path clip-path=\"url(#p888006bbd3)\" d=\"M 71.766557 147.738955 \nL 75.274628 137.979347 \nL 82.285301 125.518484 \nz\n\" style=\"fill:#003cff;\"/>\n    <path clip-path=\"url(#p888006bbd3)\" d=\"M 195.31488 161.291169 \nL 201.442593 154.954813 \nL 190.174676 132.724056 \nz\n\" style=\"fill:#0000da;\"/>\n    <path clip-path=\"url(#p888006bbd3)\" d=\"M 57.312907 159.601152 \nL 75.274628 137.979347 \nL 64.587521 153.208889 \nz\n\" style=\"fill:#0000e3;\"/>\n    <path clip-path=\"url(#p888006bbd3)\" d=\"M 114.175021 88.479531 \nL 107.231727 87.199915 \nL 125.578219 74.274394 \nz\n\" style=\"fill:#ffd700;\"/>\n    <path clip-path=\"url(#p888006bbd3)\" d=\"M 178.765249 112.109819 \nL 184.099127 131.97345 \nL 190.174676 132.724056 \nz\n\" style=\"fill:#00ccff;\"/>\n    <path clip-path=\"url(#p888006bbd3)\" d=\"M 184.099127 131.97345 \nL 195.31488 161.291169 \nL 190.174676 132.724056 \nz\n\" style=\"fill:#0038ff;\"/>\n    <path clip-path=\"url(#p888006bbd3)\" d=\"M 107.231727 87.199915 \nL 89.287786 116.280574 \nL 100.238548 93.276249 \nz\n\" style=\"fill:#adff49;\"/>\n    <path clip-path=\"url(#p888006bbd3)\" d=\"M 89.287786 116.280574 \nL 82.285301 125.518484 \nL 93.253204 105.981593 \nz\n\" style=\"fill:#36ffc1;\"/>\n    <path clip-path=\"url(#p888006bbd3)\" d=\"M 137.273483 68.539852 \nL 143.867485 82.542684 \nL 125.578219 74.274394 \nz\n\" style=\"fill:#ff7700;\"/>\n    <path clip-path=\"url(#p888006bbd3)\" d=\"M 143.867485 82.542684 \nL 149.11798 71.780779 \nL 155.535166 85.509086 \nz\n\" style=\"fill:#ff9f00;\"/>\n    <path clip-path=\"url(#p888006bbd3)\" d=\"M 75.274628 137.979347 \nL 57.312907 159.601152 \nL 68.274087 153.22607 \nz\n\" style=\"fill:#0000ff;\"/>\n    <path clip-path=\"url(#p888006bbd3)\" d=\"M 61.27181 170.129632 \nL 57.312907 159.601152 \nL 49.973617 167.508925 \nz\n\" style=\"fill:#000080;\"/>\n    <path clip-path=\"url(#p888006bbd3)\" d=\"M 100.238548 93.276249 \nL 89.287786 116.280574 \nL 93.253204 105.981593 \nz\n\" style=\"fill:#97ff60;\"/>\n    <path clip-path=\"url(#p888006bbd3)\" d=\"M 155.535166 85.509086 \nL 149.11798 71.780779 \nL 167.200652 95.746297 \nz\n\" style=\"fill:#ffb600;\"/>\n    <path clip-path=\"url(#p888006bbd3)\" d=\"M 160.956657 84.272859 \nL 178.765249 112.109819 \nL 167.200652 95.746297 \nz\n\" style=\"fill:#d1ff26;\"/>\n    <path clip-path=\"url(#p888006bbd3)\" d=\"M 57.312907 159.601152 \nL 61.27181 170.129632 \nL 68.274087 153.22607 \nz\n\" style=\"fill:#0000b2;\"/>\n    <path clip-path=\"url(#p888006bbd3)\" d=\"M 107.231727 87.199915 \nL 118.661659 70.384022 \nL 125.578219 74.274394 \nz\n\" style=\"fill:#ff7700;\"/>\n    <path clip-path=\"url(#p888006bbd3)\" d=\"M 75.274628 137.979347 \nL 86.324758 124.521513 \nL 82.285301 125.518484 \nz\n\" style=\"fill:#00d0ff;\"/>\n    <path clip-path=\"url(#p888006bbd3)\" d=\"M 178.765249 112.109819 \nL 172.647842 105.061287 \nL 184.099127 131.97345 \nz\n\" style=\"fill:#4dffaa;\"/>\n    <path clip-path=\"url(#p888006bbd3)\" d=\"M 149.11798 71.780779 \nL 143.867485 82.542684 \nL 137.273483 68.539852 \nz\n\" style=\"fill:#ff5900;\"/>\n    <path clip-path=\"url(#p888006bbd3)\" d=\"M 177.810922 134.133249 \nL 195.31488 161.291169 \nL 184.099127 131.97345 \nz\n\" style=\"fill:#0064ff;\"/>\n    <path clip-path=\"url(#p888006bbd3)\" d=\"M 195.31488 161.291169 \nL 177.810922 134.133249 \nL 189.085858 167.613348 \nz\n\" style=\"fill:#0000ff;\"/>\n    <path clip-path=\"url(#p888006bbd3)\" d=\"M 86.324758 124.521513 \nL 75.274628 137.979347 \nL 68.274087 153.22607 \nz\n\" style=\"fill:#0090ff;\"/>\n    <path clip-path=\"url(#p888006bbd3)\" d=\"M 172.647842 105.061287 \nL 178.765249 112.109819 \nL 160.956657 84.272859 \nz\n\" style=\"fill:#d1ff26;\"/>\n    <path clip-path=\"url(#p888006bbd3)\" d=\"M 82.285301 125.518484 \nL 86.324758 124.521513 \nL 93.253204 105.981593 \nz\n\" style=\"fill:#4dffaa;\"/>\n    <path clip-path=\"url(#p888006bbd3)\" d=\"M 149.11798 71.780779 \nL 160.956657 84.272859 \nL 167.200652 95.746297 \nz\n\" style=\"fill:#ff9100;\"/>\n    <path clip-path=\"url(#p888006bbd3)\" d=\"M 111.660352 76.228915 \nL 107.231727 87.199915 \nL 100.238548 93.276249 \nz\n\" style=\"fill:#ff9f00;\"/>\n    <path clip-path=\"url(#p888006bbd3)\" d=\"M 68.274087 153.22607 \nL 61.27181 170.129632 \nL 79.485963 147.810564 \nz\n\" style=\"fill:#0000ff;\"/>\n    <path clip-path=\"url(#p888006bbd3)\" d=\"M 172.647842 105.061287 \nL 177.810922 134.133249 \nL 184.099127 131.97345 \nz\n\" style=\"fill:#36ffc1;\"/>\n    <path clip-path=\"url(#p888006bbd3)\" d=\"M 130.448386 64.680778 \nL 137.273483 68.539852 \nL 125.578219 74.274394 \nz\n\" style=\"fill:#fa0f00;\"/>\n    <path clip-path=\"url(#p888006bbd3)\" d=\"M 107.231727 87.199915 \nL 111.660352 76.228915 \nL 118.661659 70.384022 \nz\n\" style=\"fill:#ff5500;\"/>\n    <path clip-path=\"url(#p888006bbd3)\" d=\"M 86.324758 124.521513 \nL 68.274087 153.22607 \nL 79.485963 147.810564 \nz\n\" style=\"fill:#0090ff;\"/>\n    <path clip-path=\"url(#p888006bbd3)\" d=\"M 177.810922 134.133249 \nL 182.755643 173.766757 \nL 189.085858 167.613348 \nz\n\" style=\"fill:#0000ff;\"/>\n    <path clip-path=\"url(#p888006bbd3)\" d=\"M 118.661659 70.384022 \nL 130.448386 64.680778 \nL 125.578219 74.274394 \nz\n\" style=\"fill:#fa0f00;\"/>\n    <path clip-path=\"url(#p888006bbd3)\" d=\"M 61.27181 170.129632 \nL 72.723869 173.704856 \nL 79.485963 147.810564 \nz\n\" style=\"fill:#0000da;\"/>\n    <path clip-path=\"url(#p888006bbd3)\" d=\"M 104.669078 91.787203 \nL 100.238548 93.276249 \nL 93.253204 105.981593 \nz\n\" style=\"fill:#ffde00;\"/>\n    <path clip-path=\"url(#p888006bbd3)\" d=\"M 72.723869 173.704856 \nL 84.297498 177.495256 \nL 79.485963 147.810564 \nz\n\" style=\"fill:#0000da;\"/>\n    <path clip-path=\"url(#p888006bbd3)\" d=\"M 177.810922 134.133249 \nL 172.647842 105.061287 \nL 166.24317 103.97174 \nz\n\" style=\"fill:#9aff5d;\"/>\n    <path clip-path=\"url(#p888006bbd3)\" d=\"M 142.416076 68.102954 \nL 149.11798 71.780779 \nL 137.273483 68.539852 \nz\n\" style=\"fill:#d60000;\"/>\n    <path clip-path=\"url(#p888006bbd3)\" d=\"M 86.324758 124.521513 \nL 104.669078 91.787203 \nL 93.253204 105.981593 \nz\n\" style=\"fill:#ceff29;\"/>\n    <path clip-path=\"url(#p888006bbd3)\" d=\"M 182.755643 173.766757 \nL 177.810922 134.133249 \nL 171.317922 139.964423 \nz\n\" style=\"fill:#0074ff;\"/>\n    <path clip-path=\"url(#p888006bbd3)\" d=\"M 154.405977 81.008644 \nL 172.647842 105.061287 \nL 160.956657 84.272859 \nz\n\" style=\"fill:#ff9400;\"/>\n    <path clip-path=\"url(#p888006bbd3)\" d=\"M 104.669078 91.787203 \nL 111.660352 76.228915 \nL 100.238548 93.276249 \nz\n\" style=\"fill:#ff7a00;\"/>\n    <path clip-path=\"url(#p888006bbd3)\" d=\"M 97.756924 115.312152 \nL 86.324758 124.521513 \nL 79.485963 147.810564 \nz\n\" style=\"fill:#36ffc1;\"/>\n    <path clip-path=\"url(#p888006bbd3)\" d=\"M 149.11798 71.780779 \nL 142.416076 68.102954 \nL 160.956657 84.272859 \nz\n\" style=\"fill:#ff1300;\"/>\n    <path clip-path=\"url(#p888006bbd3)\" d=\"M 84.297498 177.495256 \nL 90.964166 144.671504 \nL 79.485963 147.810564 \nz\n\" style=\"fill:#003cff;\"/>\n    <path clip-path=\"url(#p888006bbd3)\" d=\"M 130.448386 64.680778 \nL 142.416076 68.102954 \nL 137.273483 68.539852 \nz\n\" style=\"fill:#a80000;\"/>\n    <path clip-path=\"url(#p888006bbd3)\" d=\"M 172.647842 105.061287 \nL 154.405977 81.008644 \nL 166.24317 103.97174 \nz\n\" style=\"fill:#ffb900;\"/>\n    <path clip-path=\"url(#p888006bbd3)\" d=\"M 90.964166 144.671504 \nL 97.756924 115.312152 \nL 79.485963 147.810564 \nz\n\" style=\"fill:#16ffe1;\"/>\n    <path clip-path=\"url(#p888006bbd3)\" d=\"M 111.660352 76.228915 \nL 123.481141 69.936765 \nL 118.661659 70.384022 \nz\n\" style=\"fill:#cd0000;\"/>\n    <path clip-path=\"url(#p888006bbd3)\" d=\"M 97.756924 115.312152 \nL 104.669078 91.787203 \nL 86.324758 124.521513 \nz\n\" style=\"fill:#ceff29;\"/>\n    <path clip-path=\"url(#p888006bbd3)\" d=\"M 123.481141 69.936765 \nL 130.448386 64.680778 \nL 118.661659 70.384022 \nz\n\" style=\"fill:#a80000;\"/>\n    <path clip-path=\"url(#p888006bbd3)\" d=\"M 176.303847 180.429675 \nL 182.755643 173.766757 \nL 164.641265 150.080468 \nz\n\" style=\"fill:#0000fa;\"/>\n    <path clip-path=\"url(#p888006bbd3)\" d=\"M 182.755643 173.766757 \nL 171.317922 139.964423 \nL 164.641265 150.080468 \nz\n\" style=\"fill:#0068ff;\"/>\n    <path clip-path=\"url(#p888006bbd3)\" d=\"M 142.416076 68.102954 \nL 154.405977 81.008644 \nL 160.956657 84.272859 \nz\n\" style=\"fill:#ff1300;\"/>\n    <path clip-path=\"url(#p888006bbd3)\" d=\"M 159.589952 109.764243 \nL 177.810922 134.133249 \nL 166.24317 103.97174 \nz\n\" style=\"fill:#adff49;\"/>\n    <path clip-path=\"url(#p888006bbd3)\" d=\"M 177.810922 134.133249 \nL 159.589952 109.764243 \nL 171.317922 139.964423 \nz\n\" style=\"fill:#5dff9a;\"/>\n    <path clip-path=\"url(#p888006bbd3)\" d=\"M 84.297498 177.495256 \nL 102.687197 144.728882 \nL 90.964166 144.671504 \nz\n\" style=\"fill:#0064ff;\"/>\n    <path clip-path=\"url(#p888006bbd3)\" d=\"M 102.687197 144.728882 \nL 84.297498 177.495256 \nL 95.989463 181.400846 \nz\n\" style=\"fill:#0000ff;\"/>\n    <path clip-path=\"url(#p888006bbd3)\" d=\"M 104.669078 91.787203 \nL 123.481141 69.936765 \nL 111.660352 76.228915 \nz\n\" style=\"fill:#fa0f00;\"/>\n    <path clip-path=\"url(#p888006bbd3)\" d=\"M 102.687197 144.728882 \nL 97.756924 115.312152 \nL 90.964166 144.671504 \nz\n\" style=\"fill:#36ffc1;\"/>\n    <path clip-path=\"url(#p888006bbd3)\" d=\"M 123.481141 69.936765 \nL 142.416076 68.102954 \nL 130.448386 64.680778 \nz\n\" style=\"fill:#800000;\"/>\n    <path clip-path=\"url(#p888006bbd3)\" d=\"M 107.797211 185.192712 \nL 102.687197 144.728882 \nL 95.989463 181.400846 \nz\n\" style=\"fill:#0000ff;\"/>\n    <path clip-path=\"url(#p888006bbd3)\" d=\"M 104.669078 91.787203 \nL 97.756924 115.312152 \nL 109.520626 111.84093 \nz\n\" style=\"fill:#ffde00;\"/>\n    <path clip-path=\"url(#p888006bbd3)\" d=\"M 154.405977 81.008644 \nL 147.618835 86.28871 \nL 166.24317 103.97174 \nz\n\" style=\"fill:#ff5900;\"/>\n    <path clip-path=\"url(#p888006bbd3)\" d=\"M 157.828055 163.793469 \nL 176.303847 180.429675 \nL 164.641265 150.080468 \nz\n\" style=\"fill:#0038ff;\"/>\n    <path clip-path=\"url(#p888006bbd3)\" d=\"M 97.756924 115.312152 \nL 102.687197 144.728882 \nL 109.520626 111.84093 \nz\n\" style=\"fill:#97ff60;\"/>\n    <path clip-path=\"url(#p888006bbd3)\" d=\"M 176.303847 180.429675 \nL 157.828055 163.793469 \nL 169.739234 187.184777 \nz\n\" style=\"fill:#0000da;\"/>\n    <path clip-path=\"url(#p888006bbd3)\" d=\"M 142.416076 68.102954 \nL 147.618835 86.28871 \nL 154.405977 81.008644 \nz\n\" style=\"fill:#d60000;\"/>\n    <path clip-path=\"url(#p888006bbd3)\" d=\"M 123.481141 69.936765 \nL 104.669078 91.787203 \nL 116.468923 85.527598 \nz\n\" style=\"fill:#fa0f00;\"/>\n    <path clip-path=\"url(#p888006bbd3)\" d=\"M 147.618835 86.28871 \nL 159.589952 109.764243 \nL 166.24317 103.97174 \nz\n\" style=\"fill:#ff9f00;\"/>\n    <path clip-path=\"url(#p888006bbd3)\" d=\"M 171.317922 139.964423 \nL 152.747602 122.734933 \nL 164.641265 150.080468 \nz\n\" style=\"fill:#39ffbe;\"/>\n    <path clip-path=\"url(#p888006bbd3)\" d=\"M 102.687197 144.728882 \nL 107.797211 185.192712 \nL 114.606171 148.406355 \nz\n\" style=\"fill:#0070ff;\"/>\n    <path clip-path=\"url(#p888006bbd3)\" d=\"M 159.589952 109.764243 \nL 152.747602 122.734933 \nL 171.317922 139.964423 \nz\n\" style=\"fill:#9aff5d;\"/>\n    <path clip-path=\"url(#p888006bbd3)\" d=\"M 142.416076 68.102954 \nL 123.481141 69.936765 \nL 135.522902 72.857891 \nz\n\" style=\"fill:#800000;\"/>\n    <path clip-path=\"url(#p888006bbd3)\" d=\"M 116.468923 85.527598 \nL 104.669078 91.787203 \nL 109.520626 111.84093 \nz\n\" style=\"fill:#ff7a00;\"/>\n    <path clip-path=\"url(#p888006bbd3)\" d=\"M 147.618835 86.28871 \nL 142.416076 68.102954 \nL 135.522902 72.857891 \nz\n\" style=\"fill:#a80000;\"/>\n    <path clip-path=\"url(#p888006bbd3)\" d=\"M 126.659663 155.845868 \nL 107.797211 185.192712 \nL 119.724589 188.76257 \nz\n\" style=\"fill:#0000fa;\"/>\n    <path clip-path=\"url(#p888006bbd3)\" d=\"M 107.797211 185.192712 \nL 126.659663 155.845868 \nL 114.606171 148.406355 \nz\n\" style=\"fill:#0060ff;\"/>\n    <path clip-path=\"url(#p888006bbd3)\" d=\"M 102.687197 144.728882 \nL 121.524983 114.987411 \nL 109.520626 111.84093 \nz\n\" style=\"fill:#adff49;\"/>\n    <path clip-path=\"url(#p888006bbd3)\" d=\"M 121.524983 114.987411 \nL 102.687197 144.728882 \nL 114.606171 148.406355 \nz\n\" style=\"fill:#5aff9d;\"/>\n    <path clip-path=\"url(#p888006bbd3)\" d=\"M 152.747602 122.734933 \nL 157.828055 163.793469 \nL 164.641265 150.080468 \nz\n\" style=\"fill:#16ffe1;\"/>\n    <path clip-path=\"url(#p888006bbd3)\" d=\"M 147.618835 86.28871 \nL 152.747602 122.734933 \nL 159.589952 109.764243 \nz\n\" style=\"fill:#ffb600;\"/>\n    <path clip-path=\"url(#p888006bbd3)\" d=\"M 128.523088 88.509709 \nL 123.481141 69.936765 \nL 116.468923 85.527598 \nz\n\" style=\"fill:#d10000;\"/>\n    <path clip-path=\"url(#p888006bbd3)\" d=\"M 157.828055 163.793469 \nL 150.927534 179.361073 \nL 169.739234 187.184777 \nz\n\" style=\"fill:#0000ff;\"/>\n    <path clip-path=\"url(#p888006bbd3)\" d=\"M 123.481141 69.936765 \nL 128.523088 88.509709 \nL 135.522902 72.857891 \nz\n\" style=\"fill:#a40000;\"/>\n    <path clip-path=\"url(#p888006bbd3)\" d=\"M 128.523088 88.509709 \nL 116.468923 85.527598 \nL 109.520626 111.84093 \nz\n\" style=\"fill:#ff5900;\"/>\n    <path clip-path=\"url(#p888006bbd3)\" d=\"M 131.778332 192.180976 \nL 126.659663 155.845868 \nL 119.724589 188.76257 \nz\n\" style=\"fill:#0000fa;\"/>\n    <path clip-path=\"url(#p888006bbd3)\" d=\"M 150.927534 179.361073 \nL 163.068526 193.386552 \nL 169.739234 187.184777 \nz\n\" style=\"fill:#0000b2;\"/>\n    <path clip-path=\"url(#p888006bbd3)\" d=\"M 126.659663 155.845868 \nL 121.524983 114.987411 \nL 114.606171 148.406355 \nz\n\" style=\"fill:#4dffaa;\"/>\n    <path clip-path=\"url(#p888006bbd3)\" d=\"M 152.747602 122.734933 \nL 145.785871 142.660873 \nL 157.828055 163.793469 \nz\n\" style=\"fill:#36ffc1;\"/>\n    <path clip-path=\"url(#p888006bbd3)\" d=\"M 128.523088 88.509709 \nL 147.618835 86.28871 \nL 135.522902 72.857891 \nz\n\" style=\"fill:#cd0000;\"/>\n    <path clip-path=\"url(#p888006bbd3)\" d=\"M 121.524983 114.987411 \nL 128.523088 88.509709 \nL 109.520626 111.84093 \nz\n\" style=\"fill:#ff9f00;\"/>\n    <path clip-path=\"url(#p888006bbd3)\" d=\"M 152.747602 122.734933 \nL 147.618835 86.28871 \nL 140.669755 101.40734 \nz\n\" style=\"fill:#ff9100;\"/>\n    <path clip-path=\"url(#p888006bbd3)\" d=\"M 145.785871 142.660873 \nL 150.927534 179.361073 \nL 157.828055 163.793469 \nz\n\" style=\"fill:#008cff;\"/>\n    <path clip-path=\"url(#p888006bbd3)\" d=\"M 131.778332 192.180976 \nL 138.783053 166.495212 \nL 126.659663 155.845868 \nz\n\" style=\"fill:#003cff;\"/>\n    <path clip-path=\"url(#p888006bbd3)\" d=\"M 145.785871 142.660873 \nL 152.747602 122.734933 \nL 133.655473 125.681233 \nz\n\" style=\"fill:#97ff60;\"/>\n    <path clip-path=\"url(#p888006bbd3)\" d=\"M 147.618835 86.28871 \nL 128.523088 88.509709 \nL 140.669755 101.40734 \nz\n\" style=\"fill:#ff3000;\"/>\n    <path clip-path=\"url(#p888006bbd3)\" d=\"M 121.524983 114.987411 \nL 126.659663 155.845868 \nL 133.655473 125.681233 \nz\n\" style=\"fill:#8dff6a;\"/>\n    <path clip-path=\"url(#p888006bbd3)\" d=\"M 126.659663 155.845868 \nL 138.783053 166.495212 \nL 133.655473 125.681233 \nz\n\" style=\"fill:#16ffe1;\"/>\n    <path clip-path=\"url(#p888006bbd3)\" d=\"M 131.778332 192.180976 \nL 150.927534 179.361073 \nL 138.783053 166.495212 \nz\n\" style=\"fill:#0000ff;\"/>\n    <path clip-path=\"url(#p888006bbd3)\" d=\"M 152.747602 122.734933 \nL 140.669755 101.40734 \nL 133.655473 125.681233 \nz\n\" style=\"fill:#fbf100;\"/>\n    <path clip-path=\"url(#p888006bbd3)\" d=\"M 138.783053 166.495212 \nL 150.927534 179.361073 \nL 145.785871 142.660873 \nz\n\" style=\"fill:#008cff;\"/>\n    <path clip-path=\"url(#p888006bbd3)\" d=\"M 138.783053 166.495212 \nL 145.785871 142.660873 \nL 133.655473 125.681233 \nz\n\" style=\"fill:#36ffc1;\"/>\n    <path clip-path=\"url(#p888006bbd3)\" d=\"M 128.523088 88.509709 \nL 121.524983 114.987411 \nL 133.655473 125.681233 \nz\n\" style=\"fill:#ffb900;\"/>\n    <path clip-path=\"url(#p888006bbd3)\" d=\"M 140.669755 101.40734 \nL 128.523088 88.509709 \nL 133.655473 125.681233 \nz\n\" style=\"fill:#ff9100;\"/>\n    <path clip-path=\"url(#p888006bbd3)\" d=\"M 150.927534 179.361073 \nL 131.778332 192.180976 \nL 143.960704 196.035567 \nz\n\" style=\"fill:#0000b6;\"/>\n    <path clip-path=\"url(#p888006bbd3)\" d=\"M 163.068526 193.386552 \nL 150.927534 179.361073 \nL 156.256924 201.107382 \nz\n\" style=\"fill:#0000b2;\"/>\n    <path clip-path=\"url(#p888006bbd3)\" d=\"M 150.927534 179.361073 \nL 143.960704 196.035567 \nL 156.256924 201.107382 \nz\n\" style=\"fill:#0000b2;\"/>\n   </g>\n   <g id=\"text_20\">\n    <g id=\"patch_6\">\n     <path d=\"M 264.727777 209.975687 \nL 299.746527 209.975687 \nL 299.746527 190.297562 \nL 264.727777 190.297562 \nz\n\" style=\"fill:#ffffff;stroke:#000000;stroke-linejoin:miter;\"/>\n    </g>\n    <!-- t = 0 -->\n    <g transform=\"translate(269.727777 202.896)scale(0.1 -0.1)\">\n     <defs>\n      <path d=\"M 1172 4494 \nL 1172 3500 \nL 2356 3500 \nL 2356 3053 \nL 1172 3053 \nL 1172 1153 \nQ 1172 725 1289 603 \nQ 1406 481 1766 481 \nL 2356 481 \nL 2356 0 \nL 1766 0 \nQ 1100 0 847 248 \nQ 594 497 594 1153 \nL 594 3053 \nL 172 3053 \nL 172 3500 \nL 594 3500 \nL 594 4494 \nL 1172 4494 \nz\n\" id=\"DejaVuSans-74\" transform=\"scale(0.015625)\"/>\n      <path id=\"DejaVuSans-20\" transform=\"scale(0.015625)\"/>\n      <path d=\"M 678 2906 \nL 4684 2906 \nL 4684 2381 \nL 678 2381 \nL 678 2906 \nz\nM 678 1631 \nL 4684 1631 \nL 4684 1100 \nL 678 1100 \nL 678 1631 \nz\n\" id=\"DejaVuSans-3d\" transform=\"scale(0.015625)\"/>\n     </defs>\n     <use xlink:href=\"#DejaVuSans-74\"/>\n     <use x=\"39.208984\" xlink:href=\"#DejaVuSans-20\"/>\n     <use x=\"70.996094\" xlink:href=\"#DejaVuSans-3d\"/>\n     <use x=\"154.785156\" xlink:href=\"#DejaVuSans-20\"/>\n     <use x=\"186.572266\" xlink:href=\"#DejaVuSans-30\"/>\n    </g>\n   </g>\n  </g>\n  <g id=\"axes_2\">\n   <g id=\"patch_7\">\n    <path d=\"M 272.229152 159.408 \nL 289.624352 159.408 \nL 289.624352 72.432 \nL 272.229152 72.432 \nz\n\" style=\"fill:#ffffff;\"/>\n   </g>\n   <g id=\"patch_8\">\n    <path clip-path=\"url(#pda25248b8a)\" d=\"M 272.229152 159.408 \nL 272.229152 159.06825 \nL 272.229152 72.77175 \nL 272.229152 72.432 \nL 289.624352 72.432 \nL 289.624352 72.77175 \nL 289.624352 159.06825 \nL 289.624352 159.408 \nL 289.624352 159.408 \nz\n\" style=\"fill:#ffffff;stroke:#ffffff;stroke-linejoin:miter;stroke-width:0.01;\"/>\n   </g>\n   <image height=\"87\" id=\"image6fbcd54063\" transform=\"scale(1 -1)translate(0 -87)\" width=\"18\" x=\"272\" xlink:href=\"data:image/png;base64,\niVBORw0KGgoAAAANSUhEUgAAABIAAABXCAYAAAAJWxWIAAAAvUlEQVR4nO3XUQrCMBBF0RsJ1dbqmt2wH9XaVhDrEurHRcaQLOCQN3kMJMFlRTgZToZDhrMFxbtRwdFaBUowKYVMsErNTgYDmT4cdLQgp491Rl9B8WZUMKQ9v7MgQ0bzmv1yoKafHKi1oK6ZJQgrmgV11GjbULHR9jwdqA03bPHVCo4WrZA12uZJ47JzvlnvK843Kz0MBjLxoMWC4kWr0D9CowXFi1ahn0FpOEjLf7Y25M1xyHcLKvhG4aJ9AMH0RaLeo3Y1AAAAAElFTkSuQmCC\" y=\"-72\"/>\n   <g id=\"matplotlib.axis_1\"/>\n   <g id=\"matplotlib.axis_2\">\n    <g id=\"ytick_1\">\n     <g id=\"line2d_21\">\n      <defs>\n       <path d=\"M 0 0 \nL 3.5 0 \n\" id=\"m91d854c7ed\" style=\"stroke:#000000;stroke-width:0.8;\"/>\n      </defs>\n      <g>\n       <use style=\"stroke:#000000;stroke-width:0.8;\" x=\"289.624352\" xlink:href=\"#m91d854c7ed\" y=\"159.091485\"/>\n      </g>\n     </g>\n     <g id=\"text_21\">\n      <!-- 0 -->\n      <g transform=\"translate(296.624352 162.890704)scale(0.1 -0.1)\">\n       <use xlink:href=\"#DejaVuSans-30\"/>\n      </g>\n     </g>\n    </g>\n    <g id=\"ytick_2\">\n     <g id=\"line2d_22\">\n      <g>\n       <use style=\"stroke:#000000;stroke-width:0.8;\" x=\"289.624352\" xlink:href=\"#m91d854c7ed\" y=\"136.428978\"/>\n      </g>\n     </g>\n     <g id=\"text_22\">\n      <!-- 25 -->\n      <g transform=\"translate(296.624352 140.228197)scale(0.1 -0.1)\">\n       <defs>\n        <path d=\"M 691 4666 \nL 3169 4666 \nL 3169 4134 \nL 1269 4134 \nL 1269 2991 \nQ 1406 3038 1543 3061 \nQ 1681 3084 1819 3084 \nQ 2600 3084 3056 2656 \nQ 3513 2228 3513 1497 \nQ 3513 744 3044 326 \nQ 2575 -91 1722 -91 \nQ 1428 -91 1123 -41 \nQ 819 9 494 109 \nL 494 744 \nQ 775 591 1075 516 \nQ 1375 441 1709 441 \nQ 2250 441 2565 725 \nQ 2881 1009 2881 1497 \nQ 2881 1984 2565 2268 \nQ 2250 2553 1709 2553 \nQ 1456 2553 1204 2497 \nQ 953 2441 691 2322 \nL 691 4666 \nz\n\" id=\"DejaVuSans-35\" transform=\"scale(0.015625)\"/>\n       </defs>\n       <use xlink:href=\"#DejaVuSans-32\"/>\n       <use x=\"63.623047\" xlink:href=\"#DejaVuSans-35\"/>\n      </g>\n     </g>\n    </g>\n    <g id=\"ytick_3\">\n     <g id=\"line2d_23\">\n      <g>\n       <use style=\"stroke:#000000;stroke-width:0.8;\" x=\"289.624352\" xlink:href=\"#m91d854c7ed\" y=\"113.766472\"/>\n      </g>\n     </g>\n     <g id=\"text_23\">\n      <!-- 50 -->\n      <g transform=\"translate(296.624352 117.56569)scale(0.1 -0.1)\">\n       <use xlink:href=\"#DejaVuSans-35\"/>\n       <use x=\"63.623047\" xlink:href=\"#DejaVuSans-30\"/>\n      </g>\n     </g>\n    </g>\n    <g id=\"ytick_4\">\n     <g id=\"line2d_24\">\n      <g>\n       <use style=\"stroke:#000000;stroke-width:0.8;\" x=\"289.624352\" xlink:href=\"#m91d854c7ed\" y=\"91.103965\"/>\n      </g>\n     </g>\n     <g id=\"text_24\">\n      <!-- 75 -->\n      <g transform=\"translate(296.624352 94.903184)scale(0.1 -0.1)\">\n       <defs>\n        <path d=\"M 525 4666 \nL 3525 4666 \nL 3525 4397 \nL 1831 0 \nL 1172 0 \nL 2766 4134 \nL 525 4134 \nL 525 4666 \nz\n\" id=\"DejaVuSans-37\" transform=\"scale(0.015625)\"/>\n       </defs>\n       <use xlink:href=\"#DejaVuSans-37\"/>\n       <use x=\"63.623047\" xlink:href=\"#DejaVuSans-35\"/>\n      </g>\n     </g>\n    </g>\n   </g>\n   <g id=\"LineCollection_1\"/>\n   <g id=\"patch_9\">\n    <path d=\"M 272.229152 159.408 \nL 272.229152 159.06825 \nL 272.229152 72.77175 \nL 272.229152 72.432 \nL 289.624352 72.432 \nL 289.624352 72.77175 \nL 289.624352 159.06825 \nL 289.624352 159.408 \nz\n\" style=\"fill:none;stroke:#000000;stroke-linecap:square;stroke-linejoin:miter;stroke-width:0.8;\"/>\n   </g>\n  </g>\n </g>\n <defs>\n  <clipPath id=\"p888006bbd3\">\n   <rect height=\"217.44\" width=\"217.44\" x=\"21.309152\" y=\"7.2\"/>\n  </clipPath>\n  <clipPath id=\"pda25248b8a\">\n   <rect height=\"86.976\" width=\"17.3952\" x=\"272.229152\" y=\"72.432\"/>\n  </clipPath>\n </defs>\n</svg>\n",
      "image/png": "[encoded data removed]"
     },
     "metadata": {
      "needs_background": "light"
     }
    }
   ],
   "source": [
    "from neural_diff_eq.utils.plot import _plot\n",
    "fig = _plot(solver.model, plot_variables=x, points=100, dic_for_other_variables={'t': 0})"
   ]
  },
  {
   "cell_type": "code",
   "execution_count": null,
   "metadata": {},
   "outputs": [],
   "source": []
  }
 ]
}