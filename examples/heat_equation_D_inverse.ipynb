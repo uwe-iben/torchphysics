{
 "metadata": {
  "language_info": {
   "codemirror_mode": {
    "name": "ipython",
    "version": 3
   },
   "file_extension": ".py",
   "mimetype": "text/x-python",
   "name": "python",
   "nbconvert_exporter": "python",
   "pygments_lexer": "ipython3",
   "version": "3.7.4"
  },
  "orig_nbformat": 2,
  "kernelspec": {
   "name": "python3",
   "display_name": "Python 3",
   "language": "python"
  },
  "interpreter": {
   "hash": "5471d372aecbf763f050aece93ed861d8318175083d9494b12a3b32f7831ffe8"
  }
 },
 "nbformat": 4,
 "nbformat_minor": 2,
 "cells": [
  {
   "source": [
    "## Sample script to learn a PDE parameter in training"
   ],
   "cell_type": "markdown",
   "metadata": {}
  },
  {
   "cell_type": "code",
   "execution_count": 1,
   "metadata": {},
   "outputs": [
    {
     "output_type": "stream",
     "name": "stderr",
     "text": [
      "/home/nick7/anaconda3/envs/bosch-pde/lib/python3.9/site-packages/pytorch_lightning/metrics/__init__.py:43: LightningDeprecationWarning: `pytorch_lightning.metrics.*` module has been renamed to `torchmetrics.*` and split off to its own package (https://github.com/PyTorchLightning/metrics) since v1.3 and will be removed in v1.5\n  rank_zero_deprecation(\n"
     ]
    },
    {
     "output_type": "execute_result",
     "data": {
      "text/plain": [
       "True"
      ]
     },
     "metadata": {},
     "execution_count": 1
    }
   ],
   "source": [
    "import torch\n",
    "import numpy as np\n",
    "import pytorch_lightning as pl\n",
    "from timeit import default_timer as timer\n",
    "\n",
    "from neural_diff_eq.problem import Variable, Parameter\n",
    "from neural_diff_eq.setting import Setting\n",
    "from neural_diff_eq.problem.domain import (Rectangle,\n",
    "                                           Interval)\n",
    "from neural_diff_eq.problem.condition import (DirichletCondition,\n",
    "                                              DiffEqCondition,\n",
    "                                              DataCondition)\n",
    "from neural_diff_eq.models.fcn import SimpleFCN\n",
    "from neural_diff_eq import PINNModule\n",
    "from neural_diff_eq.utils import laplacian, gradient\n",
    "from neural_diff_eq.utils.fdm import FDM, create_validation_data\n",
    "from neural_diff_eq.utils.plot import Plotter\n",
    "from neural_diff_eq.utils.evaluation import (get_min_max_inside,\n",
    "                                             get_min_max_boundary)\n",
    "from neural_diff_eq.setting import Setting\n",
    "\n",
    "os.environ[\"CUDA_VISIBLE_DEVICES\"] = \"1\" # select GPUs to use\n",
    "\n",
    "#pl.seed_everything(43) # set a global seed\n",
    "torch.cuda.is_available()\n"
   ]
  },
  {
   "source": [
    "We define some parameters that describe the setting:"
   ],
   "cell_type": "markdown",
   "metadata": {}
  },
  {
   "cell_type": "code",
   "execution_count": 2,
   "metadata": {},
   "outputs": [],
   "source": [
    "w, h = 10, 10\n",
    "t0, tend = 0, 3\n",
    "temp_hot = 100"
   ]
  },
  {
   "source": [
    "We define the independent variables of the PDE, which will later determine the inputs to the NN. Every variable has a domain and can have one or more boundary conditions.\n",
    "\n",
    "Now we also define a Parameter which will be optimized during training, based on given training data."
   ],
   "cell_type": "markdown",
   "metadata": {}
  },
  {
   "cell_type": "code",
   "execution_count": 3,
   "metadata": {},
   "outputs": [],
   "source": [
    "x = Variable(name='x',\n",
    "             order=2,\n",
    "             domain=Rectangle(corner_dl=[0, 0],\n",
    "                              corner_dr=[w, 0],\n",
    "                              corner_tl=[0, h]),\n",
    "             train_conditions={},\n",
    "             val_conditions={})\n",
    "t = Variable(name='t',\n",
    "             order=1,\n",
    "             domain=Interval(low_bound=0,\n",
    "                             up_bound=tend),\n",
    "             train_conditions={},\n",
    "             val_conditions={})\n",
    "\n",
    "# Achtung: bisher muss hier das device für die Parameter von Hand gesetzt werden\n",
    "device = 'cuda' if torch.cuda.is_available() else 'cpu'\n",
    "m = torch.Tensor((0.0,)).to('cuda')\n",
    "D = Parameter(init=m, name='D')"
   ]
  },
  {
   "source": [
    "Using the same notation, as in the forward problem, we can define a PDE-condition to the inner of the domain.\n",
    "\n",
    "Here we also include the parameter 'D' in the (dummy) equation, that should be computed. Therefore the pde-condition gets now an additional input: params. This input contains all learnable paramters of the model."
   ],
   "cell_type": "markdown",
   "metadata": {}
  },
  {
   "cell_type": "code",
   "execution_count": 5,
   "metadata": {},
   "outputs": [],
   "source": [
    "# a pde function handle takes the output and the input (as a dict again) of the network. We can use\n",
    "# functions like 'laplacian' from the utils part to compute common differential operators.\n",
    "def pde(u, input, params):\n",
    "    return gradient(u, input['t']) - params['D']*laplacian(u, input['x'])\n",
    "\n",
    "train_cond = DiffEqCondition(pde=pde,\n",
    "                             name='pde',\n",
    "                             norm=norm,\n",
    "                             sampling_strategy='random',\n",
    "                             weight=1.0,\n",
    "                             dataset_size=5000,\n",
    "                             data_plot_variables=('x','t'))"
   ]
  },
  {
   "source": [
    "Instead of adding addtional conditions for the inital and boundary values we now create a DataCondition, by using a FDM to solve the forward problem."
   ],
   "cell_type": "markdown",
   "metadata": {}
  },
  {
   "cell_type": "code",
   "execution_count": 6,
   "metadata": {},
   "outputs": [
    {
     "output_type": "stream",
     "name": "stdout",
     "text": [
      "Time for FDM-Solution: 0.5315213911235332\n"
     ]
    }
   ],
   "source": [
    "domain_dic = {'x': [[0, w], [0, h]]}\n",
    "dx, dy = 0.5, 0.5\n",
    "step_width_dict = {'x': [dx, dy]}\n",
    "time_interval = [t0, tend]\n",
    "\n",
    "D_list = [2] # This is the D we want to find\n",
    "fdm_start = timer()\n",
    "domain, time, u = FDM(domain_dic, step_width_dict, time_interval,\n",
    "                      D_list, t_dirichlet_fun)\n",
    "fdm_end = timer()\n",
    "print('Time for FDM-Solution:', fdm_end-fdm_start)\n",
    "data_x, data_u = create_validation_data(domain, time, u, D_list, D_is_input = False)"
   ]
  },
  {
   "source": [
    "We dont want to use all points of the FDM-solution, therefore for now pick only 5000 random values "
   ],
   "cell_type": "markdown",
   "metadata": {}
  },
  {
   "cell_type": "code",
   "execution_count": null,
   "metadata": {},
   "outputs": [],
   "source": [
    "index = np.random.choice(len(data_u), 5000, replace=False)\n",
    "data_u = data_u[index]\n",
    "for name in data_x:\n",
    "    data_x[name] = data_x[name][index]"
   ]
  },
  {
   "source": [
    "With these points we now create a DataCondition"
   ],
   "cell_type": "markdown",
   "metadata": {}
  },
  {
   "cell_type": "code",
   "execution_count": null,
   "metadata": {},
   "outputs": [],
   "source": [
    "data_cond = DataCondition(data_x=data_x,\n",
    "                         data_u=data_u,\n",
    "                         name='data_cond',\n",
    "                         norm=norm)"
   ]
  },
  {
   "source": [
    "As always the variables as well as the conditions for the inner part of the domain are collected in a Setting. Now we also add the parameters that should be trained in a dictonary:"
   ],
   "cell_type": "markdown",
   "metadata": {}
  },
  {
   "cell_type": "code",
   "execution_count": 8,
   "metadata": {},
   "outputs": [],
   "source": [
    "setup = Setting(variables=(x, t),\n",
    "                train_conditions={'pde': train_cond, 'data': data_cond},\n",
    "                val_conditions={},\n",
    "                n_iterations=1000,\n",
    "                parameters={'D': D})"
   ]
  },
  {
   "source": [
    "To solve the problem we use (like always) the PINNModule "
   ],
   "cell_type": "markdown",
   "metadata": {}
  },
  {
   "cell_type": "code",
   "execution_count": 9,
   "metadata": {},
   "outputs": [],
   "source": [
    "solver = PINNModule(model=SimpleFCN(input_dim=3, depth=3, width=20),\n",
    "                    optimizer=torch.optim.Adam, # Start with adam\n",
    "                    lr=1e-2\n",
    "                    )"
   ]
  },
  {
   "source": [
    "Finally, we define a lightning trainer and train the model. "
   ],
   "cell_type": "markdown",
   "metadata": {}
  },
  {
   "cell_type": "code",
   "execution_count": 14,
   "metadata": {
    "tags": []
   },
   "outputs": [
    {
     "output_type": "stream",
     "name": "stderr",
     "text": [
      "GPU available: True, used: True\n",
      "TPU available: False, using: 0 TPU cores\n",
      "LOCAL_RANK: 0 - CUDA_VISIBLE_DEVICES: [1]\n",
      "\n",
      "  | Name  | Type      | Params\n",
      "------------------------------------\n",
      "0 | model | SimpleFCN | 1.8 K \n",
      "------------------------------------\n",
      "1.8 K     Trainable params\n",
      "0         Non-trainable params\n",
      "1.8 K     Total params\n",
      "0.007     Total estimated model params size (MB)\n",
      "dataloader:  cuda:0\n",
      "Epoch 0: 100%|██████████| 500/500 [00:13<00:00, 36.78it/s, loss=0.0182, v_num=58]\n"
     ]
    }
   ],
   "source": [
    "trainer = pl.Trainer(gpus='-1' if torch.cuda.is_available() else None,\n",
    "                     num_sanity_val_steps=0,\n",
    "                     benchmark=True,\n",
    "                     check_val_every_n_epoch=100,\n",
    "                     log_every_n_steps=1,\n",
    "                     max_epochs=2,\n",
    "                     checkpoint_callback=False\n",
    "                     )\n",
    "\n",
    "trainer.fit(solver, setup)"
   ]
  },
  {
   "cell_type": "code",
   "execution_count": 15,
   "metadata": {},
   "outputs": [
    {
     "output_type": "execute_result",
     "data": {
      "text/plain": [
       "Parameter containing:\n",
       "tensor([0.0093], device='cuda:0', requires_grad=True)"
      ]
     },
     "metadata": {},
     "execution_count": 15
    }
   ],
   "source": [
    "setup.parameters['D']"
   ]
  },
  {
   "cell_type": "code",
   "execution_count": null,
   "metadata": {},
   "outputs": [],
   "source": []
  },
  {
   "cell_type": "code",
   "execution_count": null,
   "metadata": {},
   "outputs": [],
   "source": []
  },
  {
   "cell_type": "code",
   "execution_count": null,
   "metadata": {},
   "outputs": [],
   "source": []
  },
  {
   "cell_type": "code",
   "execution_count": null,
   "metadata": {},
   "outputs": [],
   "source": [
    "from neural_diff_eq.utils.plot import _plot\n",
    "fig = _plot(solver.model, plot_variables=x, points=100, dic_for_other_variables={'t': 2})"
   ]
  }
 ]
}