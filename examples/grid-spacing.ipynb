{
 "cells": [
  {
   "cell_type": "code",
   "execution_count": 1,
   "id": "904420a2",
   "metadata": {},
   "outputs": [],
   "source": [
    "import numpy as np\n",
    "import matplotlib.pyplot as plt"
   ]
  },
  {
   "cell_type": "code",
   "execution_count": 2,
   "id": "238d7a5d",
   "metadata": {},
   "outputs": [
    {
     "name": "stdout",
     "output_type": "stream",
     "text": [
      "[0.         0.12035181 0.23156653 0.33388791 0.4275666  0.51286071\n",
      " 0.59003659 0.65936961 0.7211452  0.77566    0.8232233  0.86415887\n",
      " 0.89880711 0.92752802 0.95070497 0.96875    0.98211146 0.99128579\n",
      " 0.99683772 0.99944098 1.        ]\n"
     ]
    },
    {
     "data": {
      "image/png": "[encoded data removed]",
      "text/plain": [
       "<Figure size 432x288 with 1 Axes>"
      ]
     },
     "metadata": {
      "needs_background": "light"
     },
     "output_type": "display_data"
    },
    {
     "name": "stdout",
     "output_type": "stream",
     "text": [
      "0.0005590169943749945\n"
     ]
    }
   ],
   "source": [
    "N = 20\n",
    "x = np.zeros(N+1)\n",
    "y = np.zeros(N+1)\n",
    "for i in range(N+1):\n",
    "    x[i] = i/N\n",
    "    y[N-i] = 1.0-x[i]**2.5\n",
    "    \n",
    "print(y)\n",
    "\n",
    "for i in range(N):\n",
    "    dy = min(1,np.min(y[i+1]-y[i]))\n",
    "    \n",
    "plt.plot(y,np.ones(N+1),'*')\n",
    "plt.grid(True)\n",
    "plt.show()\n",
    "print(dy)\n",
    "    "
   ]
  },
  {
   "cell_type": "code",
   "execution_count": null,
   "id": "97c4263e",
   "metadata": {},
   "outputs": [],
   "source": []
  },
  {
   "cell_type": "code",
   "execution_count": null,
   "id": "718ba611",
   "metadata": {},
   "outputs": [],
   "source": []
  }
 ],
 "metadata": {
  "kernelspec": {
   "display_name": "Python 3",
   "language": "python",
   "name": "python3"
  },
  "language_info": {
   "codemirror_mode": {
    "name": "ipython",
    "version": 3
   },
   "file_extension": ".py",
   "mimetype": "text/x-python",
   "name": "python",
   "nbconvert_exporter": "python",
   "pygments_lexer": "ipython3",
   "version": "3.9.5"
  }
 },
 "nbformat": 4,
 "nbformat_minor": 5
}
