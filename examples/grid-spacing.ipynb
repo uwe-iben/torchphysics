{
 "cells": [
  {
   "cell_type": "code",
   "execution_count": 2,
   "id": "904420a2",
   "metadata": {},
   "outputs": [],
   "source": [
    "import numpy as np\n",
    "import matplotlib.pyplot as plt"
   ]
  },
  {
   "cell_type": "code",
   "execution_count": 4,
   "id": "238d7a5d",
   "metadata": {},
   "outputs": [
    {
     "name": "stdout",
     "output_type": "stream",
     "text": [
      "[0.         0.21528328 0.38729024 0.52407969 0.63233361 0.71757046\n",
      " 0.78432884 0.83632535 0.87658969 0.90757994 0.93128052 0.94928514\n",
      " 0.96286674 0.97303623 0.98059159 0.98615871 0.99022522 0.99316832\n",
      " 0.99527763 0.99677373 0.99782322 0.99855077 0.99904883 0.99938521\n",
      " 0.99960912 0.99975586 0.99985041 0.99991024 0.99994735 0.99996987\n",
      " 0.99998322 0.99999093 0.99999526 0.99999761 0.99999885 0.99999947\n",
      " 0.99999977 0.9999999  0.99999996 0.99999999 1.         1.\n",
      " 1.         1.         1.         1.         1.         1.\n",
      " 1.         1.         1.        ]\n"
     ]
    },
    {
     "data": {
      "image/png": "[encoded data removed]",
      "text/plain": [
       "<Figure size 432x288 with 1 Axes>"
      ]
     },
     "metadata": {
      "needs_background": "light"
     },
     "output_type": "display_data"
    },
    {
     "name": "stdout",
     "output_type": "stream",
     "text": [
      "0.0\n"
     ]
    }
   ],
   "source": [
    "N = 50\n",
    "x = np.zeros(N+1)\n",
    "y = np.zeros(N+1)\n",
    "for i in range(N+1):\n",
    "    x[i] = i/N\n",
    "    y[N-i] = 1.0-x[i]**12\n",
    "    \n",
    "print(y)\n",
    "\n",
    "for i in range(N):\n",
    "    dy = min(1,np.min(y[i+1]-y[i]))\n",
    "    \n",
    "plt.plot(y,np.ones(N+1),'*')\n",
    "plt.grid(True)\n",
    "plt.show()\n",
    "print(dy)\n",
    "    "
   ]
  },
  {
   "cell_type": "code",
   "execution_count": null,
   "id": "97c4263e",
   "metadata": {},
   "outputs": [],
   "source": []
  },
  {
   "cell_type": "code",
   "execution_count": null,
   "id": "718ba611",
   "metadata": {},
   "outputs": [],
   "source": []
  }
 ],
 "metadata": {
  "kernelspec": {
   "display_name": "Python 3",
   "language": "python",
   "name": "python3"
  },
  "language_info": {
   "codemirror_mode": {
    "name": "ipython",
    "version": 3
   },
   "file_extension": ".py",
   "mimetype": "text/x-python",
   "name": "python",
   "nbconvert_exporter": "python",
   "pygments_lexer": "ipython3",
   "version": "3.9.5"
  }
 },
 "nbformat": 4,
 "nbformat_minor": 5
}
