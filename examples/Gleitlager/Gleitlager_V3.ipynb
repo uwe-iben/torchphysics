{
 "cells": [
  {
   "cell_type": "code",
   "execution_count": 26,
   "metadata": {},
   "outputs": [],
   "source": [
    "import torch\n",
    "import torchphysics as tp\n",
    "import numpy as np\n",
    "import pytorch_lightning as pl"
   ]
  },
  {
   "cell_type": "code",
   "execution_count": 27,
   "metadata": {},
   "outputs": [
    {
     "name": "stdout",
     "output_type": "stream",
     "text": [
      "Tutorial zu TorchPhysics:\n",
      "https://torchphysics.readthedocs.io/en/latest/tutorial/tutorial_start.html\n"
     ]
    }
   ],
   "source": [
    "print('Tutorial zu TorchPhysics:')\n",
    "print('https://torchphysics.readthedocs.io/en/latest/tutorial/tutorial_start.html')"
   ]
  },
  {
   "cell_type": "code",
   "execution_count": 28,
   "metadata": {},
   "outputs": [],
   "source": [
    "#from IPython.display import Image, Math, Latex\n",
    "#from IPython.core.display import HTML \n",
    "#Image(filename='bearing.png',width = 500, height = 250)"
   ]
  },
  {
   "cell_type": "code",
   "execution_count": 29,
   "metadata": {},
   "outputs": [],
   "source": [
    "# First define all parameters:\n",
    "h_0 = 16.e-06 #m = 16 um\n",
    "dh = 14e-06 #m = 14 um \n",
    "D = 0.01 #m = 10 mm \n",
    "L = np.pi*D # Länge von Gebiet\n",
    "u_m = 0.26 #m/s 0.26\n",
    "beta = 2.2*1e-08 # 2.2e-08 m^2/N\n",
    "nu_0 = 1.5e-03 # Pa·s = 1.5 mPa·s\n",
    "# lower and upper bounds of parameters\n",
    "nu0 = 1.0e-03 # Viskosität\n",
    "nu1 = 2.5e-03\n",
    "um0 = 0.2     # Geschwindigkeit\n",
    "um1 = 0.4\n",
    "dh0 = 10e-6   # Spaltvariaton\n",
    "dh1 = 15e-6\n",
    "p_0 = 1e+5 # 1e+5 N/m^2 = 1 bar\n",
    "p_rel = 0 # Relativdruck \n",
    "p_skal = 100000 #Skalierungsdruck für (-1,1) Bereich"
   ]
  },
  {
   "cell_type": "code",
   "execution_count": 30,
   "metadata": {},
   "outputs": [],
   "source": [
    "# define h:\n",
    "def h(x, dh): # <- hier jetzt auch dh als input\n",
    "    return h_0 + dh * torch.cos(2*x/D) # x in [0,pi*D]                               \n",
    "\n",
    "# and compute h':\n",
    "def h_x(x, dh): # <- hier jetzt auch dh als input\n",
    "    return -2.0*dh/D * torch.sin(2*x/D) # x in [0,pi*D]"
   ]
  },
  {
   "cell_type": "code",
   "execution_count": 31,
   "metadata": {},
   "outputs": [],
   "source": [
    "# define the function of the viscosity.\n",
    "# Here we need torch.tensors, since the function will be evaluated in the pde.\n",
    "# At the beginng the model will have values close to 0, \n",
    "# therefore the viscosity will also be close to zero. \n",
    "# This will make the pde condition unstable, because we divide by nu.\n",
    "# For now set values smaller then 1e-06 to 1e-06 \n",
    "def nu_func(nu, p):\n",
    "    out = nu * torch.exp(beta * p*p_skal)\n",
    "    return torch.clamp(out, min=1e-06)\n",
    "\n",
    "def nu_x_func(nu,p):\n",
    "    out = nu* beta*p_skal*torch.exp(beta*p*p_skal)\n",
    "    return out "
   ]
  },
  {
   "cell_type": "code",
   "execution_count": 32,
   "metadata": {},
   "outputs": [],
   "source": [
    "# Variables:\n",
    "x  = tp.spaces.R1('x')\n",
    "nu = tp.spaces.R1('nu')\n",
    "um = tp.spaces.R1('um')\n",
    "dh = tp.spaces.R1('dh')\n",
    "# output\n",
    "p = tp.spaces.R1('p')"
   ]
  },
  {
   "cell_type": "code",
   "execution_count": 33,
   "metadata": {},
   "outputs": [],
   "source": [
    "A_x  = tp.domains.Interval(x, 0, L)\n",
    "A_nu = tp.domains.Interval(nu, nu0, nu1)\n",
    "A_um = tp.domains.Interval(um, um0, um1)\n",
    "A_dh = tp.domains.Interval(dh, dh0, dh1)"
   ]
  },
  {
   "cell_type": "code",
   "execution_count": 34,
   "metadata": {},
   "outputs": [],
   "source": [
    "#inner_sampler = tp.samplers.AdaptiveRejectionSampler(A_x*A_nu*A_um*A_dh, n_points = 50000)\n",
    "#inner_sampler = tp.samplers.RandomUniformSampler(A_x*A_nu*A_um*A_dh, n_points = 10000)\n",
    "# density: 4 Punkte pro Einheitsvolumen\n",
    "# andere Version für ehr physikalische Auflösung\n",
    "inner_sampler = tp.samplers.RandomUniformSampler(A_x, n_points = 250) \\\n",
    "                        *(tp.samplers.RandomUniformSampler(A_nu, n_points = 10) \\\n",
    "                        *(tp.samplers.RandomUniformSampler(A_um, n_points = 10) \\\n",
    "                        * tp.samplers.RandomUniformSampler(A_dh, n_points = 10)))"
   ]
  },
  {
   "cell_type": "code",
   "execution_count": 35,
   "metadata": {},
   "outputs": [],
   "source": [
    "#tp.utils.scatter(nu*um*dh, inner_sampler, boundary_v_sampler)"
   ]
  },
  {
   "cell_type": "code",
   "execution_count": 36,
   "metadata": {},
   "outputs": [],
   "source": [
    "model = tp.models.Sequential(\n",
    "    tp.models.NormalizationLayer(A_x*A_nu*A_um*A_dh),\n",
    "    tp.models.FCN(input_space=x*nu*um*dh, output_space=p, hidden=(30,30,30))\n",
    ")"
   ]
  },
  {
   "cell_type": "code",
   "execution_count": 37,
   "metadata": {},
   "outputs": [],
   "source": [
    "#display(Math(r'h(x)\\frac{d^2 \\tilde{p}}{d x^2}  +\\left( 3 \\frac{dh}{dx} - \\frac{h}{\\nu} \\frac{d \\nu}{d x} \\\n",
    "#    \\right) \\frac{d \\tilde{p}}{d x} = \\frac{6 u_m \\nu}{p_0 h^2} \\frac{d h}{d x}\\quad \\mbox{with} \\\n",
    "#    \\quad \\tilde{p}=\\frac{p}{p_{skal}} '))"
   ]
  },
  {
   "cell_type": "code",
   "execution_count": 38,
   "metadata": {},
   "outputs": [],
   "source": [
    "from torchphysics.utils import grad\n",
    "# Alternativ tp.utils.grad\n",
    "def pde(nu, p, x, um, dh): # <- brauchen jetzt dh und um auch als input\n",
    "    # evaluate the viscosity and their first derivative\n",
    "    vis = nu_func(nu,p)\n",
    "    vis_x = nu_x_func(nu,p)\n",
    "    # implement the PDE:\n",
    "    # right hand site\n",
    "    rs = 6*um*nu #<- hier jetzt um statt u_m, da deine Variable so heißt   \n",
    "    #  h und h_x mit Input dh:\n",
    "    h_out = h(x, dh) # nur einmal auswerten\n",
    "    h_x_out = h_x(x, dh) # nur einmal auswerten\n",
    "    #out = h_out * grad(grad(p,x),x)- rs*h_x_out/h_out/h_out/p_skal\n",
    "    out = h_out*grad(grad(p,x),x) + (3*h_x_out -h_out/vis*vis_x)*grad(p,x) - rs*h_x_out/h_out/h_out/p_skal\n",
    "    return out"
   ]
  },
  {
   "cell_type": "code",
   "execution_count": 39,
   "metadata": {},
   "outputs": [],
   "source": [
    "pde_condition = tp.conditions.PINNCondition(module=model,\n",
    "                                            sampler=inner_sampler,\n",
    "                                            residual_fn=pde,\n",
    "                                            name='pde_condition')"
   ]
  },
  {
   "cell_type": "code",
   "execution_count": 40,
   "metadata": {},
   "outputs": [],
   "source": [
    "# hier die Dirichlet-Bed. (diese oder die untere Bedingung verwenden)\n",
    "\n",
    "boundary_v_sampler = tp.samplers.RandomUniformSampler(A_x.boundary*A_nu*A_um*A_dh, n_points = 500)\n",
    "def bc_fun(p):\n",
    "    return p-p_rel \n",
    "\n",
    "boundary_condition = tp.conditions.PINNCondition(module = model,\n",
    "                                                sampler = boundary_v_sampler,\n",
    "                                                residual_fn = bc_fun,\n",
    "                                                name = 'pde_bc')\n"
   ]
  },
  {
   "cell_type": "code",
   "execution_count": 41,
   "metadata": {},
   "outputs": [
    {
     "data": {
      "text/plain": [
       "\"\\nboundary_v_sampler = tp.samplers.RandomUniformSampler(A_nu*A_um*A_dh, n_points = 5000)\\n\\ndef bc_fun(p_left, p_right):\\n    return p_left-p_right\\n\\nboundary_condition = tp.conditions.PeriodicCondition(module=model,\\n                                                     periodic_interval=A_x,\\n                                                     non_periodic_sampler=boundary_v_sampler,\\n                                                     residual_fn=bc_fun,\\n                                                     name='pde_bc')\\n\""
      ]
     },
     "execution_count": 41,
     "metadata": {},
     "output_type": "execute_result"
    }
   ],
   "source": [
    "# hier jetzt schon die periodische Bedingung (musst du noch updaten damit es funktioniert)\n",
    "\"\"\"\n",
    "boundary_v_sampler = tp.samplers.RandomUniformSampler(A_nu*A_um*A_dh, n_points = 5000)\n",
    "\n",
    "def bc_fun(p_left, p_right):\n",
    "    return p_left-p_right\n",
    "\n",
    "boundary_condition = tp.conditions.PeriodicCondition(module=model,\n",
    "                                                     periodic_interval=A_x,\n",
    "                                                     non_periodic_sampler=boundary_v_sampler,\n",
    "                                                     residual_fn=bc_fun,\n",
    "                                                     name='pde_bc')\n",
    "\"\"\""
   ]
  },
  {
   "cell_type": "code",
   "execution_count": 42,
   "metadata": {},
   "outputs": [],
   "source": [
    "optim_setting = tp.solver.OptimizerSetting(torch.optim.AdamW, lr=1e-2) #SGD, LBFGS\n",
    "pde_condition.sampler = pde_condition.sampler.make_static()           # statische Punktverteilung\n",
    "boundary_condition.sampler = boundary_condition.sampler.make_static() # statische Punktverteilung\n",
    "solver = tp.solver.Solver((pde_condition, boundary_condition),optimizer_setting = optim_setting)"
   ]
  },
  {
   "cell_type": "code",
   "execution_count": null,
   "metadata": {
    "scrolled": true
   },
   "outputs": [
    {
     "name": "stderr",
     "output_type": "stream",
     "text": [
      "GPU available: False, used: False\n",
      "TPU available: False, using: 0 TPU cores\n",
      "IPU available: False, using: 0 IPUs\n",
      "\n",
      "  | Name             | Type       | Params\n",
      "------------------------------------------------\n",
      "0 | train_conditions | ModuleList | 2.1 K \n",
      "1 | val_conditions   | ModuleList | 0     \n",
      "------------------------------------------------\n",
      "2.1 K     Trainable params\n",
      "0         Non-trainable params\n",
      "2.1 K     Total params\n",
      "0.008     Total estimated model params size (MB)\n",
      "C:\\Users\\inu2sh\\Desktop\\Torch-Physics\\_venv\\lib\\site-packages\\pytorch_lightning\\trainer\\data_loading.py:105: UserWarning: The dataloader, train dataloader, does not have many workers which may be a bottleneck. Consider increasing the value of the `num_workers` argument` (try 8 which is the number of cpus on this machine) in the `DataLoader` init to improve performance.\n",
      "  rank_zero_warn(\n",
      "C:\\Users\\inu2sh\\Desktop\\Torch-Physics\\_venv\\lib\\site-packages\\pytorch_lightning\\trainer\\data_loading.py:105: UserWarning: The dataloader, val dataloader 0, does not have many workers which may be a bottleneck. Consider increasing the value of the `num_workers` argument` (try 8 which is the number of cpus on this machine) in the `DataLoader` init to improve performance.\n",
      "  rank_zero_warn(\n"
     ]
    },
    {
     "data": {
      "application/vnd.jupyter.widget-view+json": {
       "model_id": "6dcc6bc7a8e845aea2789bbbf1111846",
       "version_major": 2,
       "version_minor": 0
      },
      "text/plain": [
       "Training: -1it [00:00, ?it/s]"
      ]
     },
     "metadata": {},
     "output_type": "display_data"
    }
   ],
   "source": [
    "#import os\n",
    "#os.environ[\"CUDA_VISIBLE_DEVICES\"] = \"0\" # select GPUs to use\n",
    "\n",
    "trainer = pl.Trainer(gpus='-1' if torch.cuda.is_available() else None,\n",
    "                     num_sanity_val_steps=0,\n",
    "                     benchmark=True,\n",
    "                     log_every_n_steps=1,\n",
    "                     max_steps=1000,\n",
    "                     #logger=False,# zur Visualisierung im tensorboard: True\n",
    "                     checkpoint_callback=False\n",
    "                     )\n",
    "\n",
    "trainer.fit(solver)"
   ]
  },
  {
   "cell_type": "code",
   "execution_count": null,
   "metadata": {},
   "outputs": [],
   "source": [
    "# zu LBFGS wechseln. Dafür benötigen wir aber in jeder Iteration die gleichen Punkte. Daher\n",
    "# die sampler static machen, d.h. dieser erstellen immer die gleichen Punkte und keine neuen in jeder Iteration.\n",
    "#boundary_condition.sampler = boundary_condition.sampler.make_static() # für dirichlet\n",
    "pde_condition.sampler = pde_condition.sampler.make_static()\n",
    "# Falls periodische Bedingung, das benutzen:\n",
    "#boundary_condition.non_periodic_sampler = boundary_condition.non_periodic_sampler.make_static()\n",
    "\n",
    "# hier LBFGS setzen\n",
    "optim = tp.OptimizerSetting(optimizer_class=torch.optim.LBFGS, lr=0.05, \n",
    "                            optimizer_args={'max_iter': 2, 'history_size': 100})\n",
    "solver = tp.solver.Solver((pde_condition, boundary_condition),optimizer_setting = optim)\n",
    "\n",
    "trainer = pl.Trainer(gpus='-1' if torch.cuda.is_available() else None,\n",
    "                     num_sanity_val_steps=0,\n",
    "                     benchmark=True,\n",
    "                     log_every_n_steps=1,\n",
    "                     max_steps=400,\n",
    "                     #logger=False,\n",
    "                     checkpoint_callback=False\n",
    "                     )\n",
    "\n",
    "trainer.fit(solver)"
   ]
  },
  {
   "cell_type": "code",
   "execution_count": null,
   "metadata": {},
   "outputs": [],
   "source": [
    "import matplotlib.pyplot as plt\n",
    "solver = solver.to('cpu')\n",
    "print('nu0= ',nu0,' nu1= ',nu1)\n",
    "print('dh0= ',dh0, 'dh1= ', dh1, 'm')\n",
    "print('um0= ', um0, 'um1= ',um1, 'm/s')\n",
    "# Parameter definieren für Plot\n",
    "nu_plot = 2.0e-3 \n",
    "um_plot = 0.24\n",
    "dh_plot = 14.0e-06\n",
    "print('Minimale Spalthöhe =',  h_0-dh_plot)\n",
    "plot_sampler = tp.samplers.PlotSampler(plot_domain=A_x, n_points=600, device='cpu',\n",
    "                                       data_for_other_variables={'nu':nu_plot,\n",
    "                                        'um':um_plot,'dh':dh_plot})\n",
    "if nu0<=nu_plot and nu_plot<=nu1 and dh0<=dh_plot and dh_plot<=dh1 and um0<=um_plot and um_plot<=um1:\n",
    "    fig = tp.utils.plot(model,lambda p:p,plot_sampler)   \n",
    "else:\n",
    "    print('Ausserhalb des Trainingsbereiches')\n",
    "print('Skalierungsfaktor = ', p_skal)\n",
    "plt.savefig(f'p_{um}.png', dpi=300)"
   ]
  },
  {
   "cell_type": "code",
   "execution_count": null,
   "metadata": {},
   "outputs": [],
   "source": []
  }
 ],
 "metadata": {
  "interpreter": {
   "hash": "5471d372aecbf763f050aece93ed861d8318175083d9494b12a3b32f7831ffe8"
  },
  "kernelspec": {
   "display_name": "Python 3 (ipykernel)",
   "language": "python",
   "name": "python3"
  },
  "language_info": {
   "codemirror_mode": {
    "name": "ipython",
    "version": 3
   },
   "file_extension": ".py",
   "mimetype": "text/x-python",
   "name": "python",
   "nbconvert_exporter": "python",
   "pygments_lexer": "ipython3",
   "version": "3.9.7"
  }
 },
 "nbformat": 4,
 "nbformat_minor": 2
}
