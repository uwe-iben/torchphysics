{
 "cells": [
  {
   "cell_type": "code",
   "execution_count": null,
   "metadata": {},
   "outputs": [],
   "source": [
    "import torch\n",
    "import torchphysics as tp\n",
    "import math\n",
    "import numpy as np\n",
    "import pytorch_lightning as pl"
   ]
  },
  {
   "cell_type": "code",
   "execution_count": null,
   "metadata": {},
   "outputs": [],
   "source": [
    "print('Tutorial zu TorchPhysics:')\n",
    "print('https://torchphysics.readthedocs.io/en/latest/tutorial/tutorial_start.html')"
   ]
  },
  {
   "cell_type": "code",
   "execution_count": null,
   "metadata": {},
   "outputs": [],
   "source": [
    "from IPython.display import Image, Math, Latex\n",
    "from IPython.core.display import HTML \n",
    "Image(filename='bearing.png',width = 500, height = 250)"
   ]
  },
  {
   "cell_type": "code",
   "execution_count": null,
   "metadata": {},
   "outputs": [],
   "source": [
    "# First define all parameters:\n",
    "h_0 = 16.e-06 #m = 16 um\n",
    "dh = 14e-06 #m = 14 um \n",
    "D = 0.01 #m = 10 mm \n",
    "L = np.pi*D # Länge von Gebiet\n",
    "u_m = 0.26 #m/s 0.26\n",
    "beta = 2.2*1e-08 # 2.2e-08 m^2/N\n",
    "nu_0 = 1.5e-03 # Pa·s = 1.5 mPa·s\n",
    "# lower and upper bounds of parameters\n",
    "nu0 = 1.0e-03 # Viskosität\n",
    "nu1 = 2.5e-03\n",
    "um0 = 0.2     # Geschwindigkeit\n",
    "um1 = 0.4\n",
    "dh0 = 10e-6   # Spaltvariaton\n",
    "dh1 = 15e-6\n",
    "p_0 = 1e+5 # 1e+5 N/m^2 = 1 bar\n",
    "p_rel = 0 # Relativdruck \n",
    "p_skal = 100000 #Skalierungsdruck für (-1,1) Bereich"
   ]
  },
  {
   "cell_type": "code",
   "execution_count": null,
   "metadata": {},
   "outputs": [],
   "source": [
    "# define h:\n",
    "def h(x, dh): # <- hier jetzt auch dh als input\n",
    "    return h_0 + dh * torch.cos(2*x/D) # x in [0,pi*D]                               \n",
    "\n",
    "# and compute h':\n",
    "def h_x(x, dh): # <- hier jetzt auch dh als input\n",
    "    return -2.0*dh/D * torch.sin(2*x/D) # x in [0,pi*D]"
   ]
  },
  {
   "cell_type": "code",
   "execution_count": null,
   "metadata": {},
   "outputs": [],
   "source": [
    "# define the function of the viscosity.\n",
    "# Here we need torch.tensors, since the function will be evaluated in the pde.\n",
    "# At the beginng the model will have values close to 0, \n",
    "# therefore the viscosity will also be close to zero. \n",
    "# This will make the pde condition unstable, because we divide by nu.\n",
    "# For now set values smaller then 1e-06 to 1e-06 \n",
    "def nu_func(nu, p):\n",
    "    out = nu * torch.exp(beta * p*p_skal)\n",
    "    return torch.clamp(out, min=1e-06)\n",
    "\n",
    "def nu_x_func(nu,p):\n",
    "    out = nu* beta*p_skal*torch.exp(beta*p*p_skal)\n",
    "    return out "
   ]
  },
  {
   "cell_type": "code",
   "execution_count": null,
   "metadata": {},
   "outputs": [],
   "source": [
    "# Variables:\n",
    "x  = tp.spaces.R1('x')\n",
    "nu = tp.spaces.R1('nu')\n",
    "um = tp.spaces.R1('um')\n",
    "dh = tp.spaces.R1('dh')\n",
    "# output\n",
    "p = tp.spaces.R1('p')"
   ]
  },
  {
   "cell_type": "code",
   "execution_count": null,
   "metadata": {},
   "outputs": [],
   "source": [
    "A_x  = tp.domains.Interval(x, 0, L)\n",
    "A_nu = tp.domains.Interval(nu, nu0, nu1)\n",
    "A_um = tp.domains.Interval(um, um0, um1)\n",
    "A_dh = tp.domains.Interval(dh, dh0, dh1)"
   ]
  },
  {
   "cell_type": "code",
   "execution_count": null,
   "metadata": {},
   "outputs": [],
   "source": [
    "#inner_sampler = tp.samplers.AdaptiveRejectionSampler(A_x*A_nu*A_um*A_dh, n_points = 500000)\n",
    "inner_sampler = tp.samplers.RandomUniformSampler(A_x*A_nu*A_um*A_dh, n_points = 2000000)\n",
    "# density: 4 Punkte pro Einheitsvolumen\n",
    "# Boundaries\n",
    "boundary_v_sampler = tp.samplers.RandomUniformSampler(A_x.boundary*A_nu*A_um*A_dh, n_points = 100000)"
   ]
  },
  {
   "cell_type": "code",
   "execution_count": null,
   "metadata": {},
   "outputs": [],
   "source": [
    "#tp.utils.scatter(nu*um*dh, inner_sampler, boundary_v_sampler)"
   ]
  },
  {
   "cell_type": "code",
   "execution_count": null,
   "metadata": {},
   "outputs": [],
   "source": [
    "model = tp.models.Sequential(\n",
    "    tp.models.NormalizationLayer(A_x*A_nu*A_um*A_dh),\n",
    "    tp.models.FCN(input_space=x*nu*um*dh, output_space=p, hidden=(20,20,20))\n",
    ")"
   ]
  },
  {
   "cell_type": "code",
   "execution_count": null,
   "metadata": {},
   "outputs": [],
   "source": [
    "display(Math(r'h(x)\\frac{d^2 \\tilde{p}}{d x^2}  +\\left( 3 \\frac{dh}{dx} - \\frac{h}{\\nu} \\frac{d \\nu}{d x} \\\n",
    "    \\right) \\frac{d \\tilde{p}}{d x} = \\frac{6 u_m \\nu}{p_0 h^2} \\frac{d h}{d x}\\quad \\mbox{with} \\\n",
    "    \\quad \\tilde{p}=\\frac{p}{p_{skal}} '))"
   ]
  },
  {
   "cell_type": "code",
   "execution_count": null,
   "metadata": {},
   "outputs": [],
   "source": [
    "from torchphysics.utils import grad\n",
    "# Alternativ tp.utils.grad\n",
    "def pde(nu, p, x, um, dh): # <- brauchen jetzt dh und um auch als input\n",
    "    # evaluate the viscosity and their first derivative\n",
    "    nu = nu_func(nu,p)\n",
    "    nu_x = nu_x_func(nu,p)\n",
    "    # implement the PDE:\n",
    "    # right hand site\n",
    "    rs = 6*um*nu #<- hier jetzt um statt u_m, da deine Variable so heißt   \n",
    "    #  h und h_x mit Input dh:\n",
    "    h_out = h(x, dh) # nur einmal auswerten\n",
    "    h_x_out = h_x(x, dh) # nur einmal auswerten\n",
    "    #out = h_out * grad(grad(p,x),x)- rs*h_x_out/h_out/h_out/p_skal\n",
    "    out = h_out*grad(grad(p,x),x) + (3*h_x_out -h_out/nu*nu_x)*grad(p,x) - rs*h_x_out/h_out/h_out/p_skal\n",
    "    return out"
   ]
  },
  {
   "cell_type": "code",
   "execution_count": null,
   "metadata": {},
   "outputs": [],
   "source": [
    "pde_condition = tp.conditions.PINNCondition(module=model,\n",
    "                                            sampler=inner_sampler,\n",
    "                                            residual_fn=pde,\n",
    "                                            name='pde_condition')"
   ]
  },
  {
   "cell_type": "code",
   "execution_count": null,
   "metadata": {},
   "outputs": [],
   "source": [
    "\n",
    "# Hier brauchen wir immer nur den output des modells, da die Bedingung nicht\n",
    "# von nu, um oder dh abhängt.\n",
    "\n",
    "def bc_fun(p):\n",
    "    return p-p_rel \n",
    "\n",
    "boundary_condition = tp.conditions.PINNCondition(module = model,\n",
    "                                                sampler = boundary_v_sampler,\n",
    "                                                residual_fn = bc_fun,\n",
    "                                                name = 'pde_bc')"
   ]
  },
  {
   "cell_type": "code",
   "execution_count": null,
   "metadata": {},
   "outputs": [],
   "source": [
    "opt_setting = tp.solver.OptimizerSetting(torch.optim.AdamW, lr=1e-2) #SGD, LBFGS\n",
    "solver = tp.solver.Solver((pde_condition, boundary_condition),optimizer_setting = opt_setting)"
   ]
  },
  {
   "cell_type": "code",
   "execution_count": null,
   "metadata": {
    "scrolled": true
   },
   "outputs": [],
   "source": [
    "trainer = pl.Trainer(gpus='-1' if torch.cuda.is_available() else None,\n",
    "                     num_sanity_val_steps=0,\n",
    "                     benchmark=True,\n",
    "                     log_every_n_steps=1,\n",
    "                     max_steps=1000,\n",
    "                     #logger=False, zur Visualisierung im tensorboard\n",
    "                     checkpoint_callback=False\n",
    "                     )\n",
    "\n",
    "trainer.fit(solver)"
   ]
  },
  {
   "cell_type": "code",
   "execution_count": null,
   "metadata": {},
   "outputs": [],
   "source": [
    "opt_setting = tp.solver.OptimizerSetting(torch.optim.LBFGS, lr=1e-3) #SGD, LBFGS\n",
    "solver = tp.solver.Solver((pde_condition, boundary_condition),optimizer_setting = opt_setting)\n",
    "trainer = pl.Trainer(gpus='-1' if torch.cuda.is_available() else None,\n",
    "                     num_sanity_val_steps=0,\n",
    "                     benchmark=True,\n",
    "                     log_every_n_steps=1,\n",
    "                     max_steps=600,\n",
    "                     #logger=False, zur Visualisierung im tensorboard\n",
    "                     checkpoint_callback=False\n",
    "                     )\n",
    "\n",
    "trainer.fit(solver)"
   ]
  },
  {
   "cell_type": "code",
   "execution_count": null,
   "metadata": {},
   "outputs": [],
   "source": [
    "import matplotlib.pyplot as plt\n",
    "solver = solver.to('cpu')\n",
    "print('nu0= ',nu0,' nu1= ',nu1)\n",
    "print('dh0= ',dh0, 'dh1= ', dh1, 'm')\n",
    "print('um0= ', um0, 'um1= ',um1, 'm/s')\n",
    "# Parameter definieren für Plot\n",
    "nu_plot = 2.0e-3 \n",
    "um_plot = 0.4\n",
    "dh_plot = 14.25e-06\n",
    "print('Minimale Spalthöhe =',  h_0-dh_plot)\n",
    "plot_sampler = tp.samplers.PlotSampler(plot_domain=A_x, n_points=600, device='cpu',\n",
    "                                       data_for_other_variables={'nu':nu_plot,\n",
    "                                        'um':um_plot,'dh':dh_plot})\n",
    "if nu0<=nu_plot and nu_plot<=nu1 and dh0<=dh_plot and dh_plot<=dh1 and um0<=um_plot and um_plot<=um1:\n",
    "    fig = tp.utils.plot(model,lambda p:p,plot_sampler)   \n",
    "else:\n",
    "    print('Ausserhalb des Trainingsbereiches')\n",
    "print('Skalierungsfaktor = ', p_skal)\n",
    "plt.savefig(f'p_{um}.png', dpi=300)"
   ]
  },
  {
   "cell_type": "code",
   "execution_count": null,
   "metadata": {},
   "outputs": [],
   "source": [
    "import xlsxwriter\n",
    "#erstellen eines Workbook Objektes mit dem Dateinamen \"Gleitlager_***.xlsx\"\n",
    "workbook = xlsxwriter.Workbook('Gleitlager.xlsx')\n",
    "worksheet = workbook.add_worksheet('Tabelle_1')\n",
    "\n",
    "worksheet.write('Ergebnistabelle Gleitlager')\n",
    "worksheet.write('nu', 'dh', 'um')\n",
    "\n",
    "workbook.close()"
   ]
  },
  {
   "cell_type": "code",
   "execution_count": null,
   "metadata": {},
   "outputs": [],
   "source": [
    "import winsound\n",
    "frequency = 2500  # Set Frequency To 2500 Hertz\n",
    "duration = 1000  # Set Duration To 1000 ms == 1 second\n",
    "winsound.Beep(frequency, duration)"
   ]
  }
 ],
 "metadata": {
  "interpreter": {
   "hash": "5471d372aecbf763f050aece93ed861d8318175083d9494b12a3b32f7831ffe8"
  },
  "kernelspec": {
   "display_name": "Python 3 (ipykernel)",
   "language": "python",
   "name": "python3"
  },
  "language_info": {
   "codemirror_mode": {
    "name": "ipython",
    "version": 3
   },
   "file_extension": ".py",
   "mimetype": "text/x-python",
   "name": "python",
   "nbconvert_exporter": "python",
   "pygments_lexer": "ipython3",
   "version": "3.9.7"
  }
 },
 "nbformat": 4,
 "nbformat_minor": 2
}
