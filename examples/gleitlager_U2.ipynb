{
 "cells": [
  {
   "cell_type": "code",
   "execution_count": 11,
   "metadata": {},
   "outputs": [
    {
     "data": {
      "text/plain": [
       "False"
      ]
     },
     "execution_count": 11,
     "metadata": {},
     "output_type": "execute_result"
    }
   ],
   "source": [
    "import torch\n",
    "import numpy as np\n",
    "import os\n",
    "import pytorch_lightning as pl\n",
    "\n",
    "from torchphysics.problem import Variable\n",
    "from torchphysics.setting import Setting\n",
    "from torchphysics.problem.domain import Interval\n",
    "from torchphysics.problem.condition import (DirichletCondition,\n",
    "                                            DiffEqBoundaryCondition,\n",
    "                                            DiffEqCondition)\n",
    "from torchphysics.models.fcn import SimpleFCN\n",
    "from torchphysics import PINNModule\n",
    "from torchphysics.utils import grad\n",
    "\n",
    "from torchphysics.setting import Setting\n",
    "\n",
    "os.environ[\"CUDA_VISIBLE_DEVICES\"] = \"0\" # select GPUs to use\n",
    "\n",
    "#pl.seed_everything(43) # set a global seed\n",
    "torch.cuda.is_available()"
   ]
  },
  {
   "cell_type": "code",
   "execution_count": 12,
   "metadata": {},
   "outputs": [],
   "source": [
    "# First define all parameters:\n",
    "h_0 = 1.6e-02 #m = 16 um\n",
    "delta_h = 1e-02 #m = 10 um \n",
    "D = 100 #m = 100 mm \n",
    "L = np.pi*D # Länge von Gebiet\n",
    "u_m = 260 #mm/s 0.26 m/s\n",
    "beta = 2.2*1e-02 # mm^2/N\n",
    "nu_0 = 1.5e-09 # Ns/mm^2 = 1.5e-03 Pa·s = 1.5 mPa·s\n",
    "p_0 = 1e-01 # N/mm^2 = 1 bar"
   ]
  },
  {
   "cell_type": "code",
   "execution_count": 13,
   "metadata": {},
   "outputs": [],
   "source": [
    "# define h:\n",
    "def h(x):\n",
    "    return h_0 + delta_h * np.cos(2*x/D) # here use x/D, instead of x? Or else\n",
    "    #return h_0                                   # the function is almost constant.\n",
    "\n",
    "# we can analytically compute h':\n",
    "def h_x(x):\n",
    "    return -2.0*delta_h/D * np.sin(2*x/D) # x in [0,pi*D]\n",
    "    #return 0\n",
    "\n",
    "# create a data function, so we only need to evaluate h and h' once at the beginning\n",
    "def data_fun(x):\n",
    "    out_h = h(x)\n",
    "    out_d_h = h_x(x)\n",
    "    out = np.column_stack((out_h, out_d_h)) # column 0 : values of h\n",
    "                                            # column 1 : values of h' \n",
    "    return out.astype(np.float32)"
   ]
  },
  {
   "cell_type": "code",
   "execution_count": 14,
   "metadata": {},
   "outputs": [],
   "source": [
    "# define the function of the viscosity.\n",
    "# Here we need torch.tensors, since the function will be evaluated in the pde.\n",
    "# At the beginng the model will have values close to 0, \n",
    "# therefore the viscosity will also be close to zero. \n",
    "# This will make the pde condition unstable, because we divide by nu.\n",
    "# For now set values smaller then 1e-06 to 1e-06 \n",
    "def nu_func(p):\n",
    "    out = nu_0 * torch.exp(beta * p)\n",
    "    return torch.clamp(out, min=1e-12)"
   ]
  },
  {
   "cell_type": "code",
   "execution_count": 15,
   "metadata": {},
   "outputs": [],
   "source": [
    "# Variables:\n",
    "x = Variable(name='x',\n",
    "             order=1,\n",
    "             domain=Interval(0, L),\n",
    "             train_conditions={},\n",
    "             val_conditions={})\n",
    "# Output:\n",
    "p = 'p'"
   ]
  },
  {
   "cell_type": "code",
   "execution_count": 16,
   "metadata": {},
   "outputs": [],
   "source": [
    "norm = torch.nn.MSELoss()\n",
    "\n",
    "# periodic boundary -> use arbritray boundary conditon class:\n",
    "time_points = 500 # number of time-points for the boundary condition.\n",
    "# The points will be in such order, that the first points will be \n",
    "# at the left x-boundary, and the last points at the right side. \n",
    "# This will be consitent over all iterations, therefore we can compute\n",
    "# the specific index once:\n",
    "index_left = range(0, time_points)\n",
    "index_right = range(time_points, 2*time_points)\n",
    "def periodic_fun(p, x):\n",
    "    #print('left', x[index_left]) # to check correct order of x\n",
    "    return p[0]-p[1]\n",
    "    #return rho[index_left]\n",
    "\n",
    "x.add_train_condition(DiffEqBoundaryCondition(bound_condition_fun=periodic_fun,\n",
    "                                              name='periodic_condition',\n",
    "                                              norm=norm,\n",
    "                                              weight=20.0,\n",
    "                                              dataset_size=[2], # 2 points for x (left/right boundary)\n",
    "                                              boundary_sampling_strategy='grid'))\n",
    "\n",
    "def l_fun(p, x):\n",
    "    #print('left', x[index_left]) # to check correct order of x\n",
    "    return p-p_0\n",
    "    #return rho[index_left]\n",
    "\n",
    "x.add_train_condition(DiffEqBoundaryCondition(bound_condition_fun=l_fun,\n",
    "                                              name='l_condition',\n",
    "                                              norm=norm,\n",
    "                                              dataset_size=[1], # 2 points for x (left/right boundary)\n",
    "                                              sampling_strategy='grid',\n",
    "                                              boundary_sampling_strategy='lower_bound_only'))\n",
    "def r_fun(p, x):\n",
    "    #print('left', x[index_left]) # to check correct order of x\n",
    "    return p-p_0\n",
    "    #return rho[index_left]\n",
    "\n",
    "x.add_train_condition(DiffEqBoundaryCondition(bound_condition_fun=r_fun,\n",
    "                                              name='r_condition',\n",
    "                                              norm=norm,\n",
    "                                              dataset_size=[1], # 2 points for x (left/right boundary)\n",
    "                                              sampling_strategy='grid',\n",
    "                                              boundary_sampling_strategy='upper_bound_only'))"
   ]
  },
  {
   "cell_type": "code",
   "execution_count": 17,
   "metadata": {},
   "outputs": [],
   "source": [
    "def pde(p, x, data):\n",
    "    # evaluate the viscosity\n",
    "    nu = nu_func(p)\n",
    "    # implemnet the PDE:\n",
    "    # part1\n",
    "    p_x = grad(p, x) \n",
    "    part = 6 * u_m * data[:, 1:]  # 6*u_m*grad(h,x)\n",
    "    # part2\n",
    "    diff = p_x/nu\n",
    "    prod_1 = 3*data[:, :1]**2*data[:, 1:]*diff\n",
    "    prod_2 = data[:, :1]**3 * grad(diff, x)\n",
    "    diff = prod_1 + prod_2\n",
    "    # Gesamtproblem\n",
    "    return part-diff\n",
    "   \n",
    "train_cond = DiffEqCondition(pde=pde,\n",
    "                             name='pde',\n",
    "                             data_fun=data_fun,\n",
    "                             norm=norm,\n",
    "                             weight=1.0,\n",
    "                             sampling_strategy='grid',\n",
    "                             dataset_size=10000)"
   ]
  },
  {
   "cell_type": "code",
   "execution_count": 18,
   "metadata": {},
   "outputs": [],
   "source": [
    "setup = Setting(variables=(x),\n",
    "                train_conditions={'pde': train_cond},\n",
    "                val_conditions={},\n",
    "                solution_dims={p: 1},\n",
    "                n_iterations=500)"
   ]
  },
  {
   "cell_type": "code",
   "execution_count": 19,
   "metadata": {},
   "outputs": [],
   "source": [
    "solver = PINNModule(model=SimpleFCN(variable_dims=setup.variable_dims,\n",
    "                                    solution_dims=setup.solution_dims,\n",
    "                                    depth=3,\n",
    "                                    width=20),\n",
    "                    optimizer=torch.optim.Adam,\n",
    "                    lr=1e-4)"
   ]
  },
  {
   "cell_type": "code",
   "execution_count": 20,
   "metadata": {
    "scrolled": true
   },
   "outputs": [],
   "source": [
    "solver.model.get_layers()"
   ]
  },
  {
   "cell_type": "code",
   "execution_count": 21,
   "metadata": {},
   "outputs": [
    {
     "ename": "MisconfigurationException",
     "evalue": "You requested GPUs: [0]\n But your machine only has: []",
     "output_type": "error",
     "traceback": [
      "\u001b[1;31m---------------------------------------------------------------------------\u001b[0m",
      "\u001b[1;31mMisconfigurationException\u001b[0m                 Traceback (most recent call last)",
      "\u001b[1;32m<ipython-input-21-635c7c5f5120>\u001b[0m in \u001b[0;36m<module>\u001b[1;34m\u001b[0m\n\u001b[1;32m----> 1\u001b[1;33m trainer = pl.Trainer(gpus=1,\n\u001b[0m\u001b[0;32m      2\u001b[0m                      \u001b[0mnum_sanity_val_steps\u001b[0m\u001b[1;33m=\u001b[0m\u001b[1;36m0\u001b[0m\u001b[1;33m,\u001b[0m\u001b[1;33m\u001b[0m\u001b[1;33m\u001b[0m\u001b[0m\n\u001b[0;32m      3\u001b[0m                      \u001b[0mbenchmark\u001b[0m\u001b[1;33m=\u001b[0m\u001b[1;32mTrue\u001b[0m\u001b[1;33m,\u001b[0m\u001b[1;33m\u001b[0m\u001b[1;33m\u001b[0m\u001b[0m\n\u001b[0;32m      4\u001b[0m                      \u001b[0mcheck_val_every_n_epoch\u001b[0m\u001b[1;33m=\u001b[0m\u001b[1;36m20\u001b[0m\u001b[1;33m,\u001b[0m\u001b[1;33m\u001b[0m\u001b[1;33m\u001b[0m\u001b[0m\n\u001b[0;32m      5\u001b[0m                      \u001b[0mlog_every_n_steps\u001b[0m\u001b[1;33m=\u001b[0m\u001b[1;36m15\u001b[0m\u001b[1;33m,\u001b[0m\u001b[1;33m\u001b[0m\u001b[1;33m\u001b[0m\u001b[0m\n",
      "\u001b[1;32m~\\Desktop\\Torch-Physics\\_venv\\lib\\site-packages\\pytorch_lightning\\trainer\\connectors\\env_vars_connector.py\u001b[0m in \u001b[0;36minsert_env_defaults\u001b[1;34m(self, *args, **kwargs)\u001b[0m\n\u001b[0;32m     38\u001b[0m \u001b[1;33m\u001b[0m\u001b[0m\n\u001b[0;32m     39\u001b[0m         \u001b[1;31m# all args were already moved to kwargs\u001b[0m\u001b[1;33m\u001b[0m\u001b[1;33m\u001b[0m\u001b[1;33m\u001b[0m\u001b[0m\n\u001b[1;32m---> 40\u001b[1;33m         \u001b[1;32mreturn\u001b[0m \u001b[0mfn\u001b[0m\u001b[1;33m(\u001b[0m\u001b[0mself\u001b[0m\u001b[1;33m,\u001b[0m \u001b[1;33m**\u001b[0m\u001b[0mkwargs\u001b[0m\u001b[1;33m)\u001b[0m\u001b[1;33m\u001b[0m\u001b[1;33m\u001b[0m\u001b[0m\n\u001b[0m\u001b[0;32m     41\u001b[0m \u001b[1;33m\u001b[0m\u001b[0m\n\u001b[0;32m     42\u001b[0m     \u001b[1;32mreturn\u001b[0m \u001b[0minsert_env_defaults\u001b[0m\u001b[1;33m\u001b[0m\u001b[1;33m\u001b[0m\u001b[0m\n",
      "\u001b[1;32m~\\Desktop\\Torch-Physics\\_venv\\lib\\site-packages\\pytorch_lightning\\trainer\\trainer.py\u001b[0m in \u001b[0;36m__init__\u001b[1;34m(self, logger, checkpoint_callback, callbacks, default_root_dir, gradient_clip_val, gradient_clip_algorithm, process_position, num_nodes, num_processes, gpus, auto_select_gpus, tpu_cores, log_gpu_memory, progress_bar_refresh_rate, overfit_batches, track_grad_norm, check_val_every_n_epoch, fast_dev_run, accumulate_grad_batches, max_epochs, min_epochs, max_steps, min_steps, max_time, limit_train_batches, limit_val_batches, limit_test_batches, limit_predict_batches, val_check_interval, flush_logs_every_n_steps, log_every_n_steps, accelerator, sync_batchnorm, precision, weights_summary, weights_save_path, num_sanity_val_steps, truncated_bptt_steps, resume_from_checkpoint, profiler, benchmark, deterministic, reload_dataloaders_every_epoch, auto_lr_find, replace_sampler_ddp, terminate_on_nan, auto_scale_batch_size, prepare_data_per_node, plugins, amp_backend, amp_level, distributed_backend, move_metrics_to_cpu, multiple_trainloader_mode, stochastic_weight_avg)\u001b[0m\n\u001b[0;32m    319\u001b[0m         \u001b[0mself\u001b[0m\u001b[1;33m.\u001b[0m\u001b[0moptimizer_connector\u001b[0m \u001b[1;33m=\u001b[0m \u001b[0mOptimizerConnector\u001b[0m\u001b[1;33m(\u001b[0m\u001b[0mself\u001b[0m\u001b[1;33m)\u001b[0m\u001b[1;33m\u001b[0m\u001b[1;33m\u001b[0m\u001b[0m\n\u001b[0;32m    320\u001b[0m \u001b[1;33m\u001b[0m\u001b[0m\n\u001b[1;32m--> 321\u001b[1;33m         self.accelerator_connector = AcceleratorConnector(\n\u001b[0m\u001b[0;32m    322\u001b[0m             \u001b[0mnum_processes\u001b[0m\u001b[1;33m,\u001b[0m \u001b[0mtpu_cores\u001b[0m\u001b[1;33m,\u001b[0m \u001b[0mdistributed_backend\u001b[0m\u001b[1;33m,\u001b[0m \u001b[0mauto_select_gpus\u001b[0m\u001b[1;33m,\u001b[0m \u001b[0mgpus\u001b[0m\u001b[1;33m,\u001b[0m \u001b[0mnum_nodes\u001b[0m\u001b[1;33m,\u001b[0m \u001b[0msync_batchnorm\u001b[0m\u001b[1;33m,\u001b[0m \u001b[0mbenchmark\u001b[0m\u001b[1;33m,\u001b[0m\u001b[1;33m\u001b[0m\u001b[1;33m\u001b[0m\u001b[0m\n\u001b[0;32m    323\u001b[0m             \u001b[0mreplace_sampler_ddp\u001b[0m\u001b[1;33m,\u001b[0m \u001b[0mdeterministic\u001b[0m\u001b[1;33m,\u001b[0m \u001b[0mprecision\u001b[0m\u001b[1;33m,\u001b[0m \u001b[0mamp_backend\u001b[0m\u001b[1;33m,\u001b[0m \u001b[0mamp_level\u001b[0m\u001b[1;33m,\u001b[0m \u001b[0mplugins\u001b[0m\u001b[1;33m\u001b[0m\u001b[1;33m\u001b[0m\u001b[0m\n",
      "\u001b[1;32m~\\Desktop\\Torch-Physics\\_venv\\lib\\site-packages\\pytorch_lightning\\trainer\\connectors\\accelerator_connector.py\u001b[0m in \u001b[0;36m__init__\u001b[1;34m(self, num_processes, tpu_cores, distributed_backend, auto_select_gpus, gpus, num_nodes, sync_batchnorm, benchmark, replace_sampler_ddp, deterministic, precision, amp_type, amp_level, plugins)\u001b[0m\n\u001b[0;32m    129\u001b[0m             \u001b[0mself\u001b[0m\u001b[1;33m.\u001b[0m\u001b[0mgpus\u001b[0m \u001b[1;33m=\u001b[0m \u001b[0mpick_multiple_gpus\u001b[0m\u001b[1;33m(\u001b[0m\u001b[0mgpus\u001b[0m\u001b[1;33m)\u001b[0m\u001b[1;33m\u001b[0m\u001b[1;33m\u001b[0m\u001b[0m\n\u001b[0;32m    130\u001b[0m \u001b[1;33m\u001b[0m\u001b[0m\n\u001b[1;32m--> 131\u001b[1;33m         \u001b[0mself\u001b[0m\u001b[1;33m.\u001b[0m\u001b[0mparallel_device_ids\u001b[0m \u001b[1;33m=\u001b[0m \u001b[0mdevice_parser\u001b[0m\u001b[1;33m.\u001b[0m\u001b[0mparse_gpu_ids\u001b[0m\u001b[1;33m(\u001b[0m\u001b[0mself\u001b[0m\u001b[1;33m.\u001b[0m\u001b[0mgpus\u001b[0m\u001b[1;33m)\u001b[0m\u001b[1;33m\u001b[0m\u001b[1;33m\u001b[0m\u001b[0m\n\u001b[0m\u001b[0;32m    132\u001b[0m \u001b[1;33m\u001b[0m\u001b[0m\n\u001b[0;32m    133\u001b[0m         \u001b[0mself\u001b[0m\u001b[1;33m.\u001b[0m\u001b[0mset_distributed_mode\u001b[0m\u001b[1;33m(\u001b[0m\u001b[1;33m)\u001b[0m\u001b[1;33m\u001b[0m\u001b[1;33m\u001b[0m\u001b[0m\n",
      "\u001b[1;32m~\\Desktop\\Torch-Physics\\_venv\\lib\\site-packages\\pytorch_lightning\\utilities\\device_parser.py\u001b[0m in \u001b[0;36mparse_gpu_ids\u001b[1;34m(gpus)\u001b[0m\n\u001b[0;32m     85\u001b[0m         \u001b[1;32mreturn\u001b[0m \u001b[0mgpus\u001b[0m\u001b[1;33m\u001b[0m\u001b[1;33m\u001b[0m\u001b[0m\n\u001b[0;32m     86\u001b[0m \u001b[1;33m\u001b[0m\u001b[0m\n\u001b[1;32m---> 87\u001b[1;33m     \u001b[0mgpus\u001b[0m \u001b[1;33m=\u001b[0m \u001b[0m_sanitize_gpu_ids\u001b[0m\u001b[1;33m(\u001b[0m\u001b[0mgpus\u001b[0m\u001b[1;33m)\u001b[0m\u001b[1;33m\u001b[0m\u001b[1;33m\u001b[0m\u001b[0m\n\u001b[0m\u001b[0;32m     88\u001b[0m \u001b[1;33m\u001b[0m\u001b[0m\n\u001b[0;32m     89\u001b[0m     \u001b[1;32mreturn\u001b[0m \u001b[0mgpus\u001b[0m\u001b[1;33m\u001b[0m\u001b[1;33m\u001b[0m\u001b[0m\n",
      "\u001b[1;32m~\\Desktop\\Torch-Physics\\_venv\\lib\\site-packages\\pytorch_lightning\\utilities\\device_parser.py\u001b[0m in \u001b[0;36m_sanitize_gpu_ids\u001b[1;34m(gpus)\u001b[0m\n\u001b[0;32m    152\u001b[0m     \u001b[1;32mfor\u001b[0m \u001b[0mgpu\u001b[0m \u001b[1;32min\u001b[0m \u001b[0mgpus\u001b[0m\u001b[1;33m:\u001b[0m\u001b[1;33m\u001b[0m\u001b[1;33m\u001b[0m\u001b[0m\n\u001b[0;32m    153\u001b[0m         \u001b[1;32mif\u001b[0m \u001b[0mgpu\u001b[0m \u001b[1;32mnot\u001b[0m \u001b[1;32min\u001b[0m \u001b[0mall_available_gpus\u001b[0m\u001b[1;33m:\u001b[0m\u001b[1;33m\u001b[0m\u001b[1;33m\u001b[0m\u001b[0m\n\u001b[1;32m--> 154\u001b[1;33m             raise MisconfigurationException(\n\u001b[0m\u001b[0;32m    155\u001b[0m                 \u001b[1;34mf\"You requested GPUs: {gpus}\\n But your machine only has: {all_available_gpus}\"\u001b[0m\u001b[1;33m\u001b[0m\u001b[1;33m\u001b[0m\u001b[0m\n\u001b[0;32m    156\u001b[0m             )\n",
      "\u001b[1;31mMisconfigurationException\u001b[0m: You requested GPUs: [0]\n But your machine only has: []"
     ]
    }
   ],
   "source": [
    "trainer = pl.Trainer(gpus=1,\n",
    "                     num_sanity_val_steps=0,\n",
    "                     benchmark=True,\n",
    "                     check_val_every_n_epoch=20,\n",
    "                     log_every_n_steps=15,\n",
    "                     max_epochs=3,\n",
    "                     logger=False,\n",
    "                     checkpoint_callback=False\n",
    "                     )\n",
    "\n",
    "trainer.fit(solver, setup)"
   ]
  },
  {
   "cell_type": "code",
   "execution_count": null,
   "metadata": {},
   "outputs": [],
   "source": [
    "# Use LBFGS at the end\n",
    "solver.lr = 0.5\n",
    "solver.optimizer = torch.optim.LBFGS\n",
    "solver.optim_params = {'max_iter': 1}\n",
    "trainer = pl.Trainer(gpus=None,\n",
    "                     num_sanity_val_steps=0,\n",
    "                     benchmark=True,\n",
    "                     check_val_every_n_epoch=20,\n",
    "                     log_every_n_steps=15,\n",
    "                     max_epochs=3,\n",
    "                     logger=False,\n",
    "                     checkpoint_callback=False\n",
    "                     )\n",
    "\n",
    "trainer.fit(solver, setup)"
   ]
  },
  {
   "cell_type": "code",
   "execution_count": null,
   "metadata": {},
   "outputs": [],
   "source": [
    "from torchphysics.utils.plot import _plot\n",
    "#solver = solver.to('cpu')\n",
    "fig = _plot(model=solver.model, solution_name='p', plot_variables=[x],\n",
    "            points=500) "
   ]
  },
  {
   "cell_type": "code",
   "execution_count": null,
   "metadata": {},
   "outputs": [],
   "source": [
    "import matplotlib.pyplot as plo\n",
    "\n",
    "plo.plot(setup.train_data['pde']['x'][:].detach().numpy(),\n",
    "         setup.train_data['pde']['data'][:, 1].detach().numpy())"
   ]
  }
 ],
 "metadata": {
  "interpreter": {
   "hash": "5471d372aecbf763f050aece93ed861d8318175083d9494b12a3b32f7831ffe8"
  },
  "kernelspec": {
   "display_name": "Python 3",
   "language": "python",
   "name": "python3"
  },
  "language_info": {
   "codemirror_mode": {
    "name": "ipython",
    "version": 3
   },
   "file_extension": ".py",
   "mimetype": "text/x-python",
   "name": "python",
   "nbconvert_exporter": "python",
   "pygments_lexer": "ipython3",
   "version": "3.9.5"
  }
 },
 "nbformat": 4,
 "nbformat_minor": 2
}
