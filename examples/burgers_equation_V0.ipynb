{
 "cells": [
  {
   "cell_type": "code",
   "execution_count": 1,
   "metadata": {},
   "outputs": [
    {
     "data": {
      "text/plain": [
       "False"
      ]
     },
     "execution_count": 1,
     "metadata": {},
     "output_type": "execute_result"
    }
   ],
   "source": [
    "import torch\n",
    "import os\n",
    "import numpy as np\n",
    "import pytorch_lightning as pl\n",
    "from timeit import default_timer as timer\n",
    "\n",
    "from torchphysics.problem import Variable\n",
    "from torchphysics.setting import Setting\n",
    "from torchphysics.problem.domain import (Rectangle,\n",
    "                                           Interval,\n",
    "                                           Circle)\n",
    "from torchphysics.problem.condition import (DirichletCondition,\n",
    "                                              DiffEqCondition,\n",
    "                                              DataCondition)\n",
    "from torchphysics.models.fcn import SimpleFCN\n",
    "from torchphysics import PINNModule\n",
    "from torchphysics.utils import laplacian, jac\n",
    "from torchphysics.utils.fdm import FDM, create_validation_data\n",
    "from torchphysics.utils.plot import Plotter\n",
    "from torchphysics.utils.evaluation import (get_min_max_inside,\n",
    "                                             get_min_max_boundary)\n",
    "from torchphysics.setting import Setting\n",
    "\n",
    "os.environ[\"CUDA_VISIBLE_DEVICES\"] = \"\" # select GPUs to use\n",
    "\n",
    "#pl.seed_everything(43) # set a global seed\n",
    "torch.cuda.is_available()"
   ]
  },
  {
   "cell_type": "code",
   "execution_count": 2,
   "metadata": {},
   "outputs": [],
   "source": [
    "w, h = 1, 1\n",
    "t0, tend = 0, 8\n",
    "Re = 10"
   ]
  },
  {
   "cell_type": "code",
   "execution_count": 3,
   "metadata": {},
   "outputs": [],
   "source": [
    "R = Rectangle(corner_dl=[0, 0], corner_dr=[w, 0], corner_tl=[0, h])\n",
    "\n",
    "x = Variable(name='x',\n",
    "             order=2,\n",
    "             domain=R,\n",
    "             train_conditions={},\n",
    "             val_conditions={})\n",
    "t = Variable(name='t',\n",
    "             order=1,\n",
    "             domain=Interval(low_bound=0,\n",
    "                             up_bound=tend),\n",
    "             train_conditions={},\n",
    "             val_conditions={})"
   ]
  },
  {
   "cell_type": "code",
   "execution_count": 4,
   "metadata": {},
   "outputs": [],
   "source": [
    "norm = torch.nn.MSELoss()\n",
    "# at start: erverything 0\n",
    "def t_dirichlet_fun(input):\n",
    "    return np.zeros_like(input['x'])\n",
    "\n",
    "t.add_train_condition(DirichletCondition(dirichlet_fun=t_dirichlet_fun,\n",
    "                                         name='dirichlet',\n",
    "                                         norm=norm,\n",
    "                                         dataset_size=500,\n",
    "                                         boundary_sampling_strategy='lower_bound_only',\n",
    "                                         data_plot_variables=('x','t')))\n",
    "# at boundary: flow dependent on time (left into the domain, right out of the domain)\n",
    "# y component always zero \n",
    "def x_dirichlet_fun(input):\n",
    "    out = np.zeros((len(input['t']), 2))\n",
    "    # left \n",
    "    left = np.isclose(input['x'][:, 0], 0)\n",
    "    index_left = np.where(left)[0]\n",
    "    out[index_left, :1] = 0.5*input['t'][index_left]\n",
    "    # right\n",
    "    right = np.isclose(input['x'][:, 0], w)\n",
    "    index_right = np.where(right)[0]\n",
    "    out[index_right, :1] = 0.5*input['t'][index_right]\n",
    "    return out.astype(np.float32)\n",
    "\n",
    "x.add_train_condition(DirichletCondition(dirichlet_fun=x_dirichlet_fun,\n",
    "                                         name='dirichlet',\n",
    "                                         sampling_strategy='grid',\n",
    "                                         boundary_sampling_strategy='grid',\n",
    "                                         norm=norm,\n",
    "                                         weight=1.0,\n",
    "                                         dataset_size=[200, 10],\n",
    "                                         data_plot_variables=('x','t')))"
   ]
  },
  {
   "cell_type": "code",
   "execution_count": 5,
   "metadata": {},
   "outputs": [],
   "source": [
    "def pde(u, input):\n",
    "    jac_t = jac(u, input['t']) # time derivative of first and second output\n",
    "    jac_x = jac(u, input['x'])\n",
    "    conv = torch.bmm(jac_x, u.unsqueeze(dim=2)) # convection term\n",
    "    # use the rows of the jacobi to compute laplace\n",
    "    l_1 = laplacian(u[:, 0], input['x'], grad=jac_x[:, 0, :])\n",
    "    l_2 = laplacian(u[:, 1], input['x'], grad=jac_x[:, 1, :])\n",
    "    laplace_vec = torch.cat((l_1, l_2), dim=1) # put laplace in one vector\n",
    "    return (jac_t + conv).reshape(u.shape[0], 2) - 1/Re * laplace_vec\n",
    "\n",
    "train_cond = DiffEqCondition(pde=pde,\n",
    "                             name='pde',\n",
    "                             norm=norm,\n",
    "                             weight=1.0,\n",
    "                             dataset_size=1000,\n",
    "                             data_plot_variables=('x','t'))"
   ]
  },
  {
   "cell_type": "code",
   "execution_count": 6,
   "metadata": {},
   "outputs": [],
   "source": [
    "setup = Setting(variables=(x, t),\n",
    "                train_conditions={'pde': train_cond},\n",
    "                val_conditions={},\n",
    "                n_iterations=500)"
   ]
  },
  {
   "cell_type": "code",
   "execution_count": 7,
   "metadata": {},
   "outputs": [],
   "source": [
    "solver = PINNModule(model=SimpleFCN(input_dim=3,\n",
    "                                    depth=4,\n",
    "                                    width=20, \n",
    "                                    output_dim=2),\n",
    "                    optimizer=torch.optim.Adam,\n",
    "                    lr=1e-3,\n",
    "                    #log_plotter=plotter\n",
    "                    )"
   ]
  },
  {
   "cell_type": "code",
   "execution_count": 8,
   "metadata": {},
   "outputs": [
    {
     "name": "stderr",
     "output_type": "stream",
     "text": [
      "GPU available: False, used: False\n",
      "TPU available: False, using: 0 TPU cores\n",
      "\n",
      "  | Name  | Type      | Params\n",
      "------------------------------------\n",
      "0 | model | SimpleFCN | 1.8 K \n",
      "------------------------------------\n",
      "1.8 K     Trainable params\n",
      "0         Non-trainable params\n",
      "1.8 K     Total params\n",
      "0.007     Total estimated model params size (MB)\n",
      "C:\\Users\\inu2sh\\Desktop\\Torch-Physics\\_venv\\lib\\site-packages\\pytorch_lightning\\trainer\\data_loading.py:102: UserWarning: The dataloader, train dataloader, does not have many workers which may be a bottleneck. Consider increasing the value of the `num_workers` argument` (try 8 which is the number of cpus on this machine) in the `DataLoader` init to improve performance.\n",
      "  rank_zero_warn(\n",
      "C:\\Users\\inu2sh\\Desktop\\Torch-Physics\\_venv\\lib\\site-packages\\pytorch_lightning\\trainer\\data_loading.py:102: UserWarning: The dataloader, val dataloader 0, does not have many workers which may be a bottleneck. Consider increasing the value of the `num_workers` argument` (try 8 which is the number of cpus on this machine) in the `DataLoader` init to improve performance.\n",
      "  rank_zero_warn(\n"
     ]
    },
    {
     "data": {
      "application/vnd.jupyter.widget-view+json": {
       "model_id": "c366251793bb4130847aa652f0abab62",
       "version_major": 2,
       "version_minor": 0
      },
      "text/plain": [
       "Training: 0it [00:00, ?it/s]"
      ]
     },
     "metadata": {},
     "output_type": "display_data"
    }
   ],
   "source": [
    "trainer = pl.Trainer(gpus='-1' if torch.cuda.is_available() else None,\n",
    "                     logger=False,\n",
    "                     num_sanity_val_steps=0,\n",
    "                     benchmark=True,\n",
    "                     check_val_every_n_epoch=50,\n",
    "                     log_every_n_steps=10,\n",
    "                     max_epochs=6,\n",
    "                     checkpoint_callback=False\n",
    "                     )\n",
    "\n",
    "trainer.fit(solver, setup)"
   ]
  },
  {
   "cell_type": "code",
   "execution_count": 9,
   "metadata": {},
   "outputs": [
    {
     "name": "stderr",
     "output_type": "stream",
     "text": [
      "GPU available: False, used: False\n",
      "TPU available: False, using: 0 TPU cores\n",
      "\n",
      "  | Name  | Type      | Params\n",
      "------------------------------------\n",
      "0 | model | SimpleFCN | 1.8 K \n",
      "------------------------------------\n",
      "1.8 K     Trainable params\n",
      "0         Non-trainable params\n",
      "1.8 K     Total params\n",
      "0.007     Total estimated model params size (MB)\n"
     ]
    },
    {
     "data": {
      "application/vnd.jupyter.widget-view+json": {
       "model_id": "c2562d4ac28e4c3f82802130a7b612e5",
       "version_major": 2,
       "version_minor": 0
      },
      "text/plain": [
       "Training: 0it [00:00, ?it/s]"
      ]
     },
     "metadata": {},
     "output_type": "display_data"
    }
   ],
   "source": [
    "solver.optimizer = torch.optim.LBFGS\n",
    "solver.lr = 1\n",
    "\n",
    "trainer = pl.Trainer(gpus='-1' if torch.cuda.is_available() else None,\n",
    "                     logger=False,\n",
    "                     num_sanity_val_steps=0,\n",
    "                     benchmark=True,\n",
    "                     check_val_every_n_epoch=50,\n",
    "                     log_every_n_steps=10,\n",
    "                     max_epochs=2,\n",
    "                     checkpoint_callback=False\n",
    "                     )\n",
    "\n",
    "trainer.fit(solver, setup)"
   ]
  },
  {
   "cell_type": "code",
   "execution_count": 10,
   "metadata": {},
   "outputs": [
    {
     "name": "stderr",
     "output_type": "stream",
     "text": [
      "C:\\Users\\inu2sh\\Desktop\\Torch-Physics\\_venv\\lib\\site-packages\\matplotlib\\quiver.py:661: RuntimeWarning: Mean of empty slice.\n",
      "  amean = a[~self.Umask].mean()\n",
      "C:\\Users\\inu2sh\\Desktop\\Torch-Physics\\_venv\\lib\\site-packages\\numpy\\core\\_methods.py:170: RuntimeWarning: invalid value encountered in true_divide\n",
      "  ret = ret.dtype.type(ret / rcount)\n"
     ]
    },
    {
     "data": {
      "image/png": "[encoded data removed]",
      "text/plain": [
       "<Figure size 432x288 with 2 Axes>"
      ]
     },
     "metadata": {
      "needs_background": "light"
     },
     "output_type": "display_data"
    }
   ],
   "source": [
    "from torchphysics.utils.plot import _plot\n",
    "fig = _plot(model=solver.model, plot_variables=x, points=300, angle=[30, 220], \n",
    "            dic_for_other_variables={'t' : 0.6})"
   ]
  },
  {
   "cell_type": "code",
   "execution_count": 11,
   "metadata": {},
   "outputs": [
    {
     "name": "stderr",
     "output_type": "stream",
     "text": [
      "MovieWriter ffmpeg unavailable; using Pillow instead.\n"
     ]
    },
    {
     "data": {
      "image/png": "[encoded data removed]",
      "text/plain": [
       "<Figure size 432x288 with 2 Axes>"
      ]
     },
     "metadata": {
      "needs_background": "light"
     },
     "output_type": "display_data"
    }
   ],
   "source": [
    "%load_ext autoreload\n",
    "%autoreload 2\n",
    "from torchphysics.utils.animation import animation\n",
    "fig, ani = animation(model=solver.model, plot_variables=x, domain_points=300, \n",
    "                animation_variable=t, frame_number=100)\n",
    "ani.save('flow.gif')"
   ]
  },
  {
   "cell_type": "code",
   "execution_count": null,
   "metadata": {},
   "outputs": [],
   "source": []
  }
 ],
 "metadata": {
  "interpreter": {
   "hash": "5471d372aecbf763f050aece93ed861d8318175083d9494b12a3b32f7831ffe8"
  },
  "kernelspec": {
   "display_name": "Python 3",
   "language": "python",
   "name": "python3"
  },
  "language_info": {
   "codemirror_mode": {
    "name": "ipython",
    "version": 3
   },
   "file_extension": ".py",
   "mimetype": "text/x-python",
   "name": "python",
   "nbconvert_exporter": "python",
   "pygments_lexer": "ipython3",
   "version": "3.9.5"
  }
 },
 "nbformat": 4,
 "nbformat_minor": 2
}
