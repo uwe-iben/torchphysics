{
 "cells": [
  {
   "cell_type": "code",
   "execution_count": 7,
   "id": "a0e6ed3d",
   "metadata": {},
   "outputs": [
    {
     "data": {
      "image/png": "[encoded data removed]",
      "text/plain": [
       "<Figure size 432x288 with 1 Axes>"
      ]
     },
     "metadata": {
      "needs_background": "light"
     },
     "output_type": "display_data"
    }
   ],
   "source": [
    "import pandas as pd\n",
    "import numpy as np\n",
    "import matplotlib.pyplot as plt\n",
    "\n",
    "data1_Re50_1  = pd.read_csv(\"data_for_x=[1.0,0.5]_50_1000_50.csv\",header=None,index_col=0)\n",
    "data1_Re50_2  = pd.read_csv(\"data_for_x=[2.0,0.2]_50_1000_50.csv\",header=None,index_col=0)\n",
    "data1_Re200_1 = pd.read_csv(\"data_for_x=[1.0,0.5]_200_x_x_1.csv\",header=None,index_col=0)\n",
    "data1_Re200_2 = pd.read_csv(\"data_for_x=[2.0,0.2]_200_x_x_2.csv\",header=None,index_col=0)\n",
    "data1_Re500_1 = pd.read_csv(\"data_for_x=[1.0,0.5].csv\",header=None,index_col=0)\n",
    "data1_Re500_2 = pd.read_csv(\"data_for_x=[1.0,0.5].csv\",header=None,index_col=0)\n",
    "\n",
    "data1 = data1_Re200_1\n",
    "data1.index.name = 'Time'\n",
    "data1.columns.name = 'u_PINN'\n",
    "\n",
    "\n",
    "data2_Re50_1  = pd.read_csv(\"Burger_IAG/Re50_baseline_RecordPoints_1_05.csv\")\n",
    "data2_Re50_2  = pd.read_csv(\"Burger_IAG/Re50_baseline_RecordPoints_2_02.csv\")\n",
    "#\n",
    "data2_Re200_1 = pd.read_csv(\"Burger_IAG/Re200_baseline_RecordPoints_1_05.csv\")\n",
    "data2_Re200_2 = pd.read_csv(\"Burger_IAG/Re200_baseline_RecordPoints_2_02.csv\")\n",
    "#\n",
    "data2_Re500_1 = pd.read_csv(\"Burger_IAG/Re50_baseline_RecordPoints_1_05.csv\")\n",
    "data2_Re500_2 = pd.read_csv(\"Burger_IAG/Re50_baseline_RecordPoints_2_02.csv\")\n",
    "\n",
    "data2 = data2_Re200_1\n",
    "\n",
    "data2 = data2.set_index(\"Time\")\n",
    "data1_inter = pd.DataFrame(np.interp(data2.index,data1.index,data1.to_numpy().flatten()),\n",
    "                           index = data2.index,columns=data1.columns)\n",
    "data = pd.concat((data1_inter,data2['u']),axis=1)\n",
    "data.columns = ['PINN','DGM (IAG)']\n",
    "data.plot(grid=True)\n",
    "\n",
    "fontsize = 14\n",
    "plt.rc('font', size=fontsize)\n",
    "plt.rc('xtick', labelsize=fontsize)\n",
    "plt.rc('ytick', labelsize=fontsize)\n",
    "plt.savefig('B_200_7_50_2.png', dpi=300)\n",
    "plt.xlabel('time [s]')\n",
    "plt.ylabel('$\\sqrt{u^2+v^2}$')\n",
    "plt.show()\n",
    "\n"
   ]
  },
  {
   "cell_type": "code",
   "execution_count": null,
   "id": "3e6524ec",
   "metadata": {},
   "outputs": [],
   "source": []
  },
  {
   "cell_type": "code",
   "execution_count": null,
   "id": "6f0eef9f",
   "metadata": {},
   "outputs": [],
   "source": []
  },
  {
   "cell_type": "code",
   "execution_count": null,
   "id": "8cc4fac6",
   "metadata": {},
   "outputs": [],
   "source": []
  },
  {
   "cell_type": "code",
   "execution_count": null,
   "id": "40192b7a",
   "metadata": {},
   "outputs": [],
   "source": []
  },
  {
   "cell_type": "code",
   "execution_count": null,
   "id": "6727c4d5",
   "metadata": {},
   "outputs": [],
   "source": []
  },
  {
   "cell_type": "code",
   "execution_count": null,
   "id": "d0ce76bc",
   "metadata": {},
   "outputs": [],
   "source": []
  }
 ],
 "metadata": {
  "kernelspec": {
   "display_name": "Python 3 (ipykernel)",
   "language": "python",
   "name": "python3"
  },
  "language_info": {
   "codemirror_mode": {
    "name": "ipython",
    "version": 3
   },
   "file_extension": ".py",
   "mimetype": "text/x-python",
   "name": "python",
   "nbconvert_exporter": "python",
   "pygments_lexer": "ipython3",
   "version": "3.9.7"
  }
 },
 "nbformat": 4,
 "nbformat_minor": 5
}
