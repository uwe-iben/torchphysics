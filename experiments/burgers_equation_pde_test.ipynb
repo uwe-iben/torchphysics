{
 "metadata": {
  "language_info": {
   "codemirror_mode": {
    "name": "ipython",
    "version": 3
   },
   "file_extension": ".py",
   "mimetype": "text/x-python",
   "name": "python",
   "nbconvert_exporter": "python",
   "pygments_lexer": "ipython3",
   "version": "3.7.4"
  },
  "orig_nbformat": 4,
  "kernelspec": {
   "name": "python3",
   "display_name": "Python 3",
   "language": "python"
  },
  "interpreter": {
   "hash": "5471d372aecbf763f050aece93ed861d8318175083d9494b12a3b32f7831ffe8"
  }
 },
 "nbformat": 4,
 "nbformat_minor": 2,
 "cells": [
  {
   "cell_type": "code",
   "execution_count": 1,
   "metadata": {},
   "outputs": [
    {
     "output_type": "stream",
     "name": "stderr",
     "text": [
      "/home/nick7/anaconda3/envs/bosch-pde/lib/python3.9/site-packages/pytorch_lightning/metrics/__init__.py:43: LightningDeprecationWarning: `pytorch_lightning.metrics.*` module has been renamed to `torchmetrics.*` and split off to its own package (https://github.com/PyTorchLightning/metrics) since v1.3 and will be removed in v1.5\n  rank_zero_deprecation(\n"
     ]
    }
   ],
   "source": [
    "import torch\n",
    "from torchphysics.utils import jac, laplacian\n",
    "\n",
    "Re = 10\n",
    "def pde(u, input):\n",
    "    jac_t = jac(u, input['t'])\n",
    "    jac_x = jac(u, input['x'])\n",
    "    conv = torch.bmm(jac_x, u.reshape(u.shape[0], 2, 1))\n",
    "    l_1 = laplacian(u[:, 0], input['x'], grad=jac_x[:, 0, :])\n",
    "    l_2 = laplacian(u[:, 1], input['x'], grad=jac_x[:, 1, :])\n",
    "    laplace_vec = torch.cat((l_1, l_2), dim=1)\n",
    "    return (jac_t + conv).reshape(u.shape[0], 2) - 1/Re * laplace_vec\n"
   ]
  },
  {
   "cell_type": "code",
   "execution_count": 2,
   "metadata": {},
   "outputs": [
    {
     "output_type": "error",
     "ename": "TypeError",
     "evalue": "new(): invalid data type 'str'",
     "traceback": [
      "\u001b[0;31m---------------------------------------------------------------------------\u001b[0m",
      "\u001b[0;31mTypeError\u001b[0m                                 Traceback (most recent call last)",
      "\u001b[0;32m<ipython-input-2-50ea5c2d7077>\u001b[0m in \u001b[0;36m<module>\u001b[0;34m\u001b[0m\n\u001b[1;32m     10\u001b[0m \u001b[0minp\u001b[0m \u001b[0;34m=\u001b[0m \u001b[0mtorch\u001b[0m\u001b[0;34m.\u001b[0m\u001b[0mcat\u001b[0m\u001b[0;34m(\u001b[0m\u001b[0;34m(\u001b[0m\u001b[0mx\u001b[0m\u001b[0;34m,\u001b[0m \u001b[0mt\u001b[0m\u001b[0;34m)\u001b[0m\u001b[0;34m,\u001b[0m \u001b[0mdim\u001b[0m\u001b[0;34m=\u001b[0m\u001b[0;36m1\u001b[0m\u001b[0;34m)\u001b[0m\u001b[0;34m\u001b[0m\u001b[0;34m\u001b[0m\u001b[0m\n\u001b[1;32m     11\u001b[0m \u001b[0mo\u001b[0m \u001b[0;34m=\u001b[0m \u001b[0mf\u001b[0m\u001b[0;34m(\u001b[0m\u001b[0minp\u001b[0m\u001b[0;34m)\u001b[0m\u001b[0;34m\u001b[0m\u001b[0;34m\u001b[0m\u001b[0m\n\u001b[0;32m---> 12\u001b[0;31m \u001b[0mprint\u001b[0m\u001b[0;34m(\u001b[0m\u001b[0mpde\u001b[0m\u001b[0;34m(\u001b[0m\u001b[0mo\u001b[0m\u001b[0;34m,\u001b[0m \u001b[0minp\u001b[0m\u001b[0;34m)\u001b[0m\u001b[0;34m)\u001b[0m\u001b[0;34m\u001b[0m\u001b[0;34m\u001b[0m\u001b[0m\n\u001b[0m",
      "\u001b[0;32m<ipython-input-1-87d5c95788e4>\u001b[0m in \u001b[0;36mpde\u001b[0;34m(u, input)\u001b[0m\n\u001b[1;32m      4\u001b[0m \u001b[0mRe\u001b[0m \u001b[0;34m=\u001b[0m \u001b[0;36m10\u001b[0m\u001b[0;34m\u001b[0m\u001b[0;34m\u001b[0m\u001b[0m\n\u001b[1;32m      5\u001b[0m \u001b[0;32mdef\u001b[0m \u001b[0mpde\u001b[0m\u001b[0;34m(\u001b[0m\u001b[0mu\u001b[0m\u001b[0;34m,\u001b[0m \u001b[0minput\u001b[0m\u001b[0;34m)\u001b[0m\u001b[0;34m:\u001b[0m\u001b[0;34m\u001b[0m\u001b[0;34m\u001b[0m\u001b[0m\n\u001b[0;32m----> 6\u001b[0;31m     \u001b[0mjac_t\u001b[0m \u001b[0;34m=\u001b[0m \u001b[0mjac\u001b[0m\u001b[0;34m(\u001b[0m\u001b[0mu\u001b[0m\u001b[0;34m,\u001b[0m \u001b[0minput\u001b[0m\u001b[0;34m[\u001b[0m\u001b[0;34m't'\u001b[0m\u001b[0;34m]\u001b[0m\u001b[0;34m)\u001b[0m\u001b[0;34m\u001b[0m\u001b[0;34m\u001b[0m\u001b[0m\n\u001b[0m\u001b[1;32m      7\u001b[0m     \u001b[0mjac_x\u001b[0m \u001b[0;34m=\u001b[0m \u001b[0mjac\u001b[0m\u001b[0;34m(\u001b[0m\u001b[0mu\u001b[0m\u001b[0;34m,\u001b[0m \u001b[0minput\u001b[0m\u001b[0;34m[\u001b[0m\u001b[0;34m'x'\u001b[0m\u001b[0;34m]\u001b[0m\u001b[0;34m)\u001b[0m\u001b[0;34m\u001b[0m\u001b[0;34m\u001b[0m\u001b[0m\n\u001b[1;32m      8\u001b[0m     \u001b[0mconv\u001b[0m \u001b[0;34m=\u001b[0m \u001b[0mtorch\u001b[0m\u001b[0;34m.\u001b[0m\u001b[0mbmm\u001b[0m\u001b[0;34m(\u001b[0m\u001b[0mjac_x\u001b[0m\u001b[0;34m,\u001b[0m \u001b[0mu\u001b[0m\u001b[0;34m.\u001b[0m\u001b[0mreshape\u001b[0m\u001b[0;34m(\u001b[0m\u001b[0mu\u001b[0m\u001b[0;34m.\u001b[0m\u001b[0mshape\u001b[0m\u001b[0;34m[\u001b[0m\u001b[0;36m0\u001b[0m\u001b[0;34m]\u001b[0m\u001b[0;34m,\u001b[0m \u001b[0;36m2\u001b[0m\u001b[0;34m,\u001b[0m \u001b[0;36m1\u001b[0m\u001b[0;34m)\u001b[0m\u001b[0;34m)\u001b[0m\u001b[0;34m\u001b[0m\u001b[0;34m\u001b[0m\u001b[0m\n",
      "\u001b[0;31mTypeError\u001b[0m: new(): invalid data type 'str'"
     ]
    }
   ],
   "source": [
    "import torch\n",
    "from torchphysics.utils import grad, jac, laplacian\n",
    "def f(input):\n",
    "    out = torch.zeros((input.shape[0], 2))\n",
    "    out[:, :1] = input[:, :1]**2*input[:, 1:2]**2\n",
    "    out[:, 1:] = torch.sin(input[:, 2:]*input[:, 1:2])\n",
    "    return out\n",
    "x = torch.tensor([[1.0, 2], [1, 1], [3, 4], [3, 0]], requires_grad=True)\n",
    "t = torch.tensor([[3.0], [0], [1], [2]], requires_grad=True)\n",
    "inp = torch.cat((x, t), dim=1)\n",
    "o = f(inp)\n",
    "print(o)"
   ]
  },
  {
   "cell_type": "code",
   "execution_count": 5,
   "metadata": {},
   "outputs": [
    {
     "output_type": "stream",
     "name": "stdout",
     "text": [
      "tensor([[[ 0.0000],\n         [ 1.9203]],\n\n        [[ 0.0000],\n         [ 1.0000]],\n\n        [[ 0.0000],\n         [-2.6146]],\n\n        [[ 0.0000],\n         [ 0.0000]]], grad_fn=<StackBackward>)\ntensor([[[ 8.0000,  4.0000],\n         [ 0.0000,  2.8805]],\n\n        [[ 2.0000,  2.0000],\n         [ 0.0000,  0.0000]],\n\n        [[96.0000, 72.0000],\n         [ 0.0000, -0.6536]],\n\n        [[ 0.0000,  0.0000],\n         [ 0.0000,  2.0000]]], grad_fn=<StackBackward>)\n"
     ]
    }
   ],
   "source": [
    "jac_t = jac(o, t)\n",
    "jac_x = jac(o, x)\n",
    "print(jac_t)\n",
    "print(jac_x)"
   ]
  },
  {
   "cell_type": "code",
   "execution_count": 12,
   "metadata": {},
   "outputs": [
    {
     "output_type": "stream",
     "name": "stdout",
     "text": [
      "tensor([[[ 3.0882e+01],\n         [-8.0486e-01]],\n\n        [[ 2.0000e+00],\n         [ 0.0000e+00]],\n\n        [[ 1.3770e+04],\n         [ 4.9468e-01]],\n\n        [[ 0.0000e+00],\n         [ 0.0000e+00]]], grad_fn=<BmmBackward0>)\n"
     ]
    },
    {
     "output_type": "execute_result",
     "data": {
      "text/plain": [
       "tensor([[ 3.0882e+01,  1.1155e+00],\n",
       "        [ 2.0000e+00,  1.0000e+00],\n",
       "        [ 1.3770e+04, -2.1199e+00],\n",
       "        [ 0.0000e+00,  0.0000e+00]], grad_fn=<ViewBackward>)"
      ]
     },
     "metadata": {},
     "execution_count": 12
    }
   ],
   "source": [
    "conv = torch.bmm(jac_x, o.reshape(o.shape[0], 2, 1))\n",
    "print(conv)\n",
    "(jac_t + conv).reshape(o.shape[0], 2)"
   ]
  },
  {
   "cell_type": "code",
   "execution_count": 17,
   "metadata": {},
   "outputs": [
    {
     "output_type": "stream",
     "name": "stdout",
     "text": [
      "tensor([[10.],\n        [ 4.],\n        [50.],\n        [18.]], grad_fn=<AddBackward0>)\ntensor([[10.],\n        [ 4.],\n        [50.],\n        [18.]], grad_fn=<AddBackward0>)\n"
     ]
    }
   ],
   "source": [
    "l_1 = laplacian(o[:, 0], x, grad=jac_x[:, 0, :])\n",
    "print(laplacian(o[:, 0], x))\n",
    "print(l_1)"
   ]
  },
  {
   "cell_type": "code",
   "execution_count": 18,
   "metadata": {},
   "outputs": [
    {
     "output_type": "stream",
     "name": "stdout",
     "text": [
      "tensor([[2.5147],\n        [0.0000],\n        [0.7568],\n        [0.0000]], grad_fn=<AddBackward0>)\ntensor([[2.5147],\n        [0.0000],\n        [0.7568],\n        [0.0000]], grad_fn=<AddBackward0>)\n"
     ]
    }
   ],
   "source": [
    "l_1 = laplacian(o[:, 1], x, grad=jac_x[:, 1, :])\n",
    "print(laplacian(o[:, 1], x))\n",
    "print(l_1)"
   ]
  },
  {
   "cell_type": "code",
   "execution_count": 21,
   "metadata": {},
   "outputs": [
    {
     "output_type": "execute_result",
     "data": {
      "text/plain": [
       "tensor([[ 3.0379e+01,  6.1253e-01],\n",
       "        [ 2.0000e+00,  1.0000e+00],\n",
       "        [ 1.3769e+04, -2.2713e+00],\n",
       "        [ 0.0000e+00,  0.0000e+00]], grad_fn=<SubBackward0>)"
      ]
     },
     "metadata": {},
     "execution_count": 21
    }
   ],
   "source": [
    "(jac_t + conv).reshape(o.shape[0], 2) - 1/5 * torch.cat((l_1, l_2), dim=1)"
   ]
  },
  {
   "cell_type": "code",
   "execution_count": null,
   "metadata": {},
   "outputs": [],
   "source": []
  }
 ]
}